{
  "nbformat": 4,
  "nbformat_minor": 0,
  "metadata": {
    "colab": {
      "name": "4_2_Sentiment_Analysis(Exercise).ipynb",
      "provenance": [],
      "toc_visible": true,
      "authorship_tag": "ABX9TyMyML5/iAMDUSTQEwyL+blG",
      "include_colab_link": true
    },
    "kernelspec": {
      "name": "python3",
      "display_name": "Python 3"
    }
  },
  "cells": [
    {
      "cell_type": "markdown",
      "metadata": {
        "id": "view-in-github",
        "colab_type": "text"
      },
      "source": [
        "<a href=\"https://colab.research.google.com/github/ManojKumarTiwari/Tensorflow2AndKeras/blob/master/4_2_Sentiment_Analysis(Exercise).ipynb\" target=\"_parent\"><img src=\"https://colab.research.google.com/assets/colab-badge.svg\" alt=\"Open In Colab\"/></a>"
      ]
    },
    {
      "cell_type": "markdown",
      "metadata": {
        "id": "FZeR3GoDb7d5",
        "colab_type": "text"
      },
      "source": [
        "# Contents (Incomplete)\n",
        "- Overview\n",
        "- Imports"
      ]
    },
    {
      "cell_type": "markdown",
      "metadata": {
        "id": "CWnmyPNJb84g",
        "colab_type": "text"
      },
      "source": [
        "# Overview\n",
        "- This is for practise, you can skip if you have gone through previous two notebooks on RNNs\n",
        "\n",
        "- Dataset\n",
        "  - Original - https://www.kaggle.com/lakshmi25npathi/imdb-dataset-of-50k-movie-reviews\n",
        "  - But we will be using the dataset provided by keras because the purpose of this notebook is to illustrate on how to build RNN models and NOT on NLP Task.\n",
        "  - The data is already prepocessed that is it has been tokenized and vectorized with TF-IDFs "
      ]
    },
    {
      "cell_type": "markdown",
      "metadata": {
        "id": "r9PcjM4_b91R",
        "colab_type": "text"
      },
      "source": [
        "# Imports"
      ]
    },
    {
      "cell_type": "code",
      "metadata": {
        "id": "3OXmPOk1bzUo",
        "colab_type": "code",
        "colab": {}
      },
      "source": [
        "# !pip install --upgrade tensorflow-gpu"
      ],
      "execution_count": 0,
      "outputs": []
    },
    {
      "cell_type": "code",
      "metadata": {
        "id": "sW9JOE2Kd1D0",
        "colab_type": "code",
        "outputId": "1a1027f1-db3c-44f6-fa14-96fc5b4c5ceb",
        "colab": {
          "base_uri": "https://localhost:8080/",
          "height": 34
        }
      },
      "source": [
        "import tensorflow as tf\n",
        "tf.__version__"
      ],
      "execution_count": 0,
      "outputs": [
        {
          "output_type": "execute_result",
          "data": {
            "text/plain": [
              "'2.1.0'"
            ]
          },
          "metadata": {
            "tags": []
          },
          "execution_count": 2
        }
      ]
    },
    {
      "cell_type": "code",
      "metadata": {
        "id": "uAiEM_XFegwn",
        "colab_type": "code",
        "colab": {}
      },
      "source": [
        ""
      ],
      "execution_count": 0,
      "outputs": []
    }
  ]
}