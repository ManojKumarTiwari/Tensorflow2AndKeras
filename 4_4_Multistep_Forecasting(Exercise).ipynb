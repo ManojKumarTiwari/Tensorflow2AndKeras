{
  "nbformat": 4,
  "nbformat_minor": 0,
  "metadata": {
    "colab": {
      "name": "4_4_Multistep_Forecasting(Exercise).ipynb",
      "provenance": [],
      "toc_visible": true,
      "authorship_tag": "ABX9TyMpRH4Iev3RDxR+7fJ0aGll",
      "include_colab_link": true
    },
    "kernelspec": {
      "name": "python3",
      "display_name": "Python 3"
    }
  },
  "cells": [
    {
      "cell_type": "markdown",
      "metadata": {
        "id": "view-in-github",
        "colab_type": "text"
      },
      "source": [
        "<a href=\"https://colab.research.google.com/github/ManojKumarTiwari/Tensorflow2AndKeras/blob/master/4_4_Multistep_Forecasting(Exercise).ipynb\" target=\"_parent\"><img src=\"https://colab.research.google.com/assets/colab-badge.svg\" alt=\"Open In Colab\"/></a>"
      ]
    },
    {
      "cell_type": "markdown",
      "metadata": {
        "id": "ENyXPHi6meIL",
        "colab_type": "text"
      },
      "source": [
        "# Contents\n",
        "- Overview\n",
        "- Imports"
      ]
    },
    {
      "cell_type": "markdown",
      "metadata": {
        "id": "WYuqHHZWmfX-",
        "colab_type": "text"
      },
      "source": [
        "# Overview\n",
        "- Dataset\n",
        "http://archive.ics.uci.edu/ml/machine-learning-databases/00235/\n",
        "- We will predict next weeks power consumption given pervious week's data, Thus making it a multi-step times series prediction (forcasting problem)"
      ]
    },
    {
      "cell_type": "markdown",
      "metadata": {
        "id": "0_rQGqI-mfjp",
        "colab_type": "text"
      },
      "source": [
        "# Imports"
      ]
    },
    {
      "cell_type": "code",
      "metadata": {
        "id": "x4h-j1cxmb4y",
        "colab_type": "code",
        "outputId": "f686e5b1-5b78-4b01-d3b2-fc8c063e19c8",
        "colab": {
          "base_uri": "https://localhost:8080/",
          "height": 34
        }
      },
      "source": [
        "import tensorflow as tf\n",
        "tf.__version__"
      ],
      "execution_count": 0,
      "outputs": [
        {
          "output_type": "execute_result",
          "data": {
            "text/plain": [
              "'2.2.0-rc3'"
            ]
          },
          "metadata": {
            "tags": []
          },
          "execution_count": 1
        }
      ]
    },
    {
      "cell_type": "code",
      "metadata": {
        "id": "5EyUguY5m3u-",
        "colab_type": "code",
        "colab": {}
      },
      "source": [
        ""
      ],
      "execution_count": 0,
      "outputs": []
    }
  ]
}