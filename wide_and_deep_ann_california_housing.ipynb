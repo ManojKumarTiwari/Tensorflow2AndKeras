{
  "nbformat": 4,
  "nbformat_minor": 0,
  "metadata": {
    "colab": {
      "name": "wide_and_deep_ann_california_housing.ipynb",
      "provenance": [],
      "authorship_tag": "ABX9TyOSgLkmQox4mD8f/qJQ8t0o",
      "include_colab_link": true
    },
    "kernelspec": {
      "name": "python3",
      "display_name": "Python 3"
    }
  },
  "cells": [
    {
      "cell_type": "markdown",
      "metadata": {
        "id": "view-in-github",
        "colab_type": "text"
      },
      "source": [
        "<a href=\"https://colab.research.google.com/github/ManojKumarTiwari/Tensorflow2AndKeras/blob/master/wide_and_deep_ann_california_housing.ipynb\" target=\"_parent\"><img src=\"https://colab.research.google.com/assets/colab-badge.svg\" alt=\"Open In Colab\"/></a>"
      ]
    },
    {
      "cell_type": "markdown",
      "metadata": {
        "id": "5v69lJ6RJN7z",
        "colab_type": "text"
      },
      "source": [
        "# content\n",
        "- we will learn to use funnctional api to create model"
      ]
    },
    {
      "cell_type": "code",
      "metadata": {
        "id": "T4rNFJmDS9LJ",
        "colab_type": "code",
        "colab": {
          "base_uri": "https://localhost:8080/",
          "height": 470
        },
        "outputId": "de6825b3-b091-4712-abc3-ce86df7b9657"
      },
      "source": [
        "from IPython.display import Image\n",
        "Image(\"/content/mls2_1014.png\", width=500)"
      ],
      "execution_count": 28,
      "outputs": [
        {
          "output_type": "execute_result",
          "data": {
            "image/png": "[encoded data removed]",
            "text/plain": [
              "<IPython.core.display.Image object>"
            ]
          },
          "metadata": {
            "tags": [],
            "image/png": {
              "width": 500
            }
          },
          "execution_count": 28
        }
      ]
    },
    {
      "cell_type": "markdown",
      "metadata": {
        "id": "mfRMetXiJIgF",
        "colab_type": "text"
      },
      "source": [
        "# import"
      ]
    },
    {
      "cell_type": "code",
      "metadata": {
        "id": "wlfx7sZhIO_7",
        "colab_type": "code",
        "colab": {
          "base_uri": "https://localhost:8080/",
          "height": 50
        },
        "outputId": "485c94e1-8486-4c60-88a0-84ffc95722c6"
      },
      "source": [
        "import tensorflow as tf\n",
        "from tensorflow import keras\n",
        "print(tf.__version__)\n",
        "print(keras.__version__)"
      ],
      "execution_count": 2,
      "outputs": [
        {
          "output_type": "stream",
          "text": [
            "2.2.0\n",
            "2.3.0-tf\n"
          ],
          "name": "stdout"
        }
      ]
    },
    {
      "cell_type": "code",
      "metadata": {
        "id": "ecETFpH0KnOf",
        "colab_type": "code",
        "colab": {}
      },
      "source": [
        "# dataset\n",
        "from sklearn.datasets import fetch_california_housing\n",
        "\n",
        "# model\n",
        "from keras import Model\n",
        "# layer\n",
        "from keras.layers import Input, Dense, Concatenate\n",
        "# activation\n",
        "from keras.activations import relu\n",
        "# optimization\n",
        "from keras.optimizers import adam\n",
        "# loss\n",
        "from keras.losses import mean_squared_error\n",
        "\n",
        "from sklearn.model_selection import train_test_split\n",
        "from sklearn.preprocessing import StandardScaler"
      ],
      "execution_count": 0,
      "outputs": []
    },
    {
      "cell_type": "code",
      "metadata": {
        "id": "y9lWFgwRLp-H",
        "colab_type": "code",
        "colab": {}
      },
      "source": [
        "import numpy as np\n",
        "import pandas as pd\n",
        "import matplotlib.pyplot as plt"
      ],
      "execution_count": 0,
      "outputs": []
    },
    {
      "cell_type": "markdown",
      "metadata": {
        "id": "EDVw4fMuLxLm",
        "colab_type": "text"
      },
      "source": [
        "# load the data"
      ]
    },
    {
      "cell_type": "code",
      "metadata": {
        "id": "mxMjwHunLwQT",
        "colab_type": "code",
        "colab": {
          "base_uri": "https://localhost:8080/",
          "height": 34
        },
        "outputId": "a82f554f-cecd-417b-fc0f-86519bcd9199"
      },
      "source": [
        "dataset = fetch_california_housing()"
      ],
      "execution_count": 5,
      "outputs": [
        {
          "output_type": "stream",
          "text": [
            "Downloading Cal. housing from https://ndownloader.figshare.com/files/5976036 to /root/scikit_learn_data\n"
          ],
          "name": "stderr"
        }
      ]
    },
    {
      "cell_type": "code",
      "metadata": {
        "id": "Yr6dY8Z4L1Tn",
        "colab_type": "code",
        "colab": {
          "base_uri": "https://localhost:8080/",
          "height": 34
        },
        "outputId": "b10b16fe-437b-4111-e284-6dc2a3a43ae0"
      },
      "source": [
        "dataset.keys()"
      ],
      "execution_count": 6,
      "outputs": [
        {
          "output_type": "execute_result",
          "data": {
            "text/plain": [
              "dict_keys(['data', 'target', 'feature_names', 'DESCR'])"
            ]
          },
          "metadata": {
            "tags": []
          },
          "execution_count": 6
        }
      ]
    },
    {
      "cell_type": "code",
      "metadata": {
        "id": "GGHaUJLJL1WQ",
        "colab_type": "code",
        "colab": {}
      },
      "source": [
        "X = dataset.data\n",
        "y = dataset.target"
      ],
      "execution_count": 0,
      "outputs": []
    },
    {
      "cell_type": "markdown",
      "metadata": {
        "id": "WL9fbINlVLFJ",
        "colab_type": "text"
      },
      "source": [
        "# spilt the data"
      ]
    },
    {
      "cell_type": "code",
      "metadata": {
        "id": "J1Qr-HtBL1dY",
        "colab_type": "code",
        "colab": {}
      },
      "source": [
        "X_train, X_test, y_train, y_test = train_test_split(X, y, test_size=0.2, random_state=42)"
      ],
      "execution_count": 0,
      "outputs": []
    },
    {
      "cell_type": "code",
      "metadata": {
        "id": "Tf_Cd8gKL1kr",
        "colab_type": "code",
        "colab": {}
      },
      "source": [
        "X_train, X_valid, y_train, y_valid = train_test_split(X_train, y_train, test_size=0.2, random_state=42)"
      ],
      "execution_count": 0,
      "outputs": []
    },
    {
      "cell_type": "code",
      "metadata": {
        "id": "f9lSyBDWOQKv",
        "colab_type": "code",
        "colab": {
          "base_uri": "https://localhost:8080/",
          "height": 34
        },
        "outputId": "82cdcc71-7561-4faf-857e-5d8223b851cc"
      },
      "source": [
        "X_train.shape"
      ],
      "execution_count": 10,
      "outputs": [
        {
          "output_type": "execute_result",
          "data": {
            "text/plain": [
              "(13209, 8)"
            ]
          },
          "metadata": {
            "tags": []
          },
          "execution_count": 10
        }
      ]
    },
    {
      "cell_type": "code",
      "metadata": {
        "id": "wU2Bsa6TPoAz",
        "colab_type": "code",
        "colab": {
          "base_uri": "https://localhost:8080/",
          "height": 34
        },
        "outputId": "a23d944a-d94c-4a76-81b3-d094a96d4acd"
      },
      "source": [
        "X_train.shape[1:]"
      ],
      "execution_count": 14,
      "outputs": [
        {
          "output_type": "execute_result",
          "data": {
            "text/plain": [
              "(8,)"
            ]
          },
          "metadata": {
            "tags": []
          },
          "execution_count": 14
        }
      ]
    },
    {
      "cell_type": "markdown",
      "metadata": {
        "id": "RvdsCDH8VOQ3",
        "colab_type": "text"
      },
      "source": [
        "# standardized"
      ]
    },
    {
      "cell_type": "code",
      "metadata": {
        "id": "NFujtcvlVSxi",
        "colab_type": "code",
        "colab": {}
      },
      "source": [
        "sc = StandardScaler()\n",
        "X_train = sc.fit_transform(X_train)\n",
        "X_valid = sc.transform(X_valid)\n",
        "X_test = sc.transform(X_test)"
      ],
      "execution_count": 0,
      "outputs": []
    },
    {
      "cell_type": "markdown",
      "metadata": {
        "id": "gJZj_DZPOFlJ",
        "colab_type": "text"
      },
      "source": [
        "# build the ann"
      ]
    },
    {
      "cell_type": "code",
      "metadata": {
        "id": "KvovaPrDL1nO",
        "colab_type": "code",
        "colab": {
          "base_uri": "https://localhost:8080/",
          "height": 70
        },
        "outputId": "7b017b3a-873a-48e1-b1ad-93d7a9eebc6a"
      },
      "source": [
        "input_ = Input(shape=[8])\n",
        "hidden1 = Dense(units=300, activation=relu)(input_)\n",
        "hidden2 = Dense(units=100, activation=relu)(hidden1)\n",
        "concat = Concatenate()([input_, hidden2])\n",
        "output = Dense(units=1)(concat)\n",
        "model = Model(input=[input_], output=[output])"
      ],
      "execution_count": 23,
      "outputs": [
        {
          "output_type": "stream",
          "text": [
            "/usr/local/lib/python3.6/dist-packages/ipykernel_launcher.py:6: UserWarning: Update your `Model` call to the Keras 2 API: `Model(inputs=[<tf.Tenso..., outputs=[<tf.Tenso...)`\n",
            "  \n"
          ],
          "name": "stderr"
        }
      ]
    },
    {
      "cell_type": "code",
      "metadata": {
        "id": "W5tYoJ_BL1rf",
        "colab_type": "code",
        "colab": {
          "base_uri": "https://localhost:8080/",
          "height": 336
        },
        "outputId": "36cfe689-6d8b-4480-909f-4734bbd88eb6"
      },
      "source": [
        "model.summary()"
      ],
      "execution_count": 24,
      "outputs": [
        {
          "output_type": "stream",
          "text": [
            "Model: \"model_2\"\n",
            "__________________________________________________________________________________________________\n",
            "Layer (type)                    Output Shape         Param #     Connected to                     \n",
            "==================================================================================================\n",
            "input_9 (InputLayer)            (None, 8)            0                                            \n",
            "__________________________________________________________________________________________________\n",
            "dense_9 (Dense)                 (None, 300)          2700        input_9[0][0]                    \n",
            "__________________________________________________________________________________________________\n",
            "dense_10 (Dense)                (None, 100)          30100       dense_9[0][0]                    \n",
            "__________________________________________________________________________________________________\n",
            "concatenate_3 (Concatenate)     (None, 108)          0           input_9[0][0]                    \n",
            "                                                                 dense_10[0][0]                   \n",
            "__________________________________________________________________________________________________\n",
            "dense_11 (Dense)                (None, 1)            109         concatenate_3[0][0]              \n",
            "==================================================================================================\n",
            "Total params: 32,909\n",
            "Trainable params: 32,909\n",
            "Non-trainable params: 0\n",
            "__________________________________________________________________________________________________\n"
          ],
          "name": "stdout"
        }
      ]
    },
    {
      "cell_type": "markdown",
      "metadata": {
        "id": "IQVkQYH6Rk35",
        "colab_type": "text"
      },
      "source": [
        "# compile the model"
      ]
    },
    {
      "cell_type": "code",
      "metadata": {
        "id": "nYGiUi9vL1xn",
        "colab_type": "code",
        "colab": {}
      },
      "source": [
        "model.compile(optimizer='adam', loss=mean_squared_error)"
      ],
      "execution_count": 0,
      "outputs": []
    },
    {
      "cell_type": "markdown",
      "metadata": {
        "id": "INQ4QJRBRwqs",
        "colab_type": "text"
      },
      "source": [
        "# train the model"
      ]
    },
    {
      "cell_type": "code",
      "metadata": {
        "id": "0UQXb7n7L127",
        "colab_type": "code",
        "colab": {
          "base_uri": "https://localhost:8080/",
          "height": 370
        },
        "outputId": "5bf8fce7-9186-4487-f94b-d1365188992b"
      },
      "source": [
        "history = model.fit(X_train, y_train, batch_size=100, epochs=10, validation_data=[X_valid, y_valid])"
      ],
      "execution_count": 30,
      "outputs": [
        {
          "output_type": "stream",
          "text": [
            "Train on 13209 samples, validate on 3303 samples\n",
            "Epoch 1/10\n",
            "13209/13209 [==============================] - 0s 32us/step - loss: 0.7902 - val_loss: 0.5011\n",
            "Epoch 2/10\n",
            "13209/13209 [==============================] - 0s 31us/step - loss: 0.3832 - val_loss: 0.4044\n",
            "Epoch 3/10\n",
            "13209/13209 [==============================] - 0s 28us/step - loss: 0.3562 - val_loss: 0.3749\n",
            "Epoch 4/10\n",
            "13209/13209 [==============================] - 0s 28us/step - loss: 0.3452 - val_loss: 0.3751\n",
            "Epoch 5/10\n",
            "13209/13209 [==============================] - 0s 28us/step - loss: 0.3359 - val_loss: 0.3874\n",
            "Epoch 6/10\n",
            "13209/13209 [==============================] - 0s 26us/step - loss: 0.3341 - val_loss: 0.3710\n",
            "Epoch 7/10\n",
            "13209/13209 [==============================] - 0s 28us/step - loss: 0.3186 - val_loss: 0.3671\n",
            "Epoch 8/10\n",
            "13209/13209 [==============================] - 0s 30us/step - loss: 0.3158 - val_loss: 0.3806\n",
            "Epoch 9/10\n",
            "13209/13209 [==============================] - 0s 28us/step - loss: 0.3087 - val_loss: 0.3701\n",
            "Epoch 10/10\n",
            "13209/13209 [==============================] - 0s 29us/step - loss: 0.3072 - val_loss: 0.3326\n"
          ],
          "name": "stdout"
        }
      ]
    },
    {
      "cell_type": "markdown",
      "metadata": {
        "id": "9r0jdnG4SPAf",
        "colab_type": "text"
      },
      "source": [
        "# evaluate"
      ]
    },
    {
      "cell_type": "code",
      "metadata": {
        "id": "0ZiX9lR_L16v",
        "colab_type": "code",
        "colab": {
          "base_uri": "https://localhost:8080/",
          "height": 50
        },
        "outputId": "2c5e49d3-9b52-4f6f-e68f-1cba57824016"
      },
      "source": [
        "model.evaluate(X_test, y_test)"
      ],
      "execution_count": 31,
      "outputs": [
        {
          "output_type": "stream",
          "text": [
            "4128/4128 [==============================] - 0s 21us/step\n"
          ],
          "name": "stdout"
        },
        {
          "output_type": "execute_result",
          "data": {
            "text/plain": [
              "0.31373763667751653"
            ]
          },
          "metadata": {
            "tags": []
          },
          "execution_count": 31
        }
      ]
    },
    {
      "cell_type": "code",
      "metadata": {
        "id": "1Zdsb2sUL2HN",
        "colab_type": "code",
        "colab": {}
      },
      "source": [
        ""
      ],
      "execution_count": 0,
      "outputs": []
    },
    {
      "cell_type": "code",
      "metadata": {
        "id": "8Zue4kjlL11H",
        "colab_type": "code",
        "colab": {}
      },
      "source": [
        ""
      ],
      "execution_count": 0,
      "outputs": []
    },
    {
      "cell_type": "code",
      "metadata": {
        "id": "HytAy4flL1iU",
        "colab_type": "code",
        "colab": {}
      },
      "source": [
        ""
      ],
      "execution_count": 0,
      "outputs": []
    },
    {
      "cell_type": "code",
      "metadata": {
        "id": "ZkB7DL_EL1gl",
        "colab_type": "code",
        "colab": {}
      },
      "source": [
        ""
      ],
      "execution_count": 0,
      "outputs": []
    },
    {
      "cell_type": "code",
      "metadata": {
        "id": "n-4Gvil3L1bG",
        "colab_type": "code",
        "colab": {}
      },
      "source": [
        ""
      ],
      "execution_count": 0,
      "outputs": []
    },
    {
      "cell_type": "code",
      "metadata": {
        "id": "ylfk2hGPL1Zv",
        "colab_type": "code",
        "colab": {}
      },
      "source": [
        ""
      ],
      "execution_count": 0,
      "outputs": []
    }
  ]
}