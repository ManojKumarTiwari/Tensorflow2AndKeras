{
  "nbformat": 4,
  "nbformat_minor": 0,
  "metadata": {
    "colab": {
      "name": "wide_and_deep_ex2.ipynb",
      "provenance": [],
      "authorship_tag": "ABX9TyPYBoHzytKcd7zW2RfavS3E",
      "include_colab_link": true
    },
    "kernelspec": {
      "name": "python3",
      "display_name": "Python 3"
    }
  },
  "cells": [
    {
      "cell_type": "markdown",
      "metadata": {
        "id": "view-in-github",
        "colab_type": "text"
      },
      "source": [
        "<a href=\"https://colab.research.google.com/github/ManojKumarTiwari/Tensorflow2AndKeras/blob/master/wide_and_deep_ex2.ipynb\" target=\"_parent\"><img src=\"https://colab.research.google.com/assets/colab-badge.svg\" alt=\"Open In Colab\"/></a>"
      ]
    },
    {
      "cell_type": "markdown",
      "metadata": {
        "id": "Vsc6cnG1T_Ty",
        "colab_type": "text"
      },
      "source": [
        "# content\n",
        "- we will implement the following wide and deep network\n",
        "- also we will pass 6 features from the deep network and 5 from the wide network"
      ]
    },
    {
      "cell_type": "code",
      "metadata": {
        "id": "nBcLAY4DUCNc",
        "colab_type": "code",
        "colab": {
          "base_uri": "https://localhost:8080/",
          "height": 530
        },
        "outputId": "29ffd00f-49f4-4ece-bb2e-d45e94baf610"
      },
      "source": [
        "from IPython.display import Image\n",
        "Image(\"/content/mls2_1015.png\", width=500)"
      ],
      "execution_count": 1,
      "outputs": [
        {
          "output_type": "execute_result",
          "data": {
            "image/png": "[encoded data removed]",
            "text/plain": [
              "<IPython.core.display.Image object>"
            ]
          },
          "metadata": {
            "tags": [],
            "image/png": {
              "width": 500
            }
          },
          "execution_count": 1
        }
      ]
    },
    {
      "cell_type": "markdown",
      "metadata": {
        "id": "SyzXkcrJT1Wz",
        "colab_type": "text"
      },
      "source": [
        "# import"
      ]
    },
    {
      "cell_type": "code",
      "metadata": {
        "id": "u5Hhg9WHTrSK",
        "colab_type": "code",
        "colab": {
          "base_uri": "https://localhost:8080/",
          "height": 67
        },
        "outputId": "61c38bfc-5d0f-4ac3-f260-6d9f31c7aa76"
      },
      "source": [
        "import tensorflow as tf\n",
        "from tensorflow import keras\n",
        "print(tf.__version__)\n",
        "print(keras.__version__)\n",
        "\n",
        "# dataset\n",
        "from sklearn.datasets import fetch_california_housing\n",
        "\n",
        "# model\n",
        "from keras import Model\n",
        "# layer\n",
        "from keras.layers import Input, Dense, Concatenate\n",
        "# activation\n",
        "from keras.activations import relu\n",
        "# optimization\n",
        "from keras.optimizers import adam\n",
        "# loss\n",
        "from keras.losses import mean_squared_error\n",
        "\n",
        "from sklearn.model_selection import train_test_split\n",
        "from sklearn.preprocessing import StandardScaler\n",
        "\n",
        "import numpy as np\n",
        "import pandas as pd\n",
        "import matplotlib.pyplot as plt"
      ],
      "execution_count": 2,
      "outputs": [
        {
          "output_type": "stream",
          "text": [
            "2.2.0\n",
            "2.3.0-tf\n"
          ],
          "name": "stdout"
        },
        {
          "output_type": "stream",
          "text": [
            "Using TensorFlow backend.\n"
          ],
          "name": "stderr"
        }
      ]
    },
    {
      "cell_type": "markdown",
      "metadata": {
        "id": "5rAs-0LmdHiN",
        "colab_type": "text"
      },
      "source": [
        "# load the data"
      ]
    },
    {
      "cell_type": "code",
      "metadata": {
        "id": "wU_wp-bJdFJF",
        "colab_type": "code",
        "colab": {}
      },
      "source": [
        "dataset = fetch_california_housing()"
      ],
      "execution_count": 0,
      "outputs": []
    },
    {
      "cell_type": "code",
      "metadata": {
        "id": "Wb44Pe1mdOCW",
        "colab_type": "code",
        "colab": {}
      },
      "source": [
        "X = dataset.data\n",
        "y = dataset.target"
      ],
      "execution_count": 0,
      "outputs": []
    },
    {
      "cell_type": "code",
      "metadata": {
        "id": "-gaJUOWRdgbl",
        "colab_type": "code",
        "colab": {
          "base_uri": "https://localhost:8080/",
          "height": 34
        },
        "outputId": "2f4c3c3b-ddb6-4686-d67a-07c0c172ce9a"
      },
      "source": [
        "X.shape"
      ],
      "execution_count": 20,
      "outputs": [
        {
          "output_type": "execute_result",
          "data": {
            "text/plain": [
              "(20640, 8)"
            ]
          },
          "metadata": {
            "tags": []
          },
          "execution_count": 20
        }
      ]
    },
    {
      "cell_type": "markdown",
      "metadata": {
        "id": "DNXNppgtevdH",
        "colab_type": "text"
      },
      "source": [
        "# split the data"
      ]
    },
    {
      "cell_type": "code",
      "metadata": {
        "id": "3sgpVcQUeIPS",
        "colab_type": "code",
        "colab": {}
      },
      "source": [
        "X_train, X_test, y_train, y_test = train_test_split(X, y, test_size=0.3, random_state=42)\n",
        "X_train, X_valid, y_train, y_valid = train_test_split(X_train, y_train, test_size=0.2, random_state=42)"
      ],
      "execution_count": 0,
      "outputs": []
    },
    {
      "cell_type": "markdown",
      "metadata": {
        "id": "6hoZ2d9deyT0",
        "colab_type": "text"
      },
      "source": [
        "# standardize"
      ]
    },
    {
      "cell_type": "code",
      "metadata": {
        "id": "lDvRKRjkergJ",
        "colab_type": "code",
        "colab": {}
      },
      "source": [
        "sc = StandardScaler()\n",
        "X_train = sc.fit_transform(X_train)\n",
        "X_valid = sc.transform(X_valid)\n",
        "X_test = sc.transform(X_test)"
      ],
      "execution_count": 0,
      "outputs": []
    },
    {
      "cell_type": "markdown",
      "metadata": {
        "id": "fjOvHMtvhzkX",
        "colab_type": "text"
      },
      "source": [
        "# data preparation"
      ]
    },
    {
      "cell_type": "code",
      "metadata": {
        "id": "MrAuuy64hv_E",
        "colab_type": "code",
        "colab": {}
      },
      "source": [
        "X_train_A, X_train_B = X_train[:, :5], X_train[:, 2:]\n",
        "X_valid_A, X_valid_B = X_valid[:, :5], X_valid[:, 2:]\n",
        "X_test_A, X_test_B = X_test[:, :5], X_test[:, 2:]\n",
        "X_new_A, X_new_B = X_test[:3, :5], X_test[:3, 2:] # check this one"
      ],
      "execution_count": 0,
      "outputs": []
    },
    {
      "cell_type": "code",
      "metadata": {
        "id": "XrRAJ2cynzUx",
        "colab_type": "code",
        "colab": {
          "base_uri": "https://localhost:8080/",
          "height": 34
        },
        "outputId": "37f8faf4-903e-4df9-ff4f-16efde0b933e"
      },
      "source": [
        "X_train_A.shape, X_train_B.shape"
      ],
      "execution_count": 37,
      "outputs": [
        {
          "output_type": "execute_result",
          "data": {
            "text/plain": [
              "((11558, 5), (11558, 6))"
            ]
          },
          "metadata": {
            "tags": []
          },
          "execution_count": 37
        }
      ]
    },
    {
      "cell_type": "markdown",
      "metadata": {
        "id": "xsvSYowHi9Rb",
        "colab_type": "text"
      },
      "source": [
        "# building the model using the functional api"
      ]
    },
    {
      "cell_type": "code",
      "metadata": {
        "id": "jLEfsmW9i6AB",
        "colab_type": "code",
        "colab": {
          "base_uri": "https://localhost:8080/",
          "height": 70
        },
        "outputId": "be751b75-e2bd-415d-cf17-fa46b196b206"
      },
      "source": [
        "input_A = Input(shape=[5], name='wide_input')\n",
        "input_B = Input(shape=[6], name='deep_input')\n",
        "hidden1 = Dense(units=300, activation=relu, name='dense_hidden1')(input_B)\n",
        "hidden2 = Dense(units=100, activation=relu, name='dense_hidden2')(hidden1)\n",
        "concat = Concatenate(name='concat')([input_A, hidden2])\n",
        "output = Dense(units=1, name='output')(concat)\n",
        "model = Model(input=[input_A, input_B], output=[output])"
      ],
      "execution_count": 25,
      "outputs": [
        {
          "output_type": "stream",
          "text": [
            "/usr/local/lib/python3.6/dist-packages/ipykernel_launcher.py:7: UserWarning: Update your `Model` call to the Keras 2 API: `Model(inputs=[<tf.Tenso..., outputs=[<tf.Tenso...)`\n",
            "  import sys\n"
          ],
          "name": "stderr"
        }
      ]
    },
    {
      "cell_type": "code",
      "metadata": {
        "id": "yergbE7NldzZ",
        "colab_type": "code",
        "colab": {
          "base_uri": "https://localhost:8080/",
          "height": 370
        },
        "outputId": "062ad60b-d7f4-452b-be35-22e8bcbeb6fb"
      },
      "source": [
        "model.summary()"
      ],
      "execution_count": 26,
      "outputs": [
        {
          "output_type": "stream",
          "text": [
            "Model: \"model_2\"\n",
            "__________________________________________________________________________________________________\n",
            "Layer (type)                    Output Shape         Param #     Connected to                     \n",
            "==================================================================================================\n",
            "deep_input (InputLayer)         (None, 6)            0                                            \n",
            "__________________________________________________________________________________________________\n",
            "dense_hidden1 (Dense)           (None, 300)          2100        deep_input[0][0]                 \n",
            "__________________________________________________________________________________________________\n",
            "wide_input (InputLayer)         (None, 5)            0                                            \n",
            "__________________________________________________________________________________________________\n",
            "dense_hidden2 (Dense)           (None, 100)          30100       dense_hidden1[0][0]              \n",
            "__________________________________________________________________________________________________\n",
            "concat (Concatenate)            (None, 105)          0           wide_input[0][0]                 \n",
            "                                                                 dense_hidden2[0][0]              \n",
            "__________________________________________________________________________________________________\n",
            "output (Dense)                  (None, 1)            106         concat[0][0]                     \n",
            "==================================================================================================\n",
            "Total params: 32,306\n",
            "Trainable params: 32,306\n",
            "Non-trainable params: 0\n",
            "__________________________________________________________________________________________________\n"
          ],
          "name": "stdout"
        }
      ]
    },
    {
      "cell_type": "markdown",
      "metadata": {
        "id": "vmP8X_G2lu6a",
        "colab_type": "text"
      },
      "source": [
        "# compile the model"
      ]
    },
    {
      "cell_type": "code",
      "metadata": {
        "id": "DqL2r0v3lr0k",
        "colab_type": "code",
        "colab": {}
      },
      "source": [
        "model.compile(optimizer='adam', loss=mean_squared_error)"
      ],
      "execution_count": 0,
      "outputs": []
    },
    {
      "cell_type": "markdown",
      "metadata": {
        "id": "g77N5jYrl7CI",
        "colab_type": "text"
      },
      "source": [
        "# train the model"
      ]
    },
    {
      "cell_type": "code",
      "metadata": {
        "id": "1GB95SLJl5X0",
        "colab_type": "code",
        "colab": {
          "base_uri": "https://localhost:8080/",
          "height": 370
        },
        "outputId": "7036c58c-7580-4f77-b21b-2480a2aa9c1c"
      },
      "source": [
        "history = model.fit([X_train_A, X_train_B], \n",
        "                    y_train, \n",
        "                    batch_size=100, \n",
        "                    epochs=10, \n",
        "                    validation_data=([X_valid_A, X_valid_B], y_valid)\n",
        "                    )"
      ],
      "execution_count": 39,
      "outputs": [
        {
          "output_type": "stream",
          "text": [
            "Train on 11558 samples, validate on 2890 samples\n",
            "Epoch 1/10\n",
            "11558/11558 [==============================] - 0s 27us/step - loss: 0.3056 - val_loss: 0.3263\n",
            "Epoch 2/10\n",
            "11558/11558 [==============================] - 0s 28us/step - loss: 0.3038 - val_loss: 0.3202\n",
            "Epoch 3/10\n",
            "11558/11558 [==============================] - 0s 28us/step - loss: 0.3009 - val_loss: 0.3131\n",
            "Epoch 4/10\n",
            "11558/11558 [==============================] - 0s 28us/step - loss: 0.3004 - val_loss: 0.3291\n",
            "Epoch 5/10\n",
            "11558/11558 [==============================] - 0s 27us/step - loss: 0.2994 - val_loss: 0.3181\n",
            "Epoch 6/10\n",
            "11558/11558 [==============================] - 0s 26us/step - loss: 0.2988 - val_loss: 0.3085\n",
            "Epoch 7/10\n",
            "11558/11558 [==============================] - 0s 28us/step - loss: 0.2962 - val_loss: 0.3075\n",
            "Epoch 8/10\n",
            "11558/11558 [==============================] - 0s 28us/step - loss: 0.3031 - val_loss: 0.3114\n",
            "Epoch 9/10\n",
            "11558/11558 [==============================] - 0s 31us/step - loss: 0.2952 - val_loss: 0.3564\n",
            "Epoch 10/10\n",
            "11558/11558 [==============================] - 0s 28us/step - loss: 0.2986 - val_loss: 0.3073\n"
          ],
          "name": "stdout"
        }
      ]
    },
    {
      "cell_type": "markdown",
      "metadata": {
        "id": "MsJ5yFOnoKCS",
        "colab_type": "text"
      },
      "source": [
        "# evalaute"
      ]
    },
    {
      "cell_type": "code",
      "metadata": {
        "id": "Mw0KN5I1mbXH",
        "colab_type": "code",
        "colab": {
          "base_uri": "https://localhost:8080/",
          "height": 50
        },
        "outputId": "91e5322b-b9d1-4d74-dc07-ab57f55a2bb8"
      },
      "source": [
        "model.evaluate([X_test_A, X_test_B], y_test)"
      ],
      "execution_count": 41,
      "outputs": [
        {
          "output_type": "stream",
          "text": [
            "6192/6192 [==============================] - 0s 27us/step\n"
          ],
          "name": "stdout"
        },
        {
          "output_type": "execute_result",
          "data": {
            "text/plain": [
              "0.30322054806297755"
            ]
          },
          "metadata": {
            "tags": []
          },
          "execution_count": 41
        }
      ]
    },
    {
      "cell_type": "markdown",
      "metadata": {
        "id": "8w2Wfum7oYnZ",
        "colab_type": "text"
      },
      "source": [
        "# predict"
      ]
    },
    {
      "cell_type": "code",
      "metadata": {
        "id": "oXoOcZRvoRs8",
        "colab_type": "code",
        "colab": {
          "base_uri": "https://localhost:8080/",
          "height": 67
        },
        "outputId": "903ea1be-46a7-421c-9b10-6cbe165d6aa1"
      },
      "source": [
        "pred = model.predict([X_new_A, X_new_B])\n",
        "pred"
      ],
      "execution_count": 42,
      "outputs": [
        {
          "output_type": "execute_result",
          "data": {
            "text/plain": [
              "array([[0.43993405],\n",
              "       [1.063275  ],\n",
              "       [4.1770577 ]], dtype=float32)"
            ]
          },
          "metadata": {
            "tags": []
          },
          "execution_count": 42
        }
      ]
    },
    {
      "cell_type": "code",
      "metadata": {
        "id": "tJGpEyKjoga6",
        "colab_type": "code",
        "colab": {}
      },
      "source": [
        ""
      ],
      "execution_count": 0,
      "outputs": []
    }
  ]
}