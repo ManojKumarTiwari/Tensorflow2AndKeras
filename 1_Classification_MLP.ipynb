{
  "nbformat": 4,
  "nbformat_minor": 0,
  "metadata": {
    "colab": {
      "name": "1_Classification_MLP.ipynb",
      "provenance": [],
      "toc_visible": true,
      "authorship_tag": "ABX9TyN9476rM9S1ZDkZhYEJxtG4",
      "include_colab_link": true
    },
    "kernelspec": {
      "name": "python3",
      "display_name": "Python 3"
    }
  },
  "cells": [
    {
      "cell_type": "markdown",
      "metadata": {
        "id": "view-in-github",
        "colab_type": "text"
      },
      "source": [
        "<a href=\"https://colab.research.google.com/github/ManojKumarTiwari/Tensorflow2AndKeras/blob/master/1_Classification_MLP.ipynb\" target=\"_parent\"><img src=\"https://colab.research.google.com/assets/colab-badge.svg\" alt=\"Open In Colab\"/></a>"
      ]
    },
    {
      "cell_type": "markdown",
      "metadata": {
        "id": "fnoJYZgZ7jJ1",
        "colab_type": "text"
      },
      "source": [
        "# Overview\n",
        "- This is the introduction to Tensorflow 2 and Keras\n",
        "\n",
        "# Dataset\n",
        "- Fashion MNIST\n",
        "- https://github.com/zalandoresearch/fashion-mnist\n",
        "\n",
        "# Contents\n",
        "\n",
        "- Implement a Perceptron, Simple NN/ANN (Neural Network or Artificial Neural Network) for a multiclass classification task\n",
        "\n",
        "# What you'll learn\n",
        "- ANN or Simply called NN\n",
        "- Perceptron\n",
        "- MLP (Multi Layer Perceptron)\n",
        "- FFNN (Feed Forward Neural Network)\n",
        "- DNN\n",
        "- Plotting Learning Curve and Confusion Matrix"
      ]
    },
    {
      "cell_type": "markdown",
      "metadata": {
        "id": "TRHDb-Qy8njq",
        "colab_type": "text"
      },
      "source": [
        "# Imports"
      ]
    },
    {
      "cell_type": "code",
      "metadata": {
        "id": "t9a4PcWx7R4Y",
        "colab_type": "code",
        "colab": {}
      },
      "source": [
        "# !pip install --upgrade tensorflow"
      ],
      "execution_count": 0,
      "outputs": []
    },
    {
      "cell_type": "code",
      "metadata": {
        "id": "gh3QhMed82Sx",
        "colab_type": "code",
        "outputId": "8f3c83ef-3446-4eaa-af7a-37a06f189e09",
        "colab": {
          "base_uri": "https://localhost:8080/",
          "height": 34
        }
      },
      "source": [
        "import tensorflow as tf\n",
        "from tensorflow import keras\n",
        "\n",
        "tf.__version__"
      ],
      "execution_count": 2,
      "outputs": [
        {
          "output_type": "execute_result",
          "data": {
            "text/plain": [
              "'2.2.0-rc1'"
            ]
          },
          "metadata": {
            "tags": []
          },
          "execution_count": 2
        }
      ]
    },
    {
      "cell_type": "code",
      "metadata": {
        "id": "NC95pJZV8-XK",
        "colab_type": "code",
        "colab": {}
      },
      "source": [
        "import numpy as np\n",
        "import pandas as pd\n",
        "import matplotlib.pyplot as plt"
      ],
      "execution_count": 0,
      "outputs": []
    },
    {
      "cell_type": "code",
      "metadata": {
        "id": "hx2opAauCwUv",
        "colab_type": "code",
        "colab": {
          "base_uri": "https://localhost:8080/",
          "height": 34
        },
        "outputId": "598575ab-4240-4115-b029-78a5cf8df88f"
      },
      "source": [
        "from tensorflow.keras import Sequential\n",
        "from tensorflow.keras.layers import Dense, Flatten\n",
        "\n",
        "from keras.activations import relu, softmax\n",
        "\n",
        "from keras.initializers import RandomUniform\n",
        "\n",
        "from keras.optimizers import adam\n",
        "\n",
        "from keras.losses import sparse_categorical_crossentropy\n",
        "\n",
        "from keras.metrics import sparse_categorical_accuracy"
      ],
      "execution_count": 4,
      "outputs": [
        {
          "output_type": "stream",
          "text": [
            "Using TensorFlow backend.\n"
          ],
          "name": "stderr"
        }
      ]
    },
    {
      "cell_type": "code",
      "metadata": {
        "id": "qg4TY22gHd1h",
        "colab_type": "code",
        "colab": {}
      },
      "source": [
        "from sklearn.metrics import accuracy_score, confusion_matrix\n",
        "from mlxtend.plotting import plot_confusion_matrix"
      ],
      "execution_count": 0,
      "outputs": []
    },
    {
      "cell_type": "markdown",
      "metadata": {
        "id": "_Vce2X_q_dbX",
        "colab_type": "text"
      },
      "source": [
        "# Load the Data"
      ]
    },
    {
      "cell_type": "code",
      "metadata": {
        "id": "j9qy6fEm_Z1D",
        "colab_type": "code",
        "colab": {}
      },
      "source": [
        "mnist = keras.datasets.fashion_mnist"
      ],
      "execution_count": 0,
      "outputs": []
    },
    {
      "cell_type": "code",
      "metadata": {
        "id": "T7vznzbU_mzf",
        "colab_type": "code",
        "colab": {
          "base_uri": "https://localhost:8080/",
          "height": 151
        },
        "outputId": "dc0d9ccf-9467-43e4-de95-c42a9e2d75f2"
      },
      "source": [
        "(X_train_full, y_train_full), (X_test, y_test) = mnist.load_data()"
      ],
      "execution_count": 7,
      "outputs": [
        {
          "output_type": "stream",
          "text": [
            "Downloading data from https://storage.googleapis.com/tensorflow/tf-keras-datasets/train-labels-idx1-ubyte.gz\n",
            "32768/29515 [=================================] - 0s 0us/step\n",
            "Downloading data from https://storage.googleapis.com/tensorflow/tf-keras-datasets/train-images-idx3-ubyte.gz\n",
            "26427392/26421880 [==============================] - 0s 0us/step\n",
            "Downloading data from https://storage.googleapis.com/tensorflow/tf-keras-datasets/t10k-labels-idx1-ubyte.gz\n",
            "8192/5148 [===============================================] - 0s 0us/step\n",
            "Downloading data from https://storage.googleapis.com/tensorflow/tf-keras-datasets/t10k-images-idx3-ubyte.gz\n",
            "4423680/4422102 [==============================] - 0s 0us/step\n"
          ],
          "name": "stdout"
        }
      ]
    },
    {
      "cell_type": "code",
      "metadata": {
        "id": "UdeTjYgl_zJ7",
        "colab_type": "code",
        "outputId": "e8be0167-d8b2-42c6-d4f4-d90b483672b2",
        "colab": {
          "base_uri": "https://localhost:8080/",
          "height": 34
        }
      },
      "source": [
        "X_train_full.shape, X_test.shape"
      ],
      "execution_count": 8,
      "outputs": [
        {
          "output_type": "execute_result",
          "data": {
            "text/plain": [
              "((60000, 28, 28), (10000, 28, 28))"
            ]
          },
          "metadata": {
            "tags": []
          },
          "execution_count": 8
        }
      ]
    },
    {
      "cell_type": "code",
      "metadata": {
        "id": "h_BQqQej_5d4",
        "colab_type": "code",
        "outputId": "45c50ad5-a8c0-4979-b232-42bd3b8a5a80",
        "colab": {
          "base_uri": "https://localhost:8080/",
          "height": 34
        }
      },
      "source": [
        "y_train_full"
      ],
      "execution_count": 9,
      "outputs": [
        {
          "output_type": "execute_result",
          "data": {
            "text/plain": [
              "array([9, 0, 0, ..., 3, 0, 5], dtype=uint8)"
            ]
          },
          "metadata": {
            "tags": []
          },
          "execution_count": 9
        }
      ]
    },
    {
      "cell_type": "code",
      "metadata": {
        "id": "RPZ9zPpRBrrw",
        "colab_type": "code",
        "colab": {}
      },
      "source": [
        "class_names = ['T-shirt/top', 'Trouser', 'Pullover', 'Dress', 'Coat', 'Sandal', 'Shirt', 'Sneaker', 'Bag', 'Ankle boot']"
      ],
      "execution_count": 0,
      "outputs": []
    },
    {
      "cell_type": "markdown",
      "metadata": {
        "id": "duFI6FJ1__tl",
        "colab_type": "text"
      },
      "source": [
        "# Data Exploration"
      ]
    },
    {
      "cell_type": "code",
      "metadata": {
        "id": "cgVtF091_8TN",
        "colab_type": "code",
        "outputId": "21eb6830-6fa3-4108-9cab-34ec3dc47e24",
        "colab": {
          "base_uri": "https://localhost:8080/",
          "height": 282
        }
      },
      "source": [
        "plt.figure()\n",
        "plt.imshow(X_train_full[1])\n",
        "plt.colorbar()"
      ],
      "execution_count": 11,
      "outputs": [
        {
          "output_type": "execute_result",
          "data": {
            "text/plain": [
              "<matplotlib.colorbar.Colorbar at 0x7f716a4f9f98>"
            ]
          },
          "metadata": {
            "tags": []
          },
          "execution_count": 11
        },
        {
          "output_type": "display_data",
          "data": {
            "image/png": "[encoded data removed]",
            "text/plain": [
              "<Figure size 432x288 with 2 Axes>"
            ]
          },
          "metadata": {
            "tags": []
          }
        }
      ]
    },
    {
      "cell_type": "code",
      "metadata": {
        "id": "tl1_-TptBkHN",
        "colab_type": "code",
        "outputId": "58a6fcf4-f8d6-4964-d9a4-e9122e279ecd",
        "colab": {
          "base_uri": "https://localhost:8080/",
          "height": 34
        }
      },
      "source": [
        "class_names[y_train_full[1]]"
      ],
      "execution_count": 12,
      "outputs": [
        {
          "output_type": "execute_result",
          "data": {
            "text/plain": [
              "'T-shirt/top'"
            ]
          },
          "metadata": {
            "tags": []
          },
          "execution_count": 12
        }
      ]
    },
    {
      "cell_type": "code",
      "metadata": {
        "id": "jSfUC_-ZFq7S",
        "colab_type": "code",
        "outputId": "25843101-a95a-4b52-b7be-f7f0101243af",
        "colab": {
          "base_uri": "https://localhost:8080/",
          "height": 34
        }
      },
      "source": [
        "np.max(X_train_full[0])"
      ],
      "execution_count": 13,
      "outputs": [
        {
          "output_type": "execute_result",
          "data": {
            "text/plain": [
              "255"
            ]
          },
          "metadata": {
            "tags": []
          },
          "execution_count": 13
        }
      ]
    },
    {
      "cell_type": "code",
      "metadata": {
        "id": "H2EGbsoEGGf-",
        "colab_type": "code",
        "colab": {}
      },
      "source": [
        "X_train, X_valid = X_train_full[:50000]/255, X_train_full[50000:]/255"
      ],
      "execution_count": 0,
      "outputs": []
    },
    {
      "cell_type": "code",
      "metadata": {
        "id": "lSCvEzYNCikP",
        "colab_type": "code",
        "colab": {}
      },
      "source": [
        "y_train, y_valid = y_train_full[:50000], y_train_full[50000:]"
      ],
      "execution_count": 0,
      "outputs": []
    },
    {
      "cell_type": "code",
      "metadata": {
        "id": "-86csblsGjSw",
        "colab_type": "code",
        "colab": {}
      },
      "source": [
        "X_test = X_test/255"
      ],
      "execution_count": 0,
      "outputs": []
    },
    {
      "cell_type": "code",
      "metadata": {
        "id": "USAFTDhYGKOV",
        "colab_type": "code",
        "outputId": "9cd963d2-4460-40df-a248-2d151d0e4377",
        "colab": {
          "base_uri": "https://localhost:8080/",
          "height": 286
        }
      },
      "source": [
        "plt.figure()\n",
        "plt.imshow(X_train[1])\n",
        "plt.colorbar()"
      ],
      "execution_count": 17,
      "outputs": [
        {
          "output_type": "execute_result",
          "data": {
            "text/plain": [
              "<matplotlib.colorbar.Colorbar at 0x7f716a018d68>"
            ]
          },
          "metadata": {
            "tags": []
          },
          "execution_count": 17
        },
        {
          "output_type": "display_data",
          "data": {
            "image/png": "[encoded data removed]",
            "text/plain": [
              "<Figure size 432x288 with 2 Axes>"
            ]
          },
          "metadata": {
            "tags": []
          }
        }
      ]
    },
    {
      "cell_type": "markdown",
      "metadata": {
        "id": "w2qb8IYSCkG1",
        "colab_type": "text"
      },
      "source": [
        "# Build the Model"
      ]
    },
    {
      "cell_type": "code",
      "metadata": {
        "id": "nTQySMRxCe20",
        "colab_type": "code",
        "colab": {}
      },
      "source": [
        "model = Sequential()\n",
        "model.add(Flatten(input_shape=(28,28)))\n",
        "model.add(Dense(units=128, activation='relu'))\n",
        "model.add(Dense(units=10, activation='softmax'))"
      ],
      "execution_count": 0,
      "outputs": []
    },
    {
      "cell_type": "code",
      "metadata": {
        "id": "VA2L3mPy9eHQ",
        "colab_type": "code",
        "colab": {}
      },
      "source": [
        "# Other way to build the Model\n",
        "model1 = Sequential([Flatten(input_shape=(28, 28)),\n",
        "                     Dense(units=128, activation=relu),\n",
        "                     Dense(units=10, activation=softmax)\n",
        "                     ])"
      ],
      "execution_count": 0,
      "outputs": []
    },
    {
      "cell_type": "code",
      "metadata": {
        "id": "bhCcgS-gDyIF",
        "colab_type": "code",
        "outputId": "b8141b80-69af-4e1b-be26-5f2a20107f78",
        "colab": {
          "base_uri": "https://localhost:8080/",
          "height": 252
        }
      },
      "source": [
        "model.summary()"
      ],
      "execution_count": 47,
      "outputs": [
        {
          "output_type": "stream",
          "text": [
            "Model: \"sequential_2\"\n",
            "_________________________________________________________________\n",
            "Layer (type)                 Output Shape              Param #   \n",
            "=================================================================\n",
            "flatten_2 (Flatten)          (None, 784)               0         \n",
            "_________________________________________________________________\n",
            "dense_4 (Dense)              (None, 128)               100480    \n",
            "_________________________________________________________________\n",
            "dense_5 (Dense)              (None, 10)                1290      \n",
            "=================================================================\n",
            "Total params: 101,770\n",
            "Trainable params: 101,770\n",
            "Non-trainable params: 0\n",
            "_________________________________________________________________\n"
          ],
          "name": "stdout"
        }
      ]
    },
    {
      "cell_type": "code",
      "metadata": {
        "id": "m60bDtjL-FLK",
        "colab_type": "code",
        "outputId": "34b0d5a8-a9c2-4a07-a345-c945ef9882fc",
        "colab": {
          "base_uri": "https://localhost:8080/",
          "height": 252
        }
      },
      "source": [
        "model1.summary()"
      ],
      "execution_count": 48,
      "outputs": [
        {
          "output_type": "stream",
          "text": [
            "Model: \"sequential_3\"\n",
            "_________________________________________________________________\n",
            "Layer (type)                 Output Shape              Param #   \n",
            "=================================================================\n",
            "flatten_3 (Flatten)          (None, 784)               0         \n",
            "_________________________________________________________________\n",
            "dense_6 (Dense)              (None, 128)               100480    \n",
            "_________________________________________________________________\n",
            "dense_7 (Dense)              (None, 10)                1290      \n",
            "=================================================================\n",
            "Total params: 101,770\n",
            "Trainable params: 101,770\n",
            "Non-trainable params: 0\n",
            "_________________________________________________________________\n"
          ],
          "name": "stdout"
        }
      ]
    },
    {
      "cell_type": "code",
      "metadata": {
        "id": "kSs8UF6y-Fep",
        "colab_type": "code",
        "outputId": "547ef28d-0e93-4066-bf8c-2da7d0a67b7a",
        "colab": {
          "base_uri": "https://localhost:8080/",
          "height": 67
        }
      },
      "source": [
        "model.layers"
      ],
      "execution_count": 49,
      "outputs": [
        {
          "output_type": "execute_result",
          "data": {
            "text/plain": [
              "[<tensorflow.python.keras.layers.core.Flatten at 0x7f715f51cf28>,\n",
              " <tensorflow.python.keras.layers.core.Dense at 0x7f715f91bf28>,\n",
              " <tensorflow.python.keras.layers.core.Dense at 0x7f715f8900f0>]"
            ]
          },
          "metadata": {
            "tags": []
          },
          "execution_count": 49
        }
      ]
    },
    {
      "cell_type": "code",
      "metadata": {
        "id": "twV6aXBv-Fok",
        "colab_type": "code",
        "colab": {}
      },
      "source": [
        "hidden1 = model.layers[1]"
      ],
      "execution_count": 0,
      "outputs": []
    },
    {
      "cell_type": "code",
      "metadata": {
        "id": "keX0P0YY-Ftb",
        "colab_type": "code",
        "outputId": "d1f1f3a6-0962-4ff4-edce-e1eba2899778",
        "colab": {
          "base_uri": "https://localhost:8080/",
          "height": 34
        }
      },
      "source": [
        "hidden1.name"
      ],
      "execution_count": 51,
      "outputs": [
        {
          "output_type": "execute_result",
          "data": {
            "text/plain": [
              "'dense_4'"
            ]
          },
          "metadata": {
            "tags": []
          },
          "execution_count": 51
        }
      ]
    },
    {
      "cell_type": "code",
      "metadata": {
        "id": "vTPPohEg-Fxk",
        "colab_type": "code",
        "colab": {}
      },
      "source": [
        "weights, biases = hidden1.get_weights()\n",
        "# Similarly we have set_weights() function"
      ],
      "execution_count": 0,
      "outputs": []
    },
    {
      "cell_type": "code",
      "metadata": {
        "id": "6Unzf9VW-nsn",
        "colab_type": "code",
        "outputId": "92609550-efc3-44e0-9523-41a6054223bf",
        "colab": {
          "base_uri": "https://localhost:8080/",
          "height": 34
        }
      },
      "source": [
        "weights.shape"
      ],
      "execution_count": 53,
      "outputs": [
        {
          "output_type": "execute_result",
          "data": {
            "text/plain": [
              "(784, 128)"
            ]
          },
          "metadata": {
            "tags": []
          },
          "execution_count": 53
        }
      ]
    },
    {
      "cell_type": "code",
      "metadata": {
        "id": "kx5IzKBv-n2i",
        "colab_type": "code",
        "outputId": "92751c3f-2d65-4702-aa96-ebfc4d60f67b",
        "colab": {
          "base_uri": "https://localhost:8080/",
          "height": 235
        }
      },
      "source": [
        "weights"
      ],
      "execution_count": 54,
      "outputs": [
        {
          "output_type": "execute_result",
          "data": {
            "text/plain": [
              "array([[-0.0542531 ,  0.03172549,  0.00229308, ..., -0.06384727,\n",
              "         0.08017955,  0.07962494],\n",
              "       [-0.0065615 , -0.00735403,  0.01611426, ...,  0.00861362,\n",
              "         0.01047438, -0.04194257],\n",
              "       [ 0.00165708, -0.01480585,  0.06590583, ...,  0.02128493,\n",
              "        -0.00880448,  0.00367106],\n",
              "       ...,\n",
              "       [-0.04892861, -0.00428684, -0.05702542, ...,  0.03648948,\n",
              "         0.05706763, -0.05303341],\n",
              "       [-0.04535069,  0.01977446,  0.00436144, ...,  0.01195426,\n",
              "         0.04977687,  0.06393012],\n",
              "       [ 0.06240652,  0.02365931, -0.023297  , ...,  0.01267353,\n",
              "        -0.05412367,  0.06744944]], dtype=float32)"
            ]
          },
          "metadata": {
            "tags": []
          },
          "execution_count": 54
        }
      ]
    },
    {
      "cell_type": "code",
      "metadata": {
        "id": "kWkRhBC4-FrZ",
        "colab_type": "code",
        "outputId": "c49a4f1e-f443-47b0-f35d-ec3b74ae9ac4",
        "colab": {
          "base_uri": "https://localhost:8080/",
          "height": 151
        }
      },
      "source": [
        "biases"
      ],
      "execution_count": 55,
      "outputs": [
        {
          "output_type": "execute_result",
          "data": {
            "text/plain": [
              "array([0., 0., 0., 0., 0., 0., 0., 0., 0., 0., 0., 0., 0., 0., 0., 0., 0.,\n",
              "       0., 0., 0., 0., 0., 0., 0., 0., 0., 0., 0., 0., 0., 0., 0., 0., 0.,\n",
              "       0., 0., 0., 0., 0., 0., 0., 0., 0., 0., 0., 0., 0., 0., 0., 0., 0.,\n",
              "       0., 0., 0., 0., 0., 0., 0., 0., 0., 0., 0., 0., 0., 0., 0., 0., 0.,\n",
              "       0., 0., 0., 0., 0., 0., 0., 0., 0., 0., 0., 0., 0., 0., 0., 0., 0.,\n",
              "       0., 0., 0., 0., 0., 0., 0., 0., 0., 0., 0., 0., 0., 0., 0., 0., 0.,\n",
              "       0., 0., 0., 0., 0., 0., 0., 0., 0., 0., 0., 0., 0., 0., 0., 0., 0.,\n",
              "       0., 0., 0., 0., 0., 0., 0., 0., 0.], dtype=float32)"
            ]
          },
          "metadata": {
            "tags": []
          },
          "execution_count": 55
        }
      ]
    },
    {
      "cell_type": "code",
      "metadata": {
        "id": "b-oJ1t55_BSJ",
        "colab_type": "code",
        "colab": {}
      },
      "source": [
        "# Kernal_initializer and bias_initializer"
      ],
      "execution_count": 0,
      "outputs": []
    },
    {
      "cell_type": "markdown",
      "metadata": {
        "id": "rv5H2yG4EksZ",
        "colab_type": "text"
      },
      "source": [
        "# Compile the Model\n",
        "- Optimizer\n",
        "- Loss Function\n",
        "- Metrics"
      ]
    },
    {
      "cell_type": "code",
      "metadata": {
        "id": "iyDgLo8oEiSK",
        "colab_type": "code",
        "colab": {}
      },
      "source": [
        "model.compile(optimizer='adam', loss='sparse_categorical_crossentropy', metrics=['accuracy'])"
      ],
      "execution_count": 0,
      "outputs": []
    },
    {
      "cell_type": "code",
      "metadata": {
        "id": "j-bDyiRPDd0S",
        "colab_type": "code",
        "colab": {}
      },
      "source": [
        "# model1.compile(optimizer=adam, loss=sparse_categorical_crossentropy, metrics=[sparse_categorical_accuracy])"
      ],
      "execution_count": 0,
      "outputs": []
    },
    {
      "cell_type": "markdown",
      "metadata": {
        "id": "ZlZS50z8FhH8",
        "colab_type": "text"
      },
      "source": [
        "# Train the Model"
      ]
    },
    {
      "cell_type": "code",
      "metadata": {
        "id": "CBlDW6E1FBaD",
        "colab_type": "code",
        "outputId": "d4d57c7b-8d5e-476d-a860-362b5b4b124c",
        "colab": {
          "base_uri": "https://localhost:8080/",
          "height": 353
        }
      },
      "source": [
        "history = model.fit(X_train, y_train, epochs=10, validation_data=(X_valid, y_valid), batch_size=10)"
      ],
      "execution_count": 59,
      "outputs": [
        {
          "output_type": "stream",
          "text": [
            "Epoch 1/10\n",
            "5000/5000 [==============================] - 9s 2ms/step - loss: 0.4945 - accuracy: 0.8212 - val_loss: 0.3958 - val_accuracy: 0.8557\n",
            "Epoch 2/10\n",
            "5000/5000 [==============================] - 9s 2ms/step - loss: 0.3740 - accuracy: 0.8625 - val_loss: 0.3612 - val_accuracy: 0.8678\n",
            "Epoch 3/10\n",
            "5000/5000 [==============================] - 9s 2ms/step - loss: 0.3382 - accuracy: 0.8739 - val_loss: 0.3666 - val_accuracy: 0.8671\n",
            "Epoch 4/10\n",
            "5000/5000 [==============================] - 9s 2ms/step - loss: 0.3154 - accuracy: 0.8832 - val_loss: 0.3431 - val_accuracy: 0.8781\n",
            "Epoch 5/10\n",
            "5000/5000 [==============================] - 9s 2ms/step - loss: 0.2968 - accuracy: 0.8894 - val_loss: 0.3530 - val_accuracy: 0.8749\n",
            "Epoch 6/10\n",
            "5000/5000 [==============================] - 9s 2ms/step - loss: 0.2827 - accuracy: 0.8939 - val_loss: 0.3536 - val_accuracy: 0.8695\n",
            "Epoch 7/10\n",
            "5000/5000 [==============================] - 9s 2ms/step - loss: 0.2710 - accuracy: 0.8986 - val_loss: 0.3303 - val_accuracy: 0.8849\n",
            "Epoch 8/10\n",
            "5000/5000 [==============================] - 9s 2ms/step - loss: 0.2614 - accuracy: 0.9018 - val_loss: 0.3658 - val_accuracy: 0.8722\n",
            "Epoch 9/10\n",
            "5000/5000 [==============================] - 9s 2ms/step - loss: 0.2509 - accuracy: 0.9058 - val_loss: 0.3322 - val_accuracy: 0.8838\n",
            "Epoch 10/10\n",
            "5000/5000 [==============================] - 9s 2ms/step - loss: 0.2435 - accuracy: 0.9075 - val_loss: 0.3301 - val_accuracy: 0.8867\n"
          ],
          "name": "stdout"
        }
      ]
    },
    {
      "cell_type": "code",
      "metadata": {
        "id": "chgiY_O7GW-r",
        "colab_type": "code",
        "colab": {}
      },
      "source": [
        "# Other useful arguments of fit() method\n",
        "# validation_split\n",
        "# class weights\n",
        "# Sample weights"
      ],
      "execution_count": 0,
      "outputs": []
    },
    {
      "cell_type": "markdown",
      "metadata": {
        "id": "ER-JwEt5kZx2",
        "colab_type": "text"
      },
      "source": [
        "# Plot Learning Curve"
      ]
    },
    {
      "cell_type": "code",
      "metadata": {
        "id": "uheUzWM1GpNI",
        "colab_type": "code",
        "outputId": "14fa8035-62d6-4f4f-ea2a-f6798b1c36cc",
        "colab": {
          "base_uri": "https://localhost:8080/",
          "height": 689
        }
      },
      "source": [
        "history.history"
      ],
      "execution_count": 61,
      "outputs": [
        {
          "output_type": "execute_result",
          "data": {
            "text/plain": [
              "{'accuracy': [0.8212400078773499,\n",
              "  0.862500011920929,\n",
              "  0.8739399909973145,\n",
              "  0.8831800222396851,\n",
              "  0.8894199728965759,\n",
              "  0.8939200043678284,\n",
              "  0.8985599875450134,\n",
              "  0.9018399715423584,\n",
              "  0.9057599902153015,\n",
              "  0.9075199961662292],\n",
              " 'loss': [0.4945184588432312,\n",
              "  0.3740253448486328,\n",
              "  0.3382149934768677,\n",
              "  0.31542885303497314,\n",
              "  0.2967519164085388,\n",
              "  0.2827304005622864,\n",
              "  0.27097269892692566,\n",
              "  0.261371910572052,\n",
              "  0.2509329617023468,\n",
              "  0.24346205592155457],\n",
              " 'val_accuracy': [0.8557000160217285,\n",
              "  0.8677999973297119,\n",
              "  0.8671000003814697,\n",
              "  0.8780999779701233,\n",
              "  0.8748999834060669,\n",
              "  0.8694999814033508,\n",
              "  0.8848999738693237,\n",
              "  0.8722000122070312,\n",
              "  0.8838000297546387,\n",
              "  0.8866999745368958],\n",
              " 'val_loss': [0.39582017064094543,\n",
              "  0.3611696660518646,\n",
              "  0.3665587306022644,\n",
              "  0.3431081771850586,\n",
              "  0.3529879152774811,\n",
              "  0.3536100387573242,\n",
              "  0.33025017380714417,\n",
              "  0.3657881021499634,\n",
              "  0.3322235643863678,\n",
              "  0.3300611078739166]}"
            ]
          },
          "metadata": {
            "tags": []
          },
          "execution_count": 61
        }
      ]
    },
    {
      "cell_type": "code",
      "metadata": {
        "id": "trDo_uBWGpdU",
        "colab_type": "code",
        "outputId": "5e85361d-48ad-47df-aff1-a0d23f9987b1",
        "colab": {
          "base_uri": "https://localhost:8080/",
          "height": 34
        }
      },
      "source": [
        "history.epoch"
      ],
      "execution_count": 62,
      "outputs": [
        {
          "output_type": "execute_result",
          "data": {
            "text/plain": [
              "[0, 1, 2, 3, 4, 5, 6, 7, 8, 9]"
            ]
          },
          "metadata": {
            "tags": []
          },
          "execution_count": 62
        }
      ]
    },
    {
      "cell_type": "code",
      "metadata": {
        "id": "Q_EVtjRskhfM",
        "colab_type": "code",
        "colab": {
          "base_uri": "https://localhost:8080/",
          "height": 295
        },
        "outputId": "7b65fc75-af0e-417c-a5be-e709a3627dd6"
      },
      "source": [
        "# Plot the training and validation accuracy vs epochs\n",
        "plt.plot(history.history['accuracy'])\n",
        "plt.plot(history.history['val_accuracy'])\n",
        "plt.title(\"Accuracy\")\n",
        "plt.xlabel(\"Epochs\")\n",
        "plt.ylabel(\"Accuracy\")\n",
        "plt.legend([\"Train\", \"Valid\"])\n",
        "plt.show()"
      ],
      "execution_count": 63,
      "outputs": [
        {
          "output_type": "display_data",
          "data": {
            "image/png": "[encoded data removed]",
            "text/plain": [
              "<Figure size 432x288 with 1 Axes>"
            ]
          },
          "metadata": {
            "tags": []
          }
        }
      ]
    },
    {
      "cell_type": "code",
      "metadata": {
        "id": "y1MPgRn5mBO4",
        "colab_type": "code",
        "colab": {
          "base_uri": "https://localhost:8080/",
          "height": 295
        },
        "outputId": "9aa82a50-7045-4b7d-c2ee-9c36879c8224"
      },
      "source": [
        "# Plot the training and validation loss vs epochs\n",
        "plt.plot(history.history['loss'])\n",
        "plt.plot(history.history['val_loss'])\n",
        "plt.title(\"Loss\")\n",
        "plt.xlabel(\"Epochs\")\n",
        "plt.ylabel(\"Loss\")\n",
        "plt.legend([\"Train\", \"Valid\"])\n",
        "plt.show()"
      ],
      "execution_count": 64,
      "outputs": [
        {
          "output_type": "display_data",
          "data": {
            "image/png": "[encoded data removed]",
            "text/plain": [
              "<Figure size 432x288 with 1 Axes>"
            ]
          },
          "metadata": {
            "tags": []
          }
        }
      ]
    },
    {
      "cell_type": "code",
      "metadata": {
        "id": "7Wgt26AxGpn0",
        "colab_type": "code",
        "outputId": "9374f4a9-9d8e-4e85-bf31-f76e6dcaae21",
        "colab": {
          "base_uri": "https://localhost:8080/",
          "height": 324
        }
      },
      "source": [
        "pd.DataFrame(history.history).plot(figsize=(8,5))\n",
        "plt.gca().set_ylim(0,1)\n",
        "plt.grid(True)\n",
        "plt.show()"
      ],
      "execution_count": 65,
      "outputs": [
        {
          "output_type": "display_data",
          "data": {
            "image/png": "[encoded data removed]",
            "text/plain": [
              "<Figure size 576x360 with 1 Axes>"
            ]
          },
          "metadata": {
            "tags": []
          }
        }
      ]
    },
    {
      "cell_type": "code",
      "metadata": {
        "id": "QscYXDaXGp9U",
        "colab_type": "code",
        "colab": {}
      },
      "source": [
        ""
      ],
      "execution_count": 0,
      "outputs": []
    },
    {
      "cell_type": "markdown",
      "metadata": {
        "id": "npMbiK8aHV9c",
        "colab_type": "text"
      },
      "source": [
        "# Predict"
      ]
    },
    {
      "cell_type": "code",
      "metadata": {
        "id": "5SUDolJ2FfJr",
        "colab_type": "code",
        "colab": {}
      },
      "source": [
        "y_pred = model.predict_classes(X_test)"
      ],
      "execution_count": 0,
      "outputs": []
    },
    {
      "cell_type": "code",
      "metadata": {
        "id": "PUyrG8O8H4Mw",
        "colab_type": "code",
        "outputId": "05781f74-06ba-42e3-de10-9a153a371fb2",
        "colab": {
          "base_uri": "https://localhost:8080/",
          "height": 34
        }
      },
      "source": [
        "y_pred"
      ],
      "execution_count": 67,
      "outputs": [
        {
          "output_type": "execute_result",
          "data": {
            "text/plain": [
              "array([9, 2, 1, ..., 8, 1, 5])"
            ]
          },
          "metadata": {
            "tags": []
          },
          "execution_count": 67
        }
      ]
    },
    {
      "cell_type": "markdown",
      "metadata": {
        "id": "-1Pj386xHrFj",
        "colab_type": "text"
      },
      "source": [
        "# Evaluate"
      ]
    },
    {
      "cell_type": "code",
      "metadata": {
        "id": "9PSfEEKOHp2z",
        "colab_type": "code",
        "outputId": "1853d2f9-fe70-4ff5-a83a-d6e79ced956c",
        "colab": {
          "base_uri": "https://localhost:8080/",
          "height": 34
        }
      },
      "source": [
        "print(\"accuracy: \", accuracy_score(y_test, y_pred))"
      ],
      "execution_count": 39,
      "outputs": [
        {
          "output_type": "stream",
          "text": [
            "accuracy:  0.8795\n"
          ],
          "name": "stdout"
        }
      ]
    },
    {
      "cell_type": "code",
      "metadata": {
        "id": "VOzM_qoLH3Nr",
        "colab_type": "code",
        "outputId": "fd90cfe3-398d-4691-da6f-dc8a1ac882e7",
        "colab": {
          "base_uri": "https://localhost:8080/",
          "height": 34
        }
      },
      "source": [
        "test_loss, test_acc = model.evaluate(X_test, y_test)"
      ],
      "execution_count": 40,
      "outputs": [
        {
          "output_type": "stream",
          "text": [
            "313/313 [==============================] - 0s 1ms/step - loss: 0.3557 - accuracy: 0.8795\n"
          ],
          "name": "stdout"
        }
      ]
    },
    {
      "cell_type": "code",
      "metadata": {
        "id": "e9MiC2C6IBQa",
        "colab_type": "code",
        "colab": {}
      },
      "source": [
        "conf_mat = confusion_matrix(y_test, y_pred)"
      ],
      "execution_count": 0,
      "outputs": []
    },
    {
      "cell_type": "code",
      "metadata": {
        "id": "ScNtuzXMoGLs",
        "colab_type": "code",
        "colab": {
          "base_uri": "https://localhost:8080/",
          "height": 530
        },
        "outputId": "bd9101aa-a839-4df7-a6bc-1205c1789299"
      },
      "source": [
        "plot_confusion_matrix(conf_mat, figsize=(8,8), show_normed=True)"
      ],
      "execution_count": 74,
      "outputs": [
        {
          "output_type": "execute_result",
          "data": {
            "text/plain": [
              "(<Figure size 576x576 with 1 Axes>,\n",
              " <matplotlib.axes._subplots.AxesSubplot at 0x7f715b9c4470>)"
            ]
          },
          "metadata": {
            "tags": []
          },
          "execution_count": 74
        },
        {
          "output_type": "display_data",
          "data": {
            "image/png": "[encoded data removed]",
            "text/plain": [
              "<Figure size 576x576 with 1 Axes>"
            ]
          },
          "metadata": {
            "tags": []
          }
        }
      ]
    },
    {
      "cell_type": "code",
      "metadata": {
        "id": "8kNV_4LzoOOG",
        "colab_type": "code",
        "colab": {}
      },
      "source": [
        ""
      ],
      "execution_count": 0,
      "outputs": []
    }
  ]
}