{
  "nbformat": 4,
  "nbformat_minor": 0,
  "metadata": {
    "colab": {
      "name": "ann_fashion_mnist.ipynb",
      "provenance": [],
      "authorship_tag": "ABX9TyNhM6XJgmrwFNel4Bt+sK8O",
      "include_colab_link": true
    },
    "kernelspec": {
      "name": "python3",
      "display_name": "Python 3"
    }
  },
  "cells": [
    {
      "cell_type": "markdown",
      "metadata": {
        "id": "view-in-github",
        "colab_type": "text"
      },
      "source": [
        "<a href=\"https://colab.research.google.com/github/ManojKumarTiwari/Tensorflow2AndKeras/blob/master/ann_fashion_mnist.ipynb\" target=\"_parent\"><img src=\"https://colab.research.google.com/assets/colab-badge.svg\" alt=\"Open In Colab\"/></a>"
      ]
    },
    {
      "cell_type": "markdown",
      "metadata": {
        "id": "CQwQgaw1zuDi",
        "colab_type": "text"
      },
      "source": [
        "# import"
      ]
    },
    {
      "cell_type": "code",
      "metadata": {
        "id": "IRyZkGsazn6N",
        "colab_type": "code",
        "colab": {
          "base_uri": "https://localhost:8080/",
          "height": 50
        },
        "outputId": "8cc12e76-96c2-4a5a-9e31-03fcba247b5f"
      },
      "source": [
        "import tensorflow as tf\n",
        "from tensorflow import keras\n",
        "print(tf.__version__)\n",
        "print(keras.__version__)"
      ],
      "execution_count": 1,
      "outputs": [
        {
          "output_type": "stream",
          "text": [
            "2.2.0\n",
            "2.3.0-tf\n"
          ],
          "name": "stdout"
        }
      ]
    },
    {
      "cell_type": "code",
      "metadata": {
        "id": "YWOzXrClz3bN",
        "colab_type": "code",
        "colab": {}
      },
      "source": [
        "# Dataset\n",
        "from tensorflow.keras.datasets import fashion_mnist\n",
        "\n",
        "# Model\n",
        "from tensorflow.keras import Sequential\n",
        "# Layer\n",
        "from tensorflow.keras.layers import Dense, Flatten, Dropout\n",
        "# Activation\n",
        "from tensorflow.keras.activations import relu, softmax\n",
        "# Optimization\n",
        "from tensorflow.keras.optimizers import Adam\n",
        "# Loss\n",
        "from tensorflow.keras.losses import sparse_categorical_crossentropy\n",
        "# Metric\n",
        "from tensorflow.keras.metrics import sparse_categorical_accuracy"
      ],
      "execution_count": 0,
      "outputs": []
    },
    {
      "cell_type": "code",
      "metadata": {
        "id": "WORVKJur0CZT",
        "colab_type": "code",
        "colab": {}
      },
      "source": [
        "import numpy as np\n",
        "import pandas as pd\n",
        "import matplotlib.pyplot as plt"
      ],
      "execution_count": 0,
      "outputs": []
    },
    {
      "cell_type": "markdown",
      "metadata": {
        "id": "YFuznszO0Hrb",
        "colab_type": "text"
      },
      "source": [
        "# load the data"
      ]
    },
    {
      "cell_type": "code",
      "metadata": {
        "id": "DMnocub10GtU",
        "colab_type": "code",
        "colab": {
          "base_uri": "https://localhost:8080/",
          "height": 151
        },
        "outputId": "92ddd1ae-9262-4c69-fc37-8c3055f52032"
      },
      "source": [
        "(X_train, y_train), (X_test, y_test) = fashion_mnist.load_data()"
      ],
      "execution_count": 4,
      "outputs": [
        {
          "output_type": "stream",
          "text": [
            "Downloading data from https://storage.googleapis.com/tensorflow/tf-keras-datasets/train-labels-idx1-ubyte.gz\n",
            "32768/29515 [=================================] - 0s 0us/step\n",
            "Downloading data from https://storage.googleapis.com/tensorflow/tf-keras-datasets/train-images-idx3-ubyte.gz\n",
            "26427392/26421880 [==============================] - 0s 0us/step\n",
            "Downloading data from https://storage.googleapis.com/tensorflow/tf-keras-datasets/t10k-labels-idx1-ubyte.gz\n",
            "8192/5148 [===============================================] - 0s 0us/step\n",
            "Downloading data from https://storage.googleapis.com/tensorflow/tf-keras-datasets/t10k-images-idx3-ubyte.gz\n",
            "4423680/4422102 [==============================] - 0s 0us/step\n"
          ],
          "name": "stdout"
        }
      ]
    },
    {
      "cell_type": "code",
      "metadata": {
        "id": "cINYkyTh0KBb",
        "colab_type": "code",
        "colab": {
          "base_uri": "https://localhost:8080/",
          "height": 34
        },
        "outputId": "9339c180-dff0-44e8-a491-b8591292f82e"
      },
      "source": [
        "X_train.shape, y_train.shape, X_test.shape, y_train.shape"
      ],
      "execution_count": 5,
      "outputs": [
        {
          "output_type": "execute_result",
          "data": {
            "text/plain": [
              "((60000, 28, 28), (60000,), (10000, 28, 28), (60000,))"
            ]
          },
          "metadata": {
            "tags": []
          },
          "execution_count": 5
        }
      ]
    },
    {
      "cell_type": "code",
      "metadata": {
        "id": "hXM4_g0X0KEA",
        "colab_type": "code",
        "colab": {
          "base_uri": "https://localhost:8080/",
          "height": 282
        },
        "outputId": "db4c06de-dca8-4ce3-c95d-601cd0e69c5e"
      },
      "source": [
        "plt.imshow(X_train[0])"
      ],
      "execution_count": 6,
      "outputs": [
        {
          "output_type": "execute_result",
          "data": {
            "text/plain": [
              "<matplotlib.image.AxesImage at 0x7f712193a080>"
            ]
          },
          "metadata": {
            "tags": []
          },
          "execution_count": 6
        },
        {
          "output_type": "display_data",
          "data": {
            "image/png": "[encoded data removed]",
            "text/plain": [
              "<Figure size 432x288 with 1 Axes>"
            ]
          },
          "metadata": {
            "tags": [],
            "needs_background": "light"
          }
        }
      ]
    },
    {
      "cell_type": "code",
      "metadata": {
        "id": "u6eVkVIg0KLC",
        "colab_type": "code",
        "colab": {
          "base_uri": "https://localhost:8080/",
          "height": 34
        },
        "outputId": "06fe5dda-e9d7-46a5-f462-1f3e40da26bf"
      },
      "source": [
        "y_train[0]"
      ],
      "execution_count": 7,
      "outputs": [
        {
          "output_type": "execute_result",
          "data": {
            "text/plain": [
              "9"
            ]
          },
          "metadata": {
            "tags": []
          },
          "execution_count": 7
        }
      ]
    },
    {
      "cell_type": "code",
      "metadata": {
        "id": "yWoOAiJA0KQO",
        "colab_type": "code",
        "colab": {
          "base_uri": "https://localhost:8080/",
          "height": 34
        },
        "outputId": "99bec7ce-073a-43e8-b7d9-ad083f65931f"
      },
      "source": [
        "set(y_train)"
      ],
      "execution_count": 8,
      "outputs": [
        {
          "output_type": "execute_result",
          "data": {
            "text/plain": [
              "{0, 1, 2, 3, 4, 5, 6, 7, 8, 9}"
            ]
          },
          "metadata": {
            "tags": []
          },
          "execution_count": 8
        }
      ]
    },
    {
      "cell_type": "code",
      "metadata": {
        "id": "LLW0AfNV0KWd",
        "colab_type": "code",
        "colab": {
          "base_uri": "https://localhost:8080/",
          "height": 34
        },
        "outputId": "d19c57be-059c-4102-81f3-ec36219dcb18"
      },
      "source": [
        "X_train.max()"
      ],
      "execution_count": 9,
      "outputs": [
        {
          "output_type": "execute_result",
          "data": {
            "text/plain": [
              "255"
            ]
          },
          "metadata": {
            "tags": []
          },
          "execution_count": 9
        }
      ]
    },
    {
      "cell_type": "code",
      "metadata": {
        "id": "EINalPgk0Klw",
        "colab_type": "code",
        "colab": {
          "base_uri": "https://localhost:8080/",
          "height": 34
        },
        "outputId": "83ed04b2-8a93-44e1-9bb7-ba17892f24fd"
      },
      "source": [
        "X_test.max()"
      ],
      "execution_count": 10,
      "outputs": [
        {
          "output_type": "execute_result",
          "data": {
            "text/plain": [
              "255"
            ]
          },
          "metadata": {
            "tags": []
          },
          "execution_count": 10
        }
      ]
    },
    {
      "cell_type": "code",
      "metadata": {
        "id": "H_ay7BMs0KoV",
        "colab_type": "code",
        "colab": {
          "base_uri": "https://localhost:8080/",
          "height": 34
        },
        "outputId": "06f82eda-e408-4dcf-e446-9baa1daa17d6"
      },
      "source": [
        "X_train[0].shape"
      ],
      "execution_count": 11,
      "outputs": [
        {
          "output_type": "execute_result",
          "data": {
            "text/plain": [
              "(28, 28)"
            ]
          },
          "metadata": {
            "tags": []
          },
          "execution_count": 11
        }
      ]
    },
    {
      "cell_type": "code",
      "metadata": {
        "id": "b5NOwDKA0Krx",
        "colab_type": "code",
        "colab": {}
      },
      "source": [
        "X_train = X_train/255.0\n",
        "X_test = X_test/255.0"
      ],
      "execution_count": 0,
      "outputs": []
    },
    {
      "cell_type": "markdown",
      "metadata": {
        "id": "0XJxO37B0sC2",
        "colab_type": "text"
      },
      "source": [
        "# build an ann\n",
        "- there are different syntaxs with which you can create models in Tensorflow"
      ]
    },
    {
      "cell_type": "code",
      "metadata": {
        "id": "B5UP7Dy60KTc",
        "colab_type": "code",
        "colab": {}
      },
      "source": [
        "# 1st way\n",
        "model = Sequential()\n",
        "model.add(Flatten(input_shape=[28,28]))\n",
        "model.add(Dense(300,relu))\n",
        "model.add(Dense(100,relu))\n",
        "model.add(Dense(10, softmax))"
      ],
      "execution_count": 0,
      "outputs": []
    },
    {
      "cell_type": "code",
      "metadata": {
        "id": "Z_XJjrlK0KN8",
        "colab_type": "code",
        "colab": {}
      },
      "source": [
        "# 2nd way\n",
        "model1 = Sequential([\n",
        "                    Flatten(input_shape=[28,28]),\n",
        "                    Dense(300, relu),\n",
        "                    Dense(100, relu),\n",
        "                    Dense(10, softmax)\n",
        "])"
      ],
      "execution_count": 0,
      "outputs": []
    },
    {
      "cell_type": "code",
      "metadata": {
        "id": "IIZQEYkL0KIr",
        "colab_type": "code",
        "colab": {
          "base_uri": "https://localhost:8080/",
          "height": 286
        },
        "outputId": "5b29c9ef-bdb6-459c-b17c-ca3a35e77a78"
      },
      "source": [
        "model.summary()"
      ],
      "execution_count": 15,
      "outputs": [
        {
          "output_type": "stream",
          "text": [
            "Model: \"sequential\"\n",
            "_________________________________________________________________\n",
            "Layer (type)                 Output Shape              Param #   \n",
            "=================================================================\n",
            "flatten (Flatten)            (None, 784)               0         \n",
            "_________________________________________________________________\n",
            "dense (Dense)                (None, 300)               235500    \n",
            "_________________________________________________________________\n",
            "dense_1 (Dense)              (None, 100)               30100     \n",
            "_________________________________________________________________\n",
            "dense_2 (Dense)              (None, 10)                1010      \n",
            "=================================================================\n",
            "Total params: 266,610\n",
            "Trainable params: 266,610\n",
            "Non-trainable params: 0\n",
            "_________________________________________________________________\n"
          ],
          "name": "stdout"
        }
      ]
    },
    {
      "cell_type": "markdown",
      "metadata": {
        "id": "QHloUF_f2mA8",
        "colab_type": "text"
      },
      "source": [
        "# compile the model"
      ]
    },
    {
      "cell_type": "code",
      "metadata": {
        "id": "OUFKZJQe0KGm",
        "colab_type": "code",
        "colab": {}
      },
      "source": [
        "model.compile(optimizer='adam', loss=sparse_categorical_crossentropy, metrics=[sparse_categorical_accuracy])"
      ],
      "execution_count": 0,
      "outputs": []
    },
    {
      "cell_type": "markdown",
      "metadata": {
        "id": "9zkREkxv278W",
        "colab_type": "text"
      },
      "source": [
        "# train the model"
      ]
    },
    {
      "cell_type": "code",
      "metadata": {
        "id": "Jy6eWjB32qsT",
        "colab_type": "code",
        "colab": {
          "base_uri": "https://localhost:8080/",
          "height": 373
        },
        "outputId": "f2e62ecd-e47e-4e0f-e6ce-588c1519f519"
      },
      "source": [
        "history = model.fit(X_train, y_train, batch_size=30, validation_split=0.2, epochs=10)"
      ],
      "execution_count": 18,
      "outputs": [
        {
          "output_type": "stream",
          "text": [
            "Epoch 1/10\n",
            "1600/1600 [==============================] - 6s 4ms/step - loss: 0.4948 - sparse_categorical_accuracy: 0.8199 - val_loss: 0.4246 - val_sparse_categorical_accuracy: 0.8456\n",
            "Epoch 2/10\n",
            "1600/1600 [==============================] - 6s 4ms/step - loss: 0.3699 - sparse_categorical_accuracy: 0.8632 - val_loss: 0.3888 - val_sparse_categorical_accuracy: 0.8527\n",
            "Epoch 3/10\n",
            "1600/1600 [==============================] - 6s 4ms/step - loss: 0.3309 - sparse_categorical_accuracy: 0.8778 - val_loss: 0.3540 - val_sparse_categorical_accuracy: 0.8720\n",
            "Epoch 4/10\n",
            "1600/1600 [==============================] - 6s 4ms/step - loss: 0.3077 - sparse_categorical_accuracy: 0.8853 - val_loss: 0.3564 - val_sparse_categorical_accuracy: 0.8709\n",
            "Epoch 5/10\n",
            "1600/1600 [==============================] - 6s 4ms/step - loss: 0.2868 - sparse_categorical_accuracy: 0.8924 - val_loss: 0.3310 - val_sparse_categorical_accuracy: 0.8808\n",
            "Epoch 6/10\n",
            "1600/1600 [==============================] - 6s 4ms/step - loss: 0.2720 - sparse_categorical_accuracy: 0.8973 - val_loss: 0.3380 - val_sparse_categorical_accuracy: 0.8764\n",
            "Epoch 7/10\n",
            "1600/1600 [==============================] - 6s 4ms/step - loss: 0.2589 - sparse_categorical_accuracy: 0.9021 - val_loss: 0.3350 - val_sparse_categorical_accuracy: 0.8862\n",
            "Epoch 8/10\n",
            "1600/1600 [==============================] - 6s 4ms/step - loss: 0.2492 - sparse_categorical_accuracy: 0.9050 - val_loss: 0.3186 - val_sparse_categorical_accuracy: 0.8871\n",
            "Epoch 9/10\n",
            "1600/1600 [==============================] - 6s 4ms/step - loss: 0.2356 - sparse_categorical_accuracy: 0.9103 - val_loss: 0.3220 - val_sparse_categorical_accuracy: 0.8888\n",
            "Epoch 10/10\n",
            "1600/1600 [==============================] - 6s 4ms/step - loss: 0.2257 - sparse_categorical_accuracy: 0.9138 - val_loss: 0.3238 - val_sparse_categorical_accuracy: 0.8840\n"
          ],
          "name": "stdout"
        }
      ]
    },
    {
      "cell_type": "code",
      "metadata": {
        "id": "FqfzHHDD2q4q",
        "colab_type": "code",
        "colab": {
          "base_uri": "https://localhost:8080/",
          "height": 689
        },
        "outputId": "662415a3-7fa5-49d2-9c6d-228bd804fbe8"
      },
      "source": [
        "history.history"
      ],
      "execution_count": 20,
      "outputs": [
        {
          "output_type": "execute_result",
          "data": {
            "text/plain": [
              "{'loss': [0.49477580189704895,\n",
              "  0.3698851764202118,\n",
              "  0.330863356590271,\n",
              "  0.3077448606491089,\n",
              "  0.2868325114250183,\n",
              "  0.27204880118370056,\n",
              "  0.2588658630847931,\n",
              "  0.24921546876430511,\n",
              "  0.2355818748474121,\n",
              "  0.22566865384578705],\n",
              " 'sparse_categorical_accuracy': [0.8198750019073486,\n",
              "  0.8631874918937683,\n",
              "  0.8778333067893982,\n",
              "  0.8853333592414856,\n",
              "  0.8923958539962769,\n",
              "  0.8973333239555359,\n",
              "  0.9021458625793457,\n",
              "  0.9049583077430725,\n",
              "  0.9102708101272583,\n",
              "  0.913770854473114],\n",
              " 'val_loss': [0.42462870478630066,\n",
              "  0.388815313577652,\n",
              "  0.3539881110191345,\n",
              "  0.3563566505908966,\n",
              "  0.33095023036003113,\n",
              "  0.33802542090415955,\n",
              "  0.3350182771682739,\n",
              "  0.3185911774635315,\n",
              "  0.3220408856868744,\n",
              "  0.32380494475364685],\n",
              " 'val_sparse_categorical_accuracy': [0.8455833196640015,\n",
              "  0.8526666760444641,\n",
              "  0.871999979019165,\n",
              "  0.8709166646003723,\n",
              "  0.8807500004768372,\n",
              "  0.8764166831970215,\n",
              "  0.8861666917800903,\n",
              "  0.8870833516120911,\n",
              "  0.8887500166893005,\n",
              "  0.8840000033378601]}"
            ]
          },
          "metadata": {
            "tags": []
          },
          "execution_count": 20
        }
      ]
    },
    {
      "cell_type": "code",
      "metadata": {
        "id": "Qt1FQpyv2rDd",
        "colab_type": "code",
        "colab": {
          "base_uri": "https://localhost:8080/",
          "height": 343
        },
        "outputId": "693ead35-1127-4a1d-f35d-6e6ea937165e"
      },
      "source": [
        "history_df = pd.DataFrame(history.history)\n",
        "history_df"
      ],
      "execution_count": 21,
      "outputs": [
        {
          "output_type": "execute_result",
          "data": {
            "text/html": [
              "<div>\n",
              "<style scoped>\n",
              "    .dataframe tbody tr th:only-of-type {\n",
              "        vertical-align: middle;\n",
              "    }\n",
              "\n",
              "    .dataframe tbody tr th {\n",
              "        vertical-align: top;\n",
              "    }\n",
              "\n",
              "    .dataframe thead th {\n",
              "        text-align: right;\n",
              "    }\n",
              "</style>\n",
              "<table border=\"1\" class=\"dataframe\">\n",
              "  <thead>\n",
              "    <tr style=\"text-align: right;\">\n",
              "      <th></th>\n",
              "      <th>loss</th>\n",
              "      <th>sparse_categorical_accuracy</th>\n",
              "      <th>val_loss</th>\n",
              "      <th>val_sparse_categorical_accuracy</th>\n",
              "    </tr>\n",
              "  </thead>\n",
              "  <tbody>\n",
              "    <tr>\n",
              "      <th>0</th>\n",
              "      <td>0.494776</td>\n",
              "      <td>0.819875</td>\n",
              "      <td>0.424629</td>\n",
              "      <td>0.845583</td>\n",
              "    </tr>\n",
              "    <tr>\n",
              "      <th>1</th>\n",
              "      <td>0.369885</td>\n",
              "      <td>0.863187</td>\n",
              "      <td>0.388815</td>\n",
              "      <td>0.852667</td>\n",
              "    </tr>\n",
              "    <tr>\n",
              "      <th>2</th>\n",
              "      <td>0.330863</td>\n",
              "      <td>0.877833</td>\n",
              "      <td>0.353988</td>\n",
              "      <td>0.872000</td>\n",
              "    </tr>\n",
              "    <tr>\n",
              "      <th>3</th>\n",
              "      <td>0.307745</td>\n",
              "      <td>0.885333</td>\n",
              "      <td>0.356357</td>\n",
              "      <td>0.870917</td>\n",
              "    </tr>\n",
              "    <tr>\n",
              "      <th>4</th>\n",
              "      <td>0.286833</td>\n",
              "      <td>0.892396</td>\n",
              "      <td>0.330950</td>\n",
              "      <td>0.880750</td>\n",
              "    </tr>\n",
              "    <tr>\n",
              "      <th>5</th>\n",
              "      <td>0.272049</td>\n",
              "      <td>0.897333</td>\n",
              "      <td>0.338025</td>\n",
              "      <td>0.876417</td>\n",
              "    </tr>\n",
              "    <tr>\n",
              "      <th>6</th>\n",
              "      <td>0.258866</td>\n",
              "      <td>0.902146</td>\n",
              "      <td>0.335018</td>\n",
              "      <td>0.886167</td>\n",
              "    </tr>\n",
              "    <tr>\n",
              "      <th>7</th>\n",
              "      <td>0.249215</td>\n",
              "      <td>0.904958</td>\n",
              "      <td>0.318591</td>\n",
              "      <td>0.887083</td>\n",
              "    </tr>\n",
              "    <tr>\n",
              "      <th>8</th>\n",
              "      <td>0.235582</td>\n",
              "      <td>0.910271</td>\n",
              "      <td>0.322041</td>\n",
              "      <td>0.888750</td>\n",
              "    </tr>\n",
              "    <tr>\n",
              "      <th>9</th>\n",
              "      <td>0.225669</td>\n",
              "      <td>0.913771</td>\n",
              "      <td>0.323805</td>\n",
              "      <td>0.884000</td>\n",
              "    </tr>\n",
              "  </tbody>\n",
              "</table>\n",
              "</div>"
            ],
            "text/plain": [
              "       loss  ...  val_sparse_categorical_accuracy\n",
              "0  0.494776  ...                         0.845583\n",
              "1  0.369885  ...                         0.852667\n",
              "2  0.330863  ...                         0.872000\n",
              "3  0.307745  ...                         0.870917\n",
              "4  0.286833  ...                         0.880750\n",
              "5  0.272049  ...                         0.876417\n",
              "6  0.258866  ...                         0.886167\n",
              "7  0.249215  ...                         0.887083\n",
              "8  0.235582  ...                         0.888750\n",
              "9  0.225669  ...                         0.884000\n",
              "\n",
              "[10 rows x 4 columns]"
            ]
          },
          "metadata": {
            "tags": []
          },
          "execution_count": 21
        }
      ]
    },
    {
      "cell_type": "code",
      "metadata": {
        "id": "6_W1hhg22rMs",
        "colab_type": "code",
        "colab": {
          "base_uri": "https://localhost:8080/",
          "height": 487
        },
        "outputId": "8967b40f-c615-4c16-9c72-9e3f3790e5c0"
      },
      "source": [
        "history_df.plot(figsize=(12,8))\n",
        "plt.grid(True)\n",
        "plt.gca().set_ylim(0,1)\n",
        "plt.show()"
      ],
      "execution_count": 22,
      "outputs": [
        {
          "output_type": "display_data",
          "data": {
            "image/png": "[encoded data removed]",
            "text/plain": [
              "<Figure size 864x576 with 1 Axes>"
            ]
          },
          "metadata": {
            "tags": [],
            "needs_background": "light"
          }
        }
      ]
    },
    {
      "cell_type": "markdown",
      "metadata": {
        "id": "E40-T3zV7aRy",
        "colab_type": "text"
      },
      "source": [
        "# evaluate"
      ]
    },
    {
      "cell_type": "code",
      "metadata": {
        "id": "oJVuhFTN7eq1",
        "colab_type": "code",
        "colab": {
          "base_uri": "https://localhost:8080/",
          "height": 50
        },
        "outputId": "74ba1c99-2527-4002-9480-88ab7d08eed3"
      },
      "source": [
        "model.evaluate(X_test, y_test)"
      ],
      "execution_count": 28,
      "outputs": [
        {
          "output_type": "stream",
          "text": [
            "313/313 [==============================] - 1s 2ms/step - loss: 0.3463 - sparse_categorical_accuracy: 0.8782\n"
          ],
          "name": "stdout"
        },
        {
          "output_type": "execute_result",
          "data": {
            "text/plain": [
              "[0.3463282585144043, 0.8781999945640564]"
            ]
          },
          "metadata": {
            "tags": []
          },
          "execution_count": 28
        }
      ]
    },
    {
      "cell_type": "markdown",
      "metadata": {
        "id": "4vCjlTQm6QuS",
        "colab_type": "text"
      },
      "source": [
        "# predict"
      ]
    },
    {
      "cell_type": "code",
      "metadata": {
        "id": "7v5LyXsk2rUm",
        "colab_type": "code",
        "colab": {}
      },
      "source": [
        "X_new = X_test[:3]"
      ],
      "execution_count": 0,
      "outputs": []
    },
    {
      "cell_type": "code",
      "metadata": {
        "id": "Huq7SL3F2rbz",
        "colab_type": "code",
        "colab": {
          "base_uri": "https://localhost:8080/",
          "height": 118
        },
        "outputId": "8550309d-3dec-4fb4-86d9-4eda82d13a62"
      },
      "source": [
        "pred = model.predict(X_new)\n",
        "pred.round(3)"
      ],
      "execution_count": 26,
      "outputs": [
        {
          "output_type": "execute_result",
          "data": {
            "text/plain": [
              "array([[0.   , 0.   , 0.   , 0.   , 0.   , 0.001, 0.   , 0.001, 0.   ,\n",
              "        0.998],\n",
              "       [0.   , 0.   , 0.991, 0.   , 0.007, 0.   , 0.001, 0.   , 0.   ,\n",
              "        0.   ],\n",
              "       [0.   , 1.   , 0.   , 0.   , 0.   , 0.   , 0.   , 0.   , 0.   ,\n",
              "        0.   ]], dtype=float32)"
            ]
          },
          "metadata": {
            "tags": []
          },
          "execution_count": 26
        }
      ]
    },
    {
      "cell_type": "code",
      "metadata": {
        "id": "bDH2TPQT2rfd",
        "colab_type": "code",
        "colab": {
          "base_uri": "https://localhost:8080/",
          "height": 104
        },
        "outputId": "a774fea6-e62b-4387-aeab-6b0491813de0"
      },
      "source": [
        "pred_class = model.predict_classes(X_new)\n",
        "pred_class"
      ],
      "execution_count": 27,
      "outputs": [
        {
          "output_type": "stream",
          "text": [
            "WARNING:tensorflow:From <ipython-input-27-e6c2be28c95e>:1: Sequential.predict_classes (from tensorflow.python.keras.engine.sequential) is deprecated and will be removed after 2021-01-01.\n",
            "Instructions for updating:\n",
            "Please use instead:* `np.argmax(model.predict(x), axis=-1)`,   if your model does multi-class classification   (e.g. if it uses a `softmax` last-layer activation).* `(model.predict(x) > 0.5).astype(\"int32\")`,   if your model does binary classification   (e.g. if it uses a `sigmoid` last-layer activation).\n"
          ],
          "name": "stdout"
        },
        {
          "output_type": "execute_result",
          "data": {
            "text/plain": [
              "array([9, 2, 1])"
            ]
          },
          "metadata": {
            "tags": []
          },
          "execution_count": 27
        }
      ]
    },
    {
      "cell_type": "code",
      "metadata": {
        "id": "somUXLRu2rnB",
        "colab_type": "code",
        "colab": {}
      },
      "source": [
        ""
      ],
      "execution_count": 0,
      "outputs": []
    },
    {
      "cell_type": "code",
      "metadata": {
        "id": "yMF2txoC2rqY",
        "colab_type": "code",
        "colab": {}
      },
      "source": [
        ""
      ],
      "execution_count": 0,
      "outputs": []
    },
    {
      "cell_type": "code",
      "metadata": {
        "id": "prsKRAvf2rY7",
        "colab_type": "code",
        "colab": {}
      },
      "source": [
        ""
      ],
      "execution_count": 0,
      "outputs": []
    }
  ]
}