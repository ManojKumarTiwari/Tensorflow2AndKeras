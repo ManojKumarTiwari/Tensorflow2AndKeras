{
  "nbformat": 4,
  "nbformat_minor": 0,
  "metadata": {
    "colab": {
      "name": "ann_fashion_mnist.ipynb",
      "provenance": [],
      "toc_visible": true,
      "authorship_tag": "ABX9TyOlZD2NsDnEDgv7NAvtihYM",
      "include_colab_link": true
    },
    "kernelspec": {
      "name": "python3",
      "display_name": "Python 3"
    }
  },
  "cells": [
    {
      "cell_type": "markdown",
      "metadata": {
        "id": "view-in-github",
        "colab_type": "text"
      },
      "source": [
        "<a href=\"https://colab.research.google.com/github/ManojKumarTiwari/Tensorflow2AndKeras/blob/master/ann_fashion_mnist.ipynb\" target=\"_parent\"><img src=\"https://colab.research.google.com/assets/colab-badge.svg\" alt=\"Open In Colab\"/></a>"
      ]
    },
    {
      "cell_type": "markdown",
      "metadata": {
        "id": "CQwQgaw1zuDi",
        "colab_type": "text"
      },
      "source": [
        "# import"
      ]
    },
    {
      "cell_type": "code",
      "metadata": {
        "id": "IRyZkGsazn6N",
        "colab_type": "code",
        "outputId": "c5538547-1656-4a4f-ca33-03cf5b38165e",
        "colab": {
          "base_uri": "https://localhost:8080/",
          "height": 50
        }
      },
      "source": [
        "import tensorflow as tf\n",
        "from tensorflow import keras\n",
        "print(tf.__version__)\n",
        "print(keras.__version__)"
      ],
      "execution_count": 1,
      "outputs": [
        {
          "output_type": "stream",
          "text": [
            "2.2.0\n",
            "2.3.0-tf\n"
          ],
          "name": "stdout"
        }
      ]
    },
    {
      "cell_type": "code",
      "metadata": {
        "id": "YWOzXrClz3bN",
        "colab_type": "code",
        "colab": {}
      },
      "source": [
        "# Dataset\n",
        "from tensorflow.keras.datasets import fashion_mnist\n",
        "\n",
        "# Model\n",
        "from tensorflow.keras import Sequential\n",
        "# Layer\n",
        "from tensorflow.keras.layers import Dense, Flatten, Dropout\n",
        "# Activation\n",
        "from tensorflow.keras.activations import relu, softmax\n",
        "# Optimization\n",
        "from tensorflow.keras.optimizers import Adam\n",
        "# Loss\n",
        "from tensorflow.keras.losses import sparse_categorical_crossentropy\n",
        "# Metric\n",
        "from tensorflow.keras.metrics import sparse_categorical_accuracy"
      ],
      "execution_count": 0,
      "outputs": []
    },
    {
      "cell_type": "code",
      "metadata": {
        "id": "WORVKJur0CZT",
        "colab_type": "code",
        "colab": {}
      },
      "source": [
        "import numpy as np\n",
        "import pandas as pd\n",
        "import matplotlib.pyplot as plt"
      ],
      "execution_count": 0,
      "outputs": []
    },
    {
      "cell_type": "markdown",
      "metadata": {
        "id": "YFuznszO0Hrb",
        "colab_type": "text"
      },
      "source": [
        "# load the data"
      ]
    },
    {
      "cell_type": "code",
      "metadata": {
        "id": "DMnocub10GtU",
        "colab_type": "code",
        "outputId": "81292ae1-c16b-49a2-df61-6ed2f78208d6",
        "colab": {
          "base_uri": "https://localhost:8080/",
          "height": 151
        }
      },
      "source": [
        "(X_train, y_train), (X_test, y_test) = fashion_mnist.load_data()"
      ],
      "execution_count": 6,
      "outputs": [
        {
          "output_type": "stream",
          "text": [
            "Downloading data from https://storage.googleapis.com/tensorflow/tf-keras-datasets/train-labels-idx1-ubyte.gz\n",
            "32768/29515 [=================================] - 0s 0us/step\n",
            "Downloading data from https://storage.googleapis.com/tensorflow/tf-keras-datasets/train-images-idx3-ubyte.gz\n",
            "26427392/26421880 [==============================] - 0s 0us/step\n",
            "Downloading data from https://storage.googleapis.com/tensorflow/tf-keras-datasets/t10k-labels-idx1-ubyte.gz\n",
            "8192/5148 [===============================================] - 0s 0us/step\n",
            "Downloading data from https://storage.googleapis.com/tensorflow/tf-keras-datasets/t10k-images-idx3-ubyte.gz\n",
            "4423680/4422102 [==============================] - 0s 0us/step\n"
          ],
          "name": "stdout"
        }
      ]
    },
    {
      "cell_type": "code",
      "metadata": {
        "id": "cINYkyTh0KBb",
        "colab_type": "code",
        "outputId": "10061f62-9503-46b6-a007-7c28d70f67d0",
        "colab": {
          "base_uri": "https://localhost:8080/",
          "height": 34
        }
      },
      "source": [
        "X_train.shape, y_train.shape, X_test.shape, y_train.shape"
      ],
      "execution_count": 7,
      "outputs": [
        {
          "output_type": "execute_result",
          "data": {
            "text/plain": [
              "((60000, 28, 28), (60000,), (10000, 28, 28), (60000,))"
            ]
          },
          "metadata": {
            "tags": []
          },
          "execution_count": 7
        }
      ]
    },
    {
      "cell_type": "code",
      "metadata": {
        "id": "hXM4_g0X0KEA",
        "colab_type": "code",
        "outputId": "9032c39f-1898-43ba-94c6-4783ffb73446",
        "colab": {
          "base_uri": "https://localhost:8080/",
          "height": 282
        }
      },
      "source": [
        "plt.imshow(X_train[0])"
      ],
      "execution_count": 8,
      "outputs": [
        {
          "output_type": "execute_result",
          "data": {
            "text/plain": [
              "<matplotlib.image.AxesImage at 0x7f4468cf9470>"
            ]
          },
          "metadata": {
            "tags": []
          },
          "execution_count": 8
        },
        {
          "output_type": "display_data",
          "data": {
            "image/png": "[encoded data removed]",
            "text/plain": [
              "<Figure size 432x288 with 1 Axes>"
            ]
          },
          "metadata": {
            "tags": [],
            "needs_background": "light"
          }
        }
      ]
    },
    {
      "cell_type": "code",
      "metadata": {
        "id": "u6eVkVIg0KLC",
        "colab_type": "code",
        "outputId": "806254f6-fa66-4029-ee45-57114e01441c",
        "colab": {
          "base_uri": "https://localhost:8080/",
          "height": 34
        }
      },
      "source": [
        "y_train[0]"
      ],
      "execution_count": 9,
      "outputs": [
        {
          "output_type": "execute_result",
          "data": {
            "text/plain": [
              "9"
            ]
          },
          "metadata": {
            "tags": []
          },
          "execution_count": 9
        }
      ]
    },
    {
      "cell_type": "code",
      "metadata": {
        "id": "yWoOAiJA0KQO",
        "colab_type": "code",
        "outputId": "8cbe5db4-b3dd-4c2b-9055-24160d8bb485",
        "colab": {
          "base_uri": "https://localhost:8080/",
          "height": 34
        }
      },
      "source": [
        "set(y_train)"
      ],
      "execution_count": 10,
      "outputs": [
        {
          "output_type": "execute_result",
          "data": {
            "text/plain": [
              "{0, 1, 2, 3, 4, 5, 6, 7, 8, 9}"
            ]
          },
          "metadata": {
            "tags": []
          },
          "execution_count": 10
        }
      ]
    },
    {
      "cell_type": "code",
      "metadata": {
        "id": "LLW0AfNV0KWd",
        "colab_type": "code",
        "outputId": "23f5fe23-73b1-44d0-e184-1aad432a2f43",
        "colab": {
          "base_uri": "https://localhost:8080/",
          "height": 34
        }
      },
      "source": [
        "X_train.max()"
      ],
      "execution_count": 11,
      "outputs": [
        {
          "output_type": "execute_result",
          "data": {
            "text/plain": [
              "255"
            ]
          },
          "metadata": {
            "tags": []
          },
          "execution_count": 11
        }
      ]
    },
    {
      "cell_type": "code",
      "metadata": {
        "id": "EINalPgk0Klw",
        "colab_type": "code",
        "outputId": "9dba01a3-2699-4162-e423-4d0f8a8eeaa4",
        "colab": {
          "base_uri": "https://localhost:8080/",
          "height": 34
        }
      },
      "source": [
        "X_test.max()"
      ],
      "execution_count": 12,
      "outputs": [
        {
          "output_type": "execute_result",
          "data": {
            "text/plain": [
              "255"
            ]
          },
          "metadata": {
            "tags": []
          },
          "execution_count": 12
        }
      ]
    },
    {
      "cell_type": "code",
      "metadata": {
        "id": "H_ay7BMs0KoV",
        "colab_type": "code",
        "outputId": "fda39a60-b717-43e5-d9ba-de5da2032b54",
        "colab": {
          "base_uri": "https://localhost:8080/",
          "height": 34
        }
      },
      "source": [
        "X_train[0].shape"
      ],
      "execution_count": 13,
      "outputs": [
        {
          "output_type": "execute_result",
          "data": {
            "text/plain": [
              "(28, 28)"
            ]
          },
          "metadata": {
            "tags": []
          },
          "execution_count": 13
        }
      ]
    },
    {
      "cell_type": "code",
      "metadata": {
        "id": "b5NOwDKA0Krx",
        "colab_type": "code",
        "colab": {}
      },
      "source": [
        "X_train = X_train/255.0\n",
        "X_test = X_test/255.0"
      ],
      "execution_count": 0,
      "outputs": []
    },
    {
      "cell_type": "markdown",
      "metadata": {
        "id": "0XJxO37B0sC2",
        "colab_type": "text"
      },
      "source": [
        "# build an ann\n",
        "- there are different syntaxs with which you can create models in Tensorflow"
      ]
    },
    {
      "cell_type": "code",
      "metadata": {
        "id": "B5UP7Dy60KTc",
        "colab_type": "code",
        "colab": {}
      },
      "source": [
        "# 1st way\n",
        "model = Sequential()\n",
        "model.add(Flatten(input_shape=[28,28]))\n",
        "model.add(Dense(300,relu))\n",
        "model.add(Dense(100,relu))\n",
        "model.add(Dense(10, softmax))"
      ],
      "execution_count": 0,
      "outputs": []
    },
    {
      "cell_type": "code",
      "metadata": {
        "id": "Z_XJjrlK0KN8",
        "colab_type": "code",
        "colab": {}
      },
      "source": [
        "# 2nd way\n",
        "model1 = Sequential([\n",
        "                    Flatten(input_shape=[28,28]),\n",
        "                    Dense(300, relu),\n",
        "                    Dense(100, relu),\n",
        "                    Dense(10, softmax)\n",
        "])"
      ],
      "execution_count": 0,
      "outputs": []
    },
    {
      "cell_type": "code",
      "metadata": {
        "id": "IIZQEYkL0KIr",
        "colab_type": "code",
        "outputId": "d1594679-20cc-47af-d79d-28f9c7148f1d",
        "colab": {
          "base_uri": "https://localhost:8080/",
          "height": 286
        }
      },
      "source": [
        "model.summary()"
      ],
      "execution_count": 17,
      "outputs": [
        {
          "output_type": "stream",
          "text": [
            "Model: \"sequential\"\n",
            "_________________________________________________________________\n",
            "Layer (type)                 Output Shape              Param #   \n",
            "=================================================================\n",
            "flatten (Flatten)            (None, 784)               0         \n",
            "_________________________________________________________________\n",
            "dense (Dense)                (None, 300)               235500    \n",
            "_________________________________________________________________\n",
            "dense_1 (Dense)              (None, 100)               30100     \n",
            "_________________________________________________________________\n",
            "dense_2 (Dense)              (None, 10)                1010      \n",
            "=================================================================\n",
            "Total params: 266,610\n",
            "Trainable params: 266,610\n",
            "Non-trainable params: 0\n",
            "_________________________________________________________________\n"
          ],
          "name": "stdout"
        }
      ]
    },
    {
      "cell_type": "markdown",
      "metadata": {
        "id": "QHloUF_f2mA8",
        "colab_type": "text"
      },
      "source": [
        "# compile the model"
      ]
    },
    {
      "cell_type": "code",
      "metadata": {
        "id": "OUFKZJQe0KGm",
        "colab_type": "code",
        "colab": {}
      },
      "source": [
        "model.compile(optimizer='adam', loss=sparse_categorical_crossentropy, metrics=[sparse_categorical_accuracy])"
      ],
      "execution_count": 0,
      "outputs": []
    },
    {
      "cell_type": "markdown",
      "metadata": {
        "id": "9zkREkxv278W",
        "colab_type": "text"
      },
      "source": [
        "# train the model"
      ]
    },
    {
      "cell_type": "code",
      "metadata": {
        "id": "Jy6eWjB32qsT",
        "colab_type": "code",
        "outputId": "42b8b455-8e40-4612-d5e5-22d0f266885b",
        "colab": {
          "base_uri": "https://localhost:8080/",
          "height": 373
        }
      },
      "source": [
        "history = model.fit(X_train, y_train, batch_size=30, validation_split=0.2, epochs=10)"
      ],
      "execution_count": 19,
      "outputs": [
        {
          "output_type": "stream",
          "text": [
            "Epoch 1/10\n",
            "1600/1600 [==============================] - 6s 3ms/step - loss: 0.4947 - sparse_categorical_accuracy: 0.8221 - val_loss: 0.4070 - val_sparse_categorical_accuracy: 0.8528\n",
            "Epoch 2/10\n",
            "1600/1600 [==============================] - 6s 3ms/step - loss: 0.3728 - sparse_categorical_accuracy: 0.8627 - val_loss: 0.3995 - val_sparse_categorical_accuracy: 0.8572\n",
            "Epoch 3/10\n",
            "1600/1600 [==============================] - 5s 3ms/step - loss: 0.3304 - sparse_categorical_accuracy: 0.8779 - val_loss: 0.3675 - val_sparse_categorical_accuracy: 0.8637\n",
            "Epoch 4/10\n",
            "1600/1600 [==============================] - 5s 3ms/step - loss: 0.3093 - sparse_categorical_accuracy: 0.8845 - val_loss: 0.3438 - val_sparse_categorical_accuracy: 0.8750\n",
            "Epoch 5/10\n",
            "1600/1600 [==============================] - 5s 3ms/step - loss: 0.2901 - sparse_categorical_accuracy: 0.8909 - val_loss: 0.3858 - val_sparse_categorical_accuracy: 0.8651\n",
            "Epoch 6/10\n",
            "1600/1600 [==============================] - 5s 3ms/step - loss: 0.2731 - sparse_categorical_accuracy: 0.8962 - val_loss: 0.3298 - val_sparse_categorical_accuracy: 0.8832\n",
            "Epoch 7/10\n",
            "1600/1600 [==============================] - 5s 3ms/step - loss: 0.2598 - sparse_categorical_accuracy: 0.9027 - val_loss: 0.3361 - val_sparse_categorical_accuracy: 0.8828\n",
            "Epoch 8/10\n",
            "1600/1600 [==============================] - 5s 3ms/step - loss: 0.2497 - sparse_categorical_accuracy: 0.9040 - val_loss: 0.3332 - val_sparse_categorical_accuracy: 0.8841\n",
            "Epoch 9/10\n",
            "1600/1600 [==============================] - 5s 3ms/step - loss: 0.2374 - sparse_categorical_accuracy: 0.9098 - val_loss: 0.3277 - val_sparse_categorical_accuracy: 0.8862\n",
            "Epoch 10/10\n",
            "1600/1600 [==============================] - 5s 3ms/step - loss: 0.2306 - sparse_categorical_accuracy: 0.9113 - val_loss: 0.3325 - val_sparse_categorical_accuracy: 0.8809\n"
          ],
          "name": "stdout"
        }
      ]
    },
    {
      "cell_type": "code",
      "metadata": {
        "id": "FqfzHHDD2q4q",
        "colab_type": "code",
        "outputId": "74722473-a7e5-4eee-d4d8-7576e0638410",
        "colab": {
          "base_uri": "https://localhost:8080/",
          "height": 689
        }
      },
      "source": [
        "history.history"
      ],
      "execution_count": 20,
      "outputs": [
        {
          "output_type": "execute_result",
          "data": {
            "text/plain": [
              "{'loss': [0.4946703016757965,\n",
              "  0.3728408217430115,\n",
              "  0.3304460346698761,\n",
              "  0.3093259334564209,\n",
              "  0.29007232189178467,\n",
              "  0.2730553150177002,\n",
              "  0.2597871422767639,\n",
              "  0.24974222481250763,\n",
              "  0.23744606971740723,\n",
              "  0.23063477873802185],\n",
              " 'sparse_categorical_accuracy': [0.8221041560173035,\n",
              "  0.8626875281333923,\n",
              "  0.8778749704360962,\n",
              "  0.8845416903495789,\n",
              "  0.8908958435058594,\n",
              "  0.8962291479110718,\n",
              "  0.9027083516120911,\n",
              "  0.9039999842643738,\n",
              "  0.9097708463668823,\n",
              "  0.9112708568572998],\n",
              " 'val_loss': [0.4070410132408142,\n",
              "  0.3994710147380829,\n",
              "  0.3674924373626709,\n",
              "  0.3438439965248108,\n",
              "  0.38581159710884094,\n",
              "  0.32977694272994995,\n",
              "  0.3360803425312042,\n",
              "  0.33323049545288086,\n",
              "  0.3277064859867096,\n",
              "  0.33245229721069336],\n",
              " 'val_sparse_categorical_accuracy': [0.8528333306312561,\n",
              "  0.8571666479110718,\n",
              "  0.8636666536331177,\n",
              "  0.875,\n",
              "  0.8650833368301392,\n",
              "  0.8831666707992554,\n",
              "  0.8828333616256714,\n",
              "  0.8840833306312561,\n",
              "  0.8861666917800903,\n",
              "  0.8809166550636292]}"
            ]
          },
          "metadata": {
            "tags": []
          },
          "execution_count": 20
        }
      ]
    },
    {
      "cell_type": "code",
      "metadata": {
        "id": "Qt1FQpyv2rDd",
        "colab_type": "code",
        "outputId": "c1f82aa3-515d-481f-d87f-7ce26dadb55a",
        "colab": {
          "base_uri": "https://localhost:8080/",
          "height": 343
        }
      },
      "source": [
        "history_df = pd.DataFrame(history.history)\n",
        "history_df"
      ],
      "execution_count": 21,
      "outputs": [
        {
          "output_type": "execute_result",
          "data": {
            "text/html": [
              "<div>\n",
              "<style scoped>\n",
              "    .dataframe tbody tr th:only-of-type {\n",
              "        vertical-align: middle;\n",
              "    }\n",
              "\n",
              "    .dataframe tbody tr th {\n",
              "        vertical-align: top;\n",
              "    }\n",
              "\n",
              "    .dataframe thead th {\n",
              "        text-align: right;\n",
              "    }\n",
              "</style>\n",
              "<table border=\"1\" class=\"dataframe\">\n",
              "  <thead>\n",
              "    <tr style=\"text-align: right;\">\n",
              "      <th></th>\n",
              "      <th>loss</th>\n",
              "      <th>sparse_categorical_accuracy</th>\n",
              "      <th>val_loss</th>\n",
              "      <th>val_sparse_categorical_accuracy</th>\n",
              "    </tr>\n",
              "  </thead>\n",
              "  <tbody>\n",
              "    <tr>\n",
              "      <th>0</th>\n",
              "      <td>0.494670</td>\n",
              "      <td>0.822104</td>\n",
              "      <td>0.407041</td>\n",
              "      <td>0.852833</td>\n",
              "    </tr>\n",
              "    <tr>\n",
              "      <th>1</th>\n",
              "      <td>0.372841</td>\n",
              "      <td>0.862688</td>\n",
              "      <td>0.399471</td>\n",
              "      <td>0.857167</td>\n",
              "    </tr>\n",
              "    <tr>\n",
              "      <th>2</th>\n",
              "      <td>0.330446</td>\n",
              "      <td>0.877875</td>\n",
              "      <td>0.367492</td>\n",
              "      <td>0.863667</td>\n",
              "    </tr>\n",
              "    <tr>\n",
              "      <th>3</th>\n",
              "      <td>0.309326</td>\n",
              "      <td>0.884542</td>\n",
              "      <td>0.343844</td>\n",
              "      <td>0.875000</td>\n",
              "    </tr>\n",
              "    <tr>\n",
              "      <th>4</th>\n",
              "      <td>0.290072</td>\n",
              "      <td>0.890896</td>\n",
              "      <td>0.385812</td>\n",
              "      <td>0.865083</td>\n",
              "    </tr>\n",
              "    <tr>\n",
              "      <th>5</th>\n",
              "      <td>0.273055</td>\n",
              "      <td>0.896229</td>\n",
              "      <td>0.329777</td>\n",
              "      <td>0.883167</td>\n",
              "    </tr>\n",
              "    <tr>\n",
              "      <th>6</th>\n",
              "      <td>0.259787</td>\n",
              "      <td>0.902708</td>\n",
              "      <td>0.336080</td>\n",
              "      <td>0.882833</td>\n",
              "    </tr>\n",
              "    <tr>\n",
              "      <th>7</th>\n",
              "      <td>0.249742</td>\n",
              "      <td>0.904000</td>\n",
              "      <td>0.333230</td>\n",
              "      <td>0.884083</td>\n",
              "    </tr>\n",
              "    <tr>\n",
              "      <th>8</th>\n",
              "      <td>0.237446</td>\n",
              "      <td>0.909771</td>\n",
              "      <td>0.327706</td>\n",
              "      <td>0.886167</td>\n",
              "    </tr>\n",
              "    <tr>\n",
              "      <th>9</th>\n",
              "      <td>0.230635</td>\n",
              "      <td>0.911271</td>\n",
              "      <td>0.332452</td>\n",
              "      <td>0.880917</td>\n",
              "    </tr>\n",
              "  </tbody>\n",
              "</table>\n",
              "</div>"
            ],
            "text/plain": [
              "       loss  ...  val_sparse_categorical_accuracy\n",
              "0  0.494670  ...                         0.852833\n",
              "1  0.372841  ...                         0.857167\n",
              "2  0.330446  ...                         0.863667\n",
              "3  0.309326  ...                         0.875000\n",
              "4  0.290072  ...                         0.865083\n",
              "5  0.273055  ...                         0.883167\n",
              "6  0.259787  ...                         0.882833\n",
              "7  0.249742  ...                         0.884083\n",
              "8  0.237446  ...                         0.886167\n",
              "9  0.230635  ...                         0.880917\n",
              "\n",
              "[10 rows x 4 columns]"
            ]
          },
          "metadata": {
            "tags": []
          },
          "execution_count": 21
        }
      ]
    },
    {
      "cell_type": "code",
      "metadata": {
        "id": "6_W1hhg22rMs",
        "colab_type": "code",
        "outputId": "e4a2dd2c-b700-4492-b0dc-34db7716f064",
        "colab": {
          "base_uri": "https://localhost:8080/",
          "height": 487
        }
      },
      "source": [
        "history_df.plot(figsize=(12,8))\n",
        "plt.grid(True)\n",
        "plt.gca().set_ylim(0,1)\n",
        "plt.show()"
      ],
      "execution_count": 22,
      "outputs": [
        {
          "output_type": "display_data",
          "data": {
            "image/png": "[encoded data removed]",
            "text/plain": [
              "<Figure size 864x576 with 1 Axes>"
            ]
          },
          "metadata": {
            "tags": [],
            "needs_background": "light"
          }
        }
      ]
    },
    {
      "cell_type": "markdown",
      "metadata": {
        "id": "lsTECNCoX8Nx",
        "colab_type": "text"
      },
      "source": [
        "# save the model"
      ]
    },
    {
      "cell_type": "code",
      "metadata": {
        "id": "u-7RExQgX7Jd",
        "colab_type": "code",
        "colab": {}
      },
      "source": [
        "model.save('ann_fm.h5')"
      ],
      "execution_count": 0,
      "outputs": []
    },
    {
      "cell_type": "markdown",
      "metadata": {
        "id": "E40-T3zV7aRy",
        "colab_type": "text"
      },
      "source": [
        "# evaluate"
      ]
    },
    {
      "cell_type": "code",
      "metadata": {
        "id": "oJVuhFTN7eq1",
        "colab_type": "code",
        "outputId": "09581c53-b8e9-460e-9841-235c1bfd1ad4",
        "colab": {
          "base_uri": "https://localhost:8080/",
          "height": 50
        }
      },
      "source": [
        "model.evaluate(X_test, y_test)"
      ],
      "execution_count": 23,
      "outputs": [
        {
          "output_type": "stream",
          "text": [
            "313/313 [==============================] - 1s 2ms/step - loss: 0.3567 - sparse_categorical_accuracy: 0.8781\n"
          ],
          "name": "stdout"
        },
        {
          "output_type": "execute_result",
          "data": {
            "text/plain": [
              "[0.35671597719192505, 0.8780999779701233]"
            ]
          },
          "metadata": {
            "tags": []
          },
          "execution_count": 23
        }
      ]
    },
    {
      "cell_type": "markdown",
      "metadata": {
        "id": "C4-5GChIYJyV",
        "colab_type": "text"
      },
      "source": [
        "# load the model"
      ]
    },
    {
      "cell_type": "code",
      "metadata": {
        "id": "afb6mnoJYMrH",
        "colab_type": "code",
        "colab": {}
      },
      "source": [
        "loaded_model = keras.models.load_model('/content/ann_fm.h5')"
      ],
      "execution_count": 0,
      "outputs": []
    },
    {
      "cell_type": "markdown",
      "metadata": {
        "id": "4vCjlTQm6QuS",
        "colab_type": "text"
      },
      "source": [
        "# predict"
      ]
    },
    {
      "cell_type": "code",
      "metadata": {
        "id": "7v5LyXsk2rUm",
        "colab_type": "code",
        "colab": {}
      },
      "source": [
        "X_new = X_test[:3]"
      ],
      "execution_count": 0,
      "outputs": []
    },
    {
      "cell_type": "code",
      "metadata": {
        "id": "Huq7SL3F2rbz",
        "colab_type": "code",
        "outputId": "93d3176e-4f26-4bfc-ed39-528790b46cb5",
        "colab": {
          "base_uri": "https://localhost:8080/",
          "height": 118
        }
      },
      "source": [
        "pred = loaded_model.predict(X_new)\n",
        "pred.round(3)"
      ],
      "execution_count": 29,
      "outputs": [
        {
          "output_type": "execute_result",
          "data": {
            "text/plain": [
              "array([[0.   , 0.   , 0.   , 0.   , 0.   , 0.   , 0.   , 0.005, 0.   ,\n",
              "        0.995],\n",
              "       [0.   , 0.   , 0.997, 0.   , 0.   , 0.   , 0.003, 0.   , 0.   ,\n",
              "        0.   ],\n",
              "       [0.   , 1.   , 0.   , 0.   , 0.   , 0.   , 0.   , 0.   , 0.   ,\n",
              "        0.   ]], dtype=float32)"
            ]
          },
          "metadata": {
            "tags": []
          },
          "execution_count": 29
        }
      ]
    },
    {
      "cell_type": "code",
      "metadata": {
        "id": "bDH2TPQT2rfd",
        "colab_type": "code",
        "outputId": "5b08ca88-2580-41f0-ed86-3f50279574d1",
        "colab": {
          "base_uri": "https://localhost:8080/",
          "height": 34
        }
      },
      "source": [
        "pred_class = loaded_model.predict_classes(X_new)\n",
        "pred_class"
      ],
      "execution_count": 30,
      "outputs": [
        {
          "output_type": "execute_result",
          "data": {
            "text/plain": [
              "array([9, 2, 1])"
            ]
          },
          "metadata": {
            "tags": []
          },
          "execution_count": 30
        }
      ]
    },
    {
      "cell_type": "code",
      "metadata": {
        "id": "somUXLRu2rnB",
        "colab_type": "code",
        "colab": {}
      },
      "source": [
        ""
      ],
      "execution_count": 0,
      "outputs": []
    },
    {
      "cell_type": "code",
      "metadata": {
        "id": "yMF2txoC2rqY",
        "colab_type": "code",
        "colab": {}
      },
      "source": [
        ""
      ],
      "execution_count": 0,
      "outputs": []
    },
    {
      "cell_type": "code",
      "metadata": {
        "id": "prsKRAvf2rY7",
        "colab_type": "code",
        "colab": {}
      },
      "source": [
        ""
      ],
      "execution_count": 0,
      "outputs": []
    }
  ]
}