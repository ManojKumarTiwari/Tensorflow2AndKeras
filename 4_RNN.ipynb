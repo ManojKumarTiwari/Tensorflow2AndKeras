{
  "nbformat": 4,
  "nbformat_minor": 0,
  "metadata": {
    "colab": {
      "name": "4_RNN.ipynb",
      "provenance": [],
      "toc_visible": true,
      "authorship_tag": "ABX9TyOjvVEGDp5QBYr+sKIUV9hP",
      "include_colab_link": true
    },
    "kernelspec": {
      "name": "python3",
      "display_name": "Python 3"
    }
  },
  "cells": [
    {
      "cell_type": "markdown",
      "metadata": {
        "id": "view-in-github",
        "colab_type": "text"
      },
      "source": [
        "<a href=\"https://colab.research.google.com/github/ManojKumarTiwari/Tensorflow2AndKeras/blob/master/4_RNN.ipynb\" target=\"_parent\"><img src=\"https://colab.research.google.com/assets/colab-badge.svg\" alt=\"Open In Colab\"/></a>"
      ]
    },
    {
      "cell_type": "markdown",
      "metadata": {
        "id": "DGeoJyVpItRz",
        "colab_type": "text"
      },
      "source": [
        "# Content\n",
        "- Overview\n",
        "- Imports"
      ]
    },
    {
      "cell_type": "markdown",
      "metadata": {
        "id": "YmDlf-zgI8ui",
        "colab_type": "text"
      },
      "source": [
        "# Overview\n",
        "- What is RNN?\n",
        "  - time frame (time step)\n",
        "  - recurrent neuron\n",
        "  - memory cell(cell)\n",
        "    - typical stores 10 step but depends on task\n",
        "  - output and cell state\n",
        "- What are some of the use cases?\n",
        "- What are the problems associated with RNNs?\n",
        "- How to fix those problems?\n",
        "- Types of RNNs based on Input and Output\n",
        "  - seq2seq\n",
        "  - seq2vec\n",
        "  - vec2seq\n",
        "  - encoder-decoder\n",
        "- Time series\n",
        "  - univariate time series\n",
        "  - multivariate time series\n",
        "    - Things we can do\n",
        "      - Forecasting\n",
        "      - Postdict (Imputation)\n",
        "- Backpropagation throught time (BPTT)"
      ]
    },
    {
      "cell_type": "markdown",
      "metadata": {
        "id": "3AZ2E3gG5OGJ",
        "colab_type": "text"
      },
      "source": [
        "# Imports"
      ]
    },
    {
      "cell_type": "code",
      "metadata": {
        "id": "0sZrh3F05RNG",
        "colab_type": "code",
        "outputId": "535c8fdc-7283-465a-f35c-95ccaac54118",
        "colab": {
          "base_uri": "https://localhost:8080/",
          "height": 70
        }
      },
      "source": [
        "# Data Manipulation\n",
        "import numpy as np\n",
        "import pandas as pd\n",
        "\n",
        "# Data Visualization\n",
        "import matplotlib.pyplot as plt\n",
        "import seaborn as sns"
      ],
      "execution_count": 1,
      "outputs": [
        {
          "output_type": "stream",
          "text": [
            "/usr/local/lib/python3.6/dist-packages/statsmodels/tools/_testing.py:19: FutureWarning: pandas.util.testing is deprecated. Use the functions in the public API at pandas.testing instead.\n",
            "  import pandas.util.testing as tm\n"
          ],
          "name": "stderr"
        }
      ]
    },
    {
      "cell_type": "code",
      "metadata": {
        "id": "GYCUfViiF043",
        "colab_type": "code",
        "colab": {}
      },
      "source": [
        "# Scaling\n",
        "from sklearn.preprocessing import MinMaxScaler"
      ],
      "execution_count": 0,
      "outputs": []
    },
    {
      "cell_type": "code",
      "metadata": {
        "id": "0BlRdSNiMNy5",
        "colab_type": "code",
        "colab": {}
      },
      "source": [
        "# !pip install --upgrade tensorflow-gpu"
      ],
      "execution_count": 0,
      "outputs": []
    },
    {
      "cell_type": "code",
      "metadata": {
        "id": "KewSXeBoMuZr",
        "colab_type": "code",
        "outputId": "10ef5764-6b27-4f70-f725-4accf969957e",
        "colab": {
          "base_uri": "https://localhost:8080/",
          "height": 34
        }
      },
      "source": [
        "import tensorflow as tf\n",
        "tf.__version__"
      ],
      "execution_count": 4,
      "outputs": [
        {
          "output_type": "execute_result",
          "data": {
            "text/plain": [
              "'2.2.0-rc3'"
            ]
          },
          "metadata": {
            "tags": []
          },
          "execution_count": 4
        }
      ]
    },
    {
      "cell_type": "code",
      "metadata": {
        "id": "omSDsbHuMusN",
        "colab_type": "code",
        "colab": {}
      },
      "source": [
        "from tensorflow import keras\n",
        "from tensorflow.keras import Sequential\n",
        "from tensorflow.keras.layers import Dense, Flatten, SimpleRNN\n",
        "\n",
        "from tensorflow.keras.optimizers import Adam\n",
        "from tensorflow.keras.losses import mse"
      ],
      "execution_count": 0,
      "outputs": []
    },
    {
      "cell_type": "markdown",
      "metadata": {
        "id": "uaJc8qPH4OQ7",
        "colab_type": "text"
      },
      "source": [
        "# Dataset\n",
        "- We will be working with historical data of Google which we can get from yahoo finance"
      ]
    },
    {
      "cell_type": "markdown",
      "metadata": {
        "id": "LgcWfCfQ49-Y",
        "colab_type": "text"
      },
      "source": [
        "# Load the Data"
      ]
    },
    {
      "cell_type": "code",
      "metadata": {
        "id": "IhMRsy23481F",
        "colab_type": "code",
        "colab": {}
      },
      "source": [
        "raw_data = pd.read_csv('GOOG.csv', date_parser=True)"
      ],
      "execution_count": 0,
      "outputs": []
    },
    {
      "cell_type": "code",
      "metadata": {
        "id": "mPnPLPAXInI6",
        "colab_type": "code",
        "outputId": "462e6b2f-c00d-47f5-8461-3aad7781a97a",
        "colab": {
          "base_uri": "https://localhost:8080/",
          "height": 195
        }
      },
      "source": [
        "raw_data.head()"
      ],
      "execution_count": 10,
      "outputs": [
        {
          "output_type": "execute_result",
          "data": {
            "text/html": [
              "<div>\n",
              "<style scoped>\n",
              "    .dataframe tbody tr th:only-of-type {\n",
              "        vertical-align: middle;\n",
              "    }\n",
              "\n",
              "    .dataframe tbody tr th {\n",
              "        vertical-align: top;\n",
              "    }\n",
              "\n",
              "    .dataframe thead th {\n",
              "        text-align: right;\n",
              "    }\n",
              "</style>\n",
              "<table border=\"1\" class=\"dataframe\">\n",
              "  <thead>\n",
              "    <tr style=\"text-align: right;\">\n",
              "      <th></th>\n",
              "      <th>Date</th>\n",
              "      <th>Open</th>\n",
              "      <th>High</th>\n",
              "      <th>Low</th>\n",
              "      <th>Close</th>\n",
              "      <th>Adj Close</th>\n",
              "      <th>Volume</th>\n",
              "    </tr>\n",
              "  </thead>\n",
              "  <tbody>\n",
              "    <tr>\n",
              "      <th>0</th>\n",
              "      <td>2004-08-19</td>\n",
              "      <td>49.813286</td>\n",
              "      <td>51.835709</td>\n",
              "      <td>47.800831</td>\n",
              "      <td>49.982655</td>\n",
              "      <td>49.982655</td>\n",
              "      <td>44871300</td>\n",
              "    </tr>\n",
              "    <tr>\n",
              "      <th>1</th>\n",
              "      <td>2004-08-20</td>\n",
              "      <td>50.316402</td>\n",
              "      <td>54.336334</td>\n",
              "      <td>50.062355</td>\n",
              "      <td>53.952770</td>\n",
              "      <td>53.952770</td>\n",
              "      <td>22942800</td>\n",
              "    </tr>\n",
              "    <tr>\n",
              "      <th>2</th>\n",
              "      <td>2004-08-23</td>\n",
              "      <td>55.168217</td>\n",
              "      <td>56.528118</td>\n",
              "      <td>54.321388</td>\n",
              "      <td>54.495735</td>\n",
              "      <td>54.495735</td>\n",
              "      <td>18342800</td>\n",
              "    </tr>\n",
              "    <tr>\n",
              "      <th>3</th>\n",
              "      <td>2004-08-24</td>\n",
              "      <td>55.412300</td>\n",
              "      <td>55.591629</td>\n",
              "      <td>51.591621</td>\n",
              "      <td>52.239193</td>\n",
              "      <td>52.239193</td>\n",
              "      <td>15319700</td>\n",
              "    </tr>\n",
              "    <tr>\n",
              "      <th>4</th>\n",
              "      <td>2004-08-25</td>\n",
              "      <td>52.284027</td>\n",
              "      <td>53.798351</td>\n",
              "      <td>51.746044</td>\n",
              "      <td>52.802086</td>\n",
              "      <td>52.802086</td>\n",
              "      <td>9232100</td>\n",
              "    </tr>\n",
              "  </tbody>\n",
              "</table>\n",
              "</div>"
            ],
            "text/plain": [
              "         Date       Open       High        Low      Close  Adj Close    Volume\n",
              "0  2004-08-19  49.813286  51.835709  47.800831  49.982655  49.982655  44871300\n",
              "1  2004-08-20  50.316402  54.336334  50.062355  53.952770  53.952770  22942800\n",
              "2  2004-08-23  55.168217  56.528118  54.321388  54.495735  54.495735  18342800\n",
              "3  2004-08-24  55.412300  55.591629  51.591621  52.239193  52.239193  15319700\n",
              "4  2004-08-25  52.284027  53.798351  51.746044  52.802086  52.802086   9232100"
            ]
          },
          "metadata": {
            "tags": []
          },
          "execution_count": 10
        }
      ]
    },
    {
      "cell_type": "code",
      "metadata": {
        "id": "tQx1RBd26Bes",
        "colab_type": "code",
        "outputId": "b7702351-0298-4fc5-e73a-795676bb18bd",
        "colab": {
          "base_uri": "https://localhost:8080/",
          "height": 195
        }
      },
      "source": [
        "raw_data.tail()"
      ],
      "execution_count": 11,
      "outputs": [
        {
          "output_type": "execute_result",
          "data": {
            "text/html": [
              "<div>\n",
              "<style scoped>\n",
              "    .dataframe tbody tr th:only-of-type {\n",
              "        vertical-align: middle;\n",
              "    }\n",
              "\n",
              "    .dataframe tbody tr th {\n",
              "        vertical-align: top;\n",
              "    }\n",
              "\n",
              "    .dataframe thead th {\n",
              "        text-align: right;\n",
              "    }\n",
              "</style>\n",
              "<table border=\"1\" class=\"dataframe\">\n",
              "  <thead>\n",
              "    <tr style=\"text-align: right;\">\n",
              "      <th></th>\n",
              "      <th>Date</th>\n",
              "      <th>Open</th>\n",
              "      <th>High</th>\n",
              "      <th>Low</th>\n",
              "      <th>Close</th>\n",
              "      <th>Adj Close</th>\n",
              "      <th>Volume</th>\n",
              "    </tr>\n",
              "  </thead>\n",
              "  <tbody>\n",
              "    <tr>\n",
              "      <th>3938</th>\n",
              "      <td>2020-04-13</td>\n",
              "      <td>1209.180054</td>\n",
              "      <td>1220.510010</td>\n",
              "      <td>1187.598022</td>\n",
              "      <td>1217.560059</td>\n",
              "      <td>1217.560059</td>\n",
              "      <td>1739800</td>\n",
              "    </tr>\n",
              "    <tr>\n",
              "      <th>3939</th>\n",
              "      <td>2020-04-14</td>\n",
              "      <td>1245.089966</td>\n",
              "      <td>1282.069946</td>\n",
              "      <td>1236.930054</td>\n",
              "      <td>1269.229980</td>\n",
              "      <td>1269.229980</td>\n",
              "      <td>2470400</td>\n",
              "    </tr>\n",
              "    <tr>\n",
              "      <th>3940</th>\n",
              "      <td>2020-04-15</td>\n",
              "      <td>1245.609985</td>\n",
              "      <td>1280.459961</td>\n",
              "      <td>1240.400024</td>\n",
              "      <td>1262.469971</td>\n",
              "      <td>1262.469971</td>\n",
              "      <td>1671700</td>\n",
              "    </tr>\n",
              "    <tr>\n",
              "      <th>3941</th>\n",
              "      <td>2020-04-16</td>\n",
              "      <td>1274.099976</td>\n",
              "      <td>1279.000000</td>\n",
              "      <td>1242.619995</td>\n",
              "      <td>1263.469971</td>\n",
              "      <td>1263.469971</td>\n",
              "      <td>2507100</td>\n",
              "    </tr>\n",
              "    <tr>\n",
              "      <th>3942</th>\n",
              "      <td>2020-04-17</td>\n",
              "      <td>1284.849976</td>\n",
              "      <td>1294.430054</td>\n",
              "      <td>1271.229980</td>\n",
              "      <td>1283.250000</td>\n",
              "      <td>1283.250000</td>\n",
              "      <td>1947900</td>\n",
              "    </tr>\n",
              "  </tbody>\n",
              "</table>\n",
              "</div>"
            ],
            "text/plain": [
              "            Date         Open         High  ...        Close    Adj Close   Volume\n",
              "3938  2020-04-13  1209.180054  1220.510010  ...  1217.560059  1217.560059  1739800\n",
              "3939  2020-04-14  1245.089966  1282.069946  ...  1269.229980  1269.229980  2470400\n",
              "3940  2020-04-15  1245.609985  1280.459961  ...  1262.469971  1262.469971  1671700\n",
              "3941  2020-04-16  1274.099976  1279.000000  ...  1263.469971  1263.469971  2507100\n",
              "3942  2020-04-17  1284.849976  1294.430054  ...  1283.250000  1283.250000  1947900\n",
              "\n",
              "[5 rows x 7 columns]"
            ]
          },
          "metadata": {
            "tags": []
          },
          "execution_count": 11
        }
      ]
    },
    {
      "cell_type": "code",
      "metadata": {
        "id": "ypszlczO9KYE",
        "colab_type": "code",
        "colab": {}
      },
      "source": [
        "data = raw_data.copy() # always make a backup incase you make any mistakes during processing the data"
      ],
      "execution_count": 0,
      "outputs": []
    },
    {
      "cell_type": "markdown",
      "metadata": {
        "id": "SRC9LW-d-J9v",
        "colab_type": "text"
      },
      "source": [
        "# Data splitting\n",
        "- For Training I will use data from starting date till the end of the year 2018\n",
        "- For Validation I will use all the data in year 2019 \n",
        "- And for Testing I will whatever data I have after 2019 (Which as of writing this notebook is till 2020-04-17"
      ]
    },
    {
      "cell_type": "code",
      "metadata": {
        "id": "w07fkPcg-ICg",
        "colab_type": "code",
        "colab": {}
      },
      "source": [
        "data_train = data[data['Date']<'2019-01-01']"
      ],
      "execution_count": 0,
      "outputs": []
    },
    {
      "cell_type": "code",
      "metadata": {
        "id": "g7Y9qcNA_y0G",
        "colab_type": "code",
        "outputId": "b93c82fa-67a5-47c0-d103-cb89edb6e210",
        "colab": {
          "base_uri": "https://localhost:8080/",
          "height": 402
        }
      },
      "source": [
        "data_train"
      ],
      "execution_count": 14,
      "outputs": [
        {
          "output_type": "execute_result",
          "data": {
            "text/html": [
              "<div>\n",
              "<style scoped>\n",
              "    .dataframe tbody tr th:only-of-type {\n",
              "        vertical-align: middle;\n",
              "    }\n",
              "\n",
              "    .dataframe tbody tr th {\n",
              "        vertical-align: top;\n",
              "    }\n",
              "\n",
              "    .dataframe thead th {\n",
              "        text-align: right;\n",
              "    }\n",
              "</style>\n",
              "<table border=\"1\" class=\"dataframe\">\n",
              "  <thead>\n",
              "    <tr style=\"text-align: right;\">\n",
              "      <th></th>\n",
              "      <th>Date</th>\n",
              "      <th>Open</th>\n",
              "      <th>High</th>\n",
              "      <th>Low</th>\n",
              "      <th>Close</th>\n",
              "      <th>Adj Close</th>\n",
              "      <th>Volume</th>\n",
              "    </tr>\n",
              "  </thead>\n",
              "  <tbody>\n",
              "    <tr>\n",
              "      <th>0</th>\n",
              "      <td>2004-08-19</td>\n",
              "      <td>49.813286</td>\n",
              "      <td>51.835709</td>\n",
              "      <td>47.800831</td>\n",
              "      <td>49.982655</td>\n",
              "      <td>49.982655</td>\n",
              "      <td>44871300</td>\n",
              "    </tr>\n",
              "    <tr>\n",
              "      <th>1</th>\n",
              "      <td>2004-08-20</td>\n",
              "      <td>50.316402</td>\n",
              "      <td>54.336334</td>\n",
              "      <td>50.062355</td>\n",
              "      <td>53.952770</td>\n",
              "      <td>53.952770</td>\n",
              "      <td>22942800</td>\n",
              "    </tr>\n",
              "    <tr>\n",
              "      <th>2</th>\n",
              "      <td>2004-08-23</td>\n",
              "      <td>55.168217</td>\n",
              "      <td>56.528118</td>\n",
              "      <td>54.321388</td>\n",
              "      <td>54.495735</td>\n",
              "      <td>54.495735</td>\n",
              "      <td>18342800</td>\n",
              "    </tr>\n",
              "    <tr>\n",
              "      <th>3</th>\n",
              "      <td>2004-08-24</td>\n",
              "      <td>55.412300</td>\n",
              "      <td>55.591629</td>\n",
              "      <td>51.591621</td>\n",
              "      <td>52.239193</td>\n",
              "      <td>52.239193</td>\n",
              "      <td>15319700</td>\n",
              "    </tr>\n",
              "    <tr>\n",
              "      <th>4</th>\n",
              "      <td>2004-08-25</td>\n",
              "      <td>52.284027</td>\n",
              "      <td>53.798351</td>\n",
              "      <td>51.746044</td>\n",
              "      <td>52.802086</td>\n",
              "      <td>52.802086</td>\n",
              "      <td>9232100</td>\n",
              "    </tr>\n",
              "    <tr>\n",
              "      <th>...</th>\n",
              "      <td>...</td>\n",
              "      <td>...</td>\n",
              "      <td>...</td>\n",
              "      <td>...</td>\n",
              "      <td>...</td>\n",
              "      <td>...</td>\n",
              "      <td>...</td>\n",
              "    </tr>\n",
              "    <tr>\n",
              "      <th>3612</th>\n",
              "      <td>2018-12-24</td>\n",
              "      <td>973.900024</td>\n",
              "      <td>1003.539978</td>\n",
              "      <td>970.109985</td>\n",
              "      <td>976.219971</td>\n",
              "      <td>976.219971</td>\n",
              "      <td>1590300</td>\n",
              "    </tr>\n",
              "    <tr>\n",
              "      <th>3613</th>\n",
              "      <td>2018-12-26</td>\n",
              "      <td>989.010010</td>\n",
              "      <td>1040.000000</td>\n",
              "      <td>983.000000</td>\n",
              "      <td>1039.459961</td>\n",
              "      <td>1039.459961</td>\n",
              "      <td>2373300</td>\n",
              "    </tr>\n",
              "    <tr>\n",
              "      <th>3614</th>\n",
              "      <td>2018-12-27</td>\n",
              "      <td>1017.150024</td>\n",
              "      <td>1043.890015</td>\n",
              "      <td>997.000000</td>\n",
              "      <td>1043.880005</td>\n",
              "      <td>1043.880005</td>\n",
              "      <td>2109800</td>\n",
              "    </tr>\n",
              "    <tr>\n",
              "      <th>3615</th>\n",
              "      <td>2018-12-28</td>\n",
              "      <td>1049.619995</td>\n",
              "      <td>1055.560059</td>\n",
              "      <td>1033.099976</td>\n",
              "      <td>1037.079956</td>\n",
              "      <td>1037.079956</td>\n",
              "      <td>1414800</td>\n",
              "    </tr>\n",
              "    <tr>\n",
              "      <th>3616</th>\n",
              "      <td>2018-12-31</td>\n",
              "      <td>1050.959961</td>\n",
              "      <td>1052.699951</td>\n",
              "      <td>1023.590027</td>\n",
              "      <td>1035.609985</td>\n",
              "      <td>1035.609985</td>\n",
              "      <td>1493300</td>\n",
              "    </tr>\n",
              "  </tbody>\n",
              "</table>\n",
              "<p>3617 rows × 7 columns</p>\n",
              "</div>"
            ],
            "text/plain": [
              "            Date         Open         High  ...        Close    Adj Close    Volume\n",
              "0     2004-08-19    49.813286    51.835709  ...    49.982655    49.982655  44871300\n",
              "1     2004-08-20    50.316402    54.336334  ...    53.952770    53.952770  22942800\n",
              "2     2004-08-23    55.168217    56.528118  ...    54.495735    54.495735  18342800\n",
              "3     2004-08-24    55.412300    55.591629  ...    52.239193    52.239193  15319700\n",
              "4     2004-08-25    52.284027    53.798351  ...    52.802086    52.802086   9232100\n",
              "...          ...          ...          ...  ...          ...          ...       ...\n",
              "3612  2018-12-24   973.900024  1003.539978  ...   976.219971   976.219971   1590300\n",
              "3613  2018-12-26   989.010010  1040.000000  ...  1039.459961  1039.459961   2373300\n",
              "3614  2018-12-27  1017.150024  1043.890015  ...  1043.880005  1043.880005   2109800\n",
              "3615  2018-12-28  1049.619995  1055.560059  ...  1037.079956  1037.079956   1414800\n",
              "3616  2018-12-31  1050.959961  1052.699951  ...  1035.609985  1035.609985   1493300\n",
              "\n",
              "[3617 rows x 7 columns]"
            ]
          },
          "metadata": {
            "tags": []
          },
          "execution_count": 14
        }
      ]
    },
    {
      "cell_type": "code",
      "metadata": {
        "id": "B4mNhH0f_6IT",
        "colab_type": "code",
        "colab": {}
      },
      "source": [
        "data_valid = data[(data['Date']>='2019-01-01') & (data['Date']<'2020-01-01')]"
      ],
      "execution_count": 0,
      "outputs": []
    },
    {
      "cell_type": "code",
      "metadata": {
        "id": "AcFtTz9H_6q4",
        "colab_type": "code",
        "outputId": "197abe15-9160-496a-8e7f-3e70266fedfc",
        "colab": {
          "base_uri": "https://localhost:8080/",
          "height": 402
        }
      },
      "source": [
        "data_valid"
      ],
      "execution_count": 16,
      "outputs": [
        {
          "output_type": "execute_result",
          "data": {
            "text/html": [
              "<div>\n",
              "<style scoped>\n",
              "    .dataframe tbody tr th:only-of-type {\n",
              "        vertical-align: middle;\n",
              "    }\n",
              "\n",
              "    .dataframe tbody tr th {\n",
              "        vertical-align: top;\n",
              "    }\n",
              "\n",
              "    .dataframe thead th {\n",
              "        text-align: right;\n",
              "    }\n",
              "</style>\n",
              "<table border=\"1\" class=\"dataframe\">\n",
              "  <thead>\n",
              "    <tr style=\"text-align: right;\">\n",
              "      <th></th>\n",
              "      <th>Date</th>\n",
              "      <th>Open</th>\n",
              "      <th>High</th>\n",
              "      <th>Low</th>\n",
              "      <th>Close</th>\n",
              "      <th>Adj Close</th>\n",
              "      <th>Volume</th>\n",
              "    </tr>\n",
              "  </thead>\n",
              "  <tbody>\n",
              "    <tr>\n",
              "      <th>3617</th>\n",
              "      <td>2019-01-02</td>\n",
              "      <td>1016.570007</td>\n",
              "      <td>1052.319946</td>\n",
              "      <td>1015.710022</td>\n",
              "      <td>1045.849976</td>\n",
              "      <td>1045.849976</td>\n",
              "      <td>1532600</td>\n",
              "    </tr>\n",
              "    <tr>\n",
              "      <th>3618</th>\n",
              "      <td>2019-01-03</td>\n",
              "      <td>1041.000000</td>\n",
              "      <td>1056.979980</td>\n",
              "      <td>1014.070007</td>\n",
              "      <td>1016.059998</td>\n",
              "      <td>1016.059998</td>\n",
              "      <td>1841100</td>\n",
              "    </tr>\n",
              "    <tr>\n",
              "      <th>3619</th>\n",
              "      <td>2019-01-04</td>\n",
              "      <td>1032.589966</td>\n",
              "      <td>1070.839966</td>\n",
              "      <td>1027.417969</td>\n",
              "      <td>1070.709961</td>\n",
              "      <td>1070.709961</td>\n",
              "      <td>2093900</td>\n",
              "    </tr>\n",
              "    <tr>\n",
              "      <th>3620</th>\n",
              "      <td>2019-01-07</td>\n",
              "      <td>1071.500000</td>\n",
              "      <td>1074.000000</td>\n",
              "      <td>1054.760010</td>\n",
              "      <td>1068.390015</td>\n",
              "      <td>1068.390015</td>\n",
              "      <td>1981900</td>\n",
              "    </tr>\n",
              "    <tr>\n",
              "      <th>3621</th>\n",
              "      <td>2019-01-08</td>\n",
              "      <td>1076.109985</td>\n",
              "      <td>1084.560059</td>\n",
              "      <td>1060.530029</td>\n",
              "      <td>1076.280029</td>\n",
              "      <td>1076.280029</td>\n",
              "      <td>1764900</td>\n",
              "    </tr>\n",
              "    <tr>\n",
              "      <th>...</th>\n",
              "      <td>...</td>\n",
              "      <td>...</td>\n",
              "      <td>...</td>\n",
              "      <td>...</td>\n",
              "      <td>...</td>\n",
              "      <td>...</td>\n",
              "      <td>...</td>\n",
              "    </tr>\n",
              "    <tr>\n",
              "      <th>3864</th>\n",
              "      <td>2019-12-24</td>\n",
              "      <td>1348.500000</td>\n",
              "      <td>1350.260010</td>\n",
              "      <td>1342.780029</td>\n",
              "      <td>1343.560059</td>\n",
              "      <td>1343.560059</td>\n",
              "      <td>347500</td>\n",
              "    </tr>\n",
              "    <tr>\n",
              "      <th>3865</th>\n",
              "      <td>2019-12-26</td>\n",
              "      <td>1346.170044</td>\n",
              "      <td>1361.327026</td>\n",
              "      <td>1344.469971</td>\n",
              "      <td>1360.400024</td>\n",
              "      <td>1360.400024</td>\n",
              "      <td>667500</td>\n",
              "    </tr>\n",
              "    <tr>\n",
              "      <th>3866</th>\n",
              "      <td>2019-12-27</td>\n",
              "      <td>1362.989990</td>\n",
              "      <td>1364.530029</td>\n",
              "      <td>1349.310059</td>\n",
              "      <td>1351.890015</td>\n",
              "      <td>1351.890015</td>\n",
              "      <td>1038400</td>\n",
              "    </tr>\n",
              "    <tr>\n",
              "      <th>3867</th>\n",
              "      <td>2019-12-30</td>\n",
              "      <td>1350.000000</td>\n",
              "      <td>1353.000000</td>\n",
              "      <td>1334.020020</td>\n",
              "      <td>1336.140015</td>\n",
              "      <td>1336.140015</td>\n",
              "      <td>1050900</td>\n",
              "    </tr>\n",
              "    <tr>\n",
              "      <th>3868</th>\n",
              "      <td>2019-12-31</td>\n",
              "      <td>1330.109985</td>\n",
              "      <td>1338.000000</td>\n",
              "      <td>1329.084961</td>\n",
              "      <td>1337.020020</td>\n",
              "      <td>1337.020020</td>\n",
              "      <td>961800</td>\n",
              "    </tr>\n",
              "  </tbody>\n",
              "</table>\n",
              "<p>252 rows × 7 columns</p>\n",
              "</div>"
            ],
            "text/plain": [
              "            Date         Open         High  ...        Close    Adj Close   Volume\n",
              "3617  2019-01-02  1016.570007  1052.319946  ...  1045.849976  1045.849976  1532600\n",
              "3618  2019-01-03  1041.000000  1056.979980  ...  1016.059998  1016.059998  1841100\n",
              "3619  2019-01-04  1032.589966  1070.839966  ...  1070.709961  1070.709961  2093900\n",
              "3620  2019-01-07  1071.500000  1074.000000  ...  1068.390015  1068.390015  1981900\n",
              "3621  2019-01-08  1076.109985  1084.560059  ...  1076.280029  1076.280029  1764900\n",
              "...          ...          ...          ...  ...          ...          ...      ...\n",
              "3864  2019-12-24  1348.500000  1350.260010  ...  1343.560059  1343.560059   347500\n",
              "3865  2019-12-26  1346.170044  1361.327026  ...  1360.400024  1360.400024   667500\n",
              "3866  2019-12-27  1362.989990  1364.530029  ...  1351.890015  1351.890015  1038400\n",
              "3867  2019-12-30  1350.000000  1353.000000  ...  1336.140015  1336.140015  1050900\n",
              "3868  2019-12-31  1330.109985  1338.000000  ...  1337.020020  1337.020020   961800\n",
              "\n",
              "[252 rows x 7 columns]"
            ]
          },
          "metadata": {
            "tags": []
          },
          "execution_count": 16
        }
      ]
    },
    {
      "cell_type": "code",
      "metadata": {
        "id": "4IdVGObP_6to",
        "colab_type": "code",
        "colab": {}
      },
      "source": [
        "data_test = data[data['Date']>='2020-01-01']"
      ],
      "execution_count": 0,
      "outputs": []
    },
    {
      "cell_type": "code",
      "metadata": {
        "id": "bupc-zQB_6wk",
        "colab_type": "code",
        "outputId": "7e82f8c9-331d-4c35-ee1d-84d80ab0f422",
        "colab": {
          "base_uri": "https://localhost:8080/",
          "height": 402
        }
      },
      "source": [
        "data_test"
      ],
      "execution_count": 18,
      "outputs": [
        {
          "output_type": "execute_result",
          "data": {
            "text/html": [
              "<div>\n",
              "<style scoped>\n",
              "    .dataframe tbody tr th:only-of-type {\n",
              "        vertical-align: middle;\n",
              "    }\n",
              "\n",
              "    .dataframe tbody tr th {\n",
              "        vertical-align: top;\n",
              "    }\n",
              "\n",
              "    .dataframe thead th {\n",
              "        text-align: right;\n",
              "    }\n",
              "</style>\n",
              "<table border=\"1\" class=\"dataframe\">\n",
              "  <thead>\n",
              "    <tr style=\"text-align: right;\">\n",
              "      <th></th>\n",
              "      <th>Date</th>\n",
              "      <th>Open</th>\n",
              "      <th>High</th>\n",
              "      <th>Low</th>\n",
              "      <th>Close</th>\n",
              "      <th>Adj Close</th>\n",
              "      <th>Volume</th>\n",
              "    </tr>\n",
              "  </thead>\n",
              "  <tbody>\n",
              "    <tr>\n",
              "      <th>3869</th>\n",
              "      <td>2020-01-02</td>\n",
              "      <td>1341.550049</td>\n",
              "      <td>1368.140015</td>\n",
              "      <td>1341.550049</td>\n",
              "      <td>1367.369995</td>\n",
              "      <td>1367.369995</td>\n",
              "      <td>1406600</td>\n",
              "    </tr>\n",
              "    <tr>\n",
              "      <th>3870</th>\n",
              "      <td>2020-01-03</td>\n",
              "      <td>1347.859985</td>\n",
              "      <td>1372.500000</td>\n",
              "      <td>1345.543945</td>\n",
              "      <td>1360.660034</td>\n",
              "      <td>1360.660034</td>\n",
              "      <td>1186400</td>\n",
              "    </tr>\n",
              "    <tr>\n",
              "      <th>3871</th>\n",
              "      <td>2020-01-06</td>\n",
              "      <td>1350.000000</td>\n",
              "      <td>1396.500000</td>\n",
              "      <td>1350.000000</td>\n",
              "      <td>1394.209961</td>\n",
              "      <td>1394.209961</td>\n",
              "      <td>1732300</td>\n",
              "    </tr>\n",
              "    <tr>\n",
              "      <th>3872</th>\n",
              "      <td>2020-01-07</td>\n",
              "      <td>1397.939941</td>\n",
              "      <td>1402.989990</td>\n",
              "      <td>1390.380005</td>\n",
              "      <td>1393.339966</td>\n",
              "      <td>1393.339966</td>\n",
              "      <td>1502700</td>\n",
              "    </tr>\n",
              "    <tr>\n",
              "      <th>3873</th>\n",
              "      <td>2020-01-08</td>\n",
              "      <td>1392.079956</td>\n",
              "      <td>1411.579956</td>\n",
              "      <td>1390.839966</td>\n",
              "      <td>1404.319946</td>\n",
              "      <td>1404.319946</td>\n",
              "      <td>1528000</td>\n",
              "    </tr>\n",
              "    <tr>\n",
              "      <th>...</th>\n",
              "      <td>...</td>\n",
              "      <td>...</td>\n",
              "      <td>...</td>\n",
              "      <td>...</td>\n",
              "      <td>...</td>\n",
              "      <td>...</td>\n",
              "      <td>...</td>\n",
              "    </tr>\n",
              "    <tr>\n",
              "      <th>3938</th>\n",
              "      <td>2020-04-13</td>\n",
              "      <td>1209.180054</td>\n",
              "      <td>1220.510010</td>\n",
              "      <td>1187.598022</td>\n",
              "      <td>1217.560059</td>\n",
              "      <td>1217.560059</td>\n",
              "      <td>1739800</td>\n",
              "    </tr>\n",
              "    <tr>\n",
              "      <th>3939</th>\n",
              "      <td>2020-04-14</td>\n",
              "      <td>1245.089966</td>\n",
              "      <td>1282.069946</td>\n",
              "      <td>1236.930054</td>\n",
              "      <td>1269.229980</td>\n",
              "      <td>1269.229980</td>\n",
              "      <td>2470400</td>\n",
              "    </tr>\n",
              "    <tr>\n",
              "      <th>3940</th>\n",
              "      <td>2020-04-15</td>\n",
              "      <td>1245.609985</td>\n",
              "      <td>1280.459961</td>\n",
              "      <td>1240.400024</td>\n",
              "      <td>1262.469971</td>\n",
              "      <td>1262.469971</td>\n",
              "      <td>1671700</td>\n",
              "    </tr>\n",
              "    <tr>\n",
              "      <th>3941</th>\n",
              "      <td>2020-04-16</td>\n",
              "      <td>1274.099976</td>\n",
              "      <td>1279.000000</td>\n",
              "      <td>1242.619995</td>\n",
              "      <td>1263.469971</td>\n",
              "      <td>1263.469971</td>\n",
              "      <td>2507100</td>\n",
              "    </tr>\n",
              "    <tr>\n",
              "      <th>3942</th>\n",
              "      <td>2020-04-17</td>\n",
              "      <td>1284.849976</td>\n",
              "      <td>1294.430054</td>\n",
              "      <td>1271.229980</td>\n",
              "      <td>1283.250000</td>\n",
              "      <td>1283.250000</td>\n",
              "      <td>1947900</td>\n",
              "    </tr>\n",
              "  </tbody>\n",
              "</table>\n",
              "<p>74 rows × 7 columns</p>\n",
              "</div>"
            ],
            "text/plain": [
              "            Date         Open         High  ...        Close    Adj Close   Volume\n",
              "3869  2020-01-02  1341.550049  1368.140015  ...  1367.369995  1367.369995  1406600\n",
              "3870  2020-01-03  1347.859985  1372.500000  ...  1360.660034  1360.660034  1186400\n",
              "3871  2020-01-06  1350.000000  1396.500000  ...  1394.209961  1394.209961  1732300\n",
              "3872  2020-01-07  1397.939941  1402.989990  ...  1393.339966  1393.339966  1502700\n",
              "3873  2020-01-08  1392.079956  1411.579956  ...  1404.319946  1404.319946  1528000\n",
              "...          ...          ...          ...  ...          ...          ...      ...\n",
              "3938  2020-04-13  1209.180054  1220.510010  ...  1217.560059  1217.560059  1739800\n",
              "3939  2020-04-14  1245.089966  1282.069946  ...  1269.229980  1269.229980  2470400\n",
              "3940  2020-04-15  1245.609985  1280.459961  ...  1262.469971  1262.469971  1671700\n",
              "3941  2020-04-16  1274.099976  1279.000000  ...  1263.469971  1263.469971  2507100\n",
              "3942  2020-04-17  1284.849976  1294.430054  ...  1283.250000  1283.250000  1947900\n",
              "\n",
              "[74 rows x 7 columns]"
            ]
          },
          "metadata": {
            "tags": []
          },
          "execution_count": 18
        }
      ]
    },
    {
      "cell_type": "markdown",
      "metadata": {
        "id": "dRYI-MfqK03R",
        "colab_type": "text"
      },
      "source": [
        "# Data Preparation "
      ]
    },
    {
      "cell_type": "code",
      "metadata": {
        "id": "GmMHsSXD9toh",
        "colab_type": "code",
        "colab": {}
      },
      "source": [
        "# Selecting only 'Open' feature and creating a univaiate time series\n",
        "training_data = data_train.drop(['Date', 'High', 'Low', 'Close', 'Adj Close', 'Volume'], axis=1)"
      ],
      "execution_count": 0,
      "outputs": []
    },
    {
      "cell_type": "code",
      "metadata": {
        "id": "nE7zR2nu6NR2",
        "colab_type": "code",
        "outputId": "6f0d8222-eedc-4666-b963-7b77db1b00a4",
        "colab": {
          "base_uri": "https://localhost:8080/",
          "height": 402
        }
      },
      "source": [
        "training_data"
      ],
      "execution_count": 20,
      "outputs": [
        {
          "output_type": "execute_result",
          "data": {
            "text/html": [
              "<div>\n",
              "<style scoped>\n",
              "    .dataframe tbody tr th:only-of-type {\n",
              "        vertical-align: middle;\n",
              "    }\n",
              "\n",
              "    .dataframe tbody tr th {\n",
              "        vertical-align: top;\n",
              "    }\n",
              "\n",
              "    .dataframe thead th {\n",
              "        text-align: right;\n",
              "    }\n",
              "</style>\n",
              "<table border=\"1\" class=\"dataframe\">\n",
              "  <thead>\n",
              "    <tr style=\"text-align: right;\">\n",
              "      <th></th>\n",
              "      <th>Open</th>\n",
              "    </tr>\n",
              "  </thead>\n",
              "  <tbody>\n",
              "    <tr>\n",
              "      <th>0</th>\n",
              "      <td>49.813286</td>\n",
              "    </tr>\n",
              "    <tr>\n",
              "      <th>1</th>\n",
              "      <td>50.316402</td>\n",
              "    </tr>\n",
              "    <tr>\n",
              "      <th>2</th>\n",
              "      <td>55.168217</td>\n",
              "    </tr>\n",
              "    <tr>\n",
              "      <th>3</th>\n",
              "      <td>55.412300</td>\n",
              "    </tr>\n",
              "    <tr>\n",
              "      <th>4</th>\n",
              "      <td>52.284027</td>\n",
              "    </tr>\n",
              "    <tr>\n",
              "      <th>...</th>\n",
              "      <td>...</td>\n",
              "    </tr>\n",
              "    <tr>\n",
              "      <th>3612</th>\n",
              "      <td>973.900024</td>\n",
              "    </tr>\n",
              "    <tr>\n",
              "      <th>3613</th>\n",
              "      <td>989.010010</td>\n",
              "    </tr>\n",
              "    <tr>\n",
              "      <th>3614</th>\n",
              "      <td>1017.150024</td>\n",
              "    </tr>\n",
              "    <tr>\n",
              "      <th>3615</th>\n",
              "      <td>1049.619995</td>\n",
              "    </tr>\n",
              "    <tr>\n",
              "      <th>3616</th>\n",
              "      <td>1050.959961</td>\n",
              "    </tr>\n",
              "  </tbody>\n",
              "</table>\n",
              "<p>3617 rows × 1 columns</p>\n",
              "</div>"
            ],
            "text/plain": [
              "             Open\n",
              "0       49.813286\n",
              "1       50.316402\n",
              "2       55.168217\n",
              "3       55.412300\n",
              "4       52.284027\n",
              "...           ...\n",
              "3612   973.900024\n",
              "3613   989.010010\n",
              "3614  1017.150024\n",
              "3615  1049.619995\n",
              "3616  1050.959961\n",
              "\n",
              "[3617 rows x 1 columns]"
            ]
          },
          "metadata": {
            "tags": []
          },
          "execution_count": 20
        }
      ]
    },
    {
      "cell_type": "code",
      "metadata": {
        "id": "jImL-kIuVMmi",
        "colab_type": "code",
        "colab": {
          "base_uri": "https://localhost:8080/",
          "height": 402
        },
        "outputId": "7b1fb925-4de2-4fef-f263-0285f74aa1df"
      },
      "source": [
        "# We need last 60 days of data from the data_train to predict the first day value in the validation dataset and similarly we need to add\n",
        "# last 60 days of data from data_valid to predict the first day value in the testing dataset \n",
        "\n",
        "past_60_days_v = data_train.tail(60)\n",
        "\n",
        "df_valid = past_60_days_v.append(data_valid, ignore_index=True)\n",
        "df_valid\n",
        "\n",
        "past_60_days_t = data_valid.tail(60)\n",
        "\n",
        "df_test = past_60_days_t.append(data_test, ignore_index=True)\n",
        "df_test"
      ],
      "execution_count": 27,
      "outputs": [
        {
          "output_type": "execute_result",
          "data": {
            "text/html": [
              "<div>\n",
              "<style scoped>\n",
              "    .dataframe tbody tr th:only-of-type {\n",
              "        vertical-align: middle;\n",
              "    }\n",
              "\n",
              "    .dataframe tbody tr th {\n",
              "        vertical-align: top;\n",
              "    }\n",
              "\n",
              "    .dataframe thead th {\n",
              "        text-align: right;\n",
              "    }\n",
              "</style>\n",
              "<table border=\"1\" class=\"dataframe\">\n",
              "  <thead>\n",
              "    <tr style=\"text-align: right;\">\n",
              "      <th></th>\n",
              "      <th>Date</th>\n",
              "      <th>Open</th>\n",
              "      <th>High</th>\n",
              "      <th>Low</th>\n",
              "      <th>Close</th>\n",
              "      <th>Adj Close</th>\n",
              "      <th>Volume</th>\n",
              "    </tr>\n",
              "  </thead>\n",
              "  <tbody>\n",
              "    <tr>\n",
              "      <th>0</th>\n",
              "      <td>2019-10-07</td>\n",
              "      <td>1204.400024</td>\n",
              "      <td>1218.203979</td>\n",
              "      <td>1203.750000</td>\n",
              "      <td>1207.680054</td>\n",
              "      <td>1207.680054</td>\n",
              "      <td>842900</td>\n",
              "    </tr>\n",
              "    <tr>\n",
              "      <th>1</th>\n",
              "      <td>2019-10-08</td>\n",
              "      <td>1197.589966</td>\n",
              "      <td>1206.079956</td>\n",
              "      <td>1189.010010</td>\n",
              "      <td>1189.130005</td>\n",
              "      <td>1189.130005</td>\n",
              "      <td>1039300</td>\n",
              "    </tr>\n",
              "    <tr>\n",
              "      <th>2</th>\n",
              "      <td>2019-10-09</td>\n",
              "      <td>1199.349976</td>\n",
              "      <td>1208.349976</td>\n",
              "      <td>1197.630005</td>\n",
              "      <td>1202.310059</td>\n",
              "      <td>1202.310059</td>\n",
              "      <td>867700</td>\n",
              "    </tr>\n",
              "    <tr>\n",
              "      <th>3</th>\n",
              "      <td>2019-10-10</td>\n",
              "      <td>1198.579956</td>\n",
              "      <td>1215.000000</td>\n",
              "      <td>1197.339966</td>\n",
              "      <td>1208.670044</td>\n",
              "      <td>1208.670044</td>\n",
              "      <td>846600</td>\n",
              "    </tr>\n",
              "    <tr>\n",
              "      <th>4</th>\n",
              "      <td>2019-10-11</td>\n",
              "      <td>1222.209961</td>\n",
              "      <td>1228.390015</td>\n",
              "      <td>1213.739990</td>\n",
              "      <td>1215.449951</td>\n",
              "      <td>1215.449951</td>\n",
              "      <td>1272700</td>\n",
              "    </tr>\n",
              "    <tr>\n",
              "      <th>...</th>\n",
              "      <td>...</td>\n",
              "      <td>...</td>\n",
              "      <td>...</td>\n",
              "      <td>...</td>\n",
              "      <td>...</td>\n",
              "      <td>...</td>\n",
              "      <td>...</td>\n",
              "    </tr>\n",
              "    <tr>\n",
              "      <th>129</th>\n",
              "      <td>2020-04-13</td>\n",
              "      <td>1209.180054</td>\n",
              "      <td>1220.510010</td>\n",
              "      <td>1187.598022</td>\n",
              "      <td>1217.560059</td>\n",
              "      <td>1217.560059</td>\n",
              "      <td>1739800</td>\n",
              "    </tr>\n",
              "    <tr>\n",
              "      <th>130</th>\n",
              "      <td>2020-04-14</td>\n",
              "      <td>1245.089966</td>\n",
              "      <td>1282.069946</td>\n",
              "      <td>1236.930054</td>\n",
              "      <td>1269.229980</td>\n",
              "      <td>1269.229980</td>\n",
              "      <td>2470400</td>\n",
              "    </tr>\n",
              "    <tr>\n",
              "      <th>131</th>\n",
              "      <td>2020-04-15</td>\n",
              "      <td>1245.609985</td>\n",
              "      <td>1280.459961</td>\n",
              "      <td>1240.400024</td>\n",
              "      <td>1262.469971</td>\n",
              "      <td>1262.469971</td>\n",
              "      <td>1671700</td>\n",
              "    </tr>\n",
              "    <tr>\n",
              "      <th>132</th>\n",
              "      <td>2020-04-16</td>\n",
              "      <td>1274.099976</td>\n",
              "      <td>1279.000000</td>\n",
              "      <td>1242.619995</td>\n",
              "      <td>1263.469971</td>\n",
              "      <td>1263.469971</td>\n",
              "      <td>2507100</td>\n",
              "    </tr>\n",
              "    <tr>\n",
              "      <th>133</th>\n",
              "      <td>2020-04-17</td>\n",
              "      <td>1284.849976</td>\n",
              "      <td>1294.430054</td>\n",
              "      <td>1271.229980</td>\n",
              "      <td>1283.250000</td>\n",
              "      <td>1283.250000</td>\n",
              "      <td>1947900</td>\n",
              "    </tr>\n",
              "  </tbody>\n",
              "</table>\n",
              "<p>134 rows × 7 columns</p>\n",
              "</div>"
            ],
            "text/plain": [
              "           Date         Open         High  ...        Close    Adj Close   Volume\n",
              "0    2019-10-07  1204.400024  1218.203979  ...  1207.680054  1207.680054   842900\n",
              "1    2019-10-08  1197.589966  1206.079956  ...  1189.130005  1189.130005  1039300\n",
              "2    2019-10-09  1199.349976  1208.349976  ...  1202.310059  1202.310059   867700\n",
              "3    2019-10-10  1198.579956  1215.000000  ...  1208.670044  1208.670044   846600\n",
              "4    2019-10-11  1222.209961  1228.390015  ...  1215.449951  1215.449951  1272700\n",
              "..          ...          ...          ...  ...          ...          ...      ...\n",
              "129  2020-04-13  1209.180054  1220.510010  ...  1217.560059  1217.560059  1739800\n",
              "130  2020-04-14  1245.089966  1282.069946  ...  1269.229980  1269.229980  2470400\n",
              "131  2020-04-15  1245.609985  1280.459961  ...  1262.469971  1262.469971  1671700\n",
              "132  2020-04-16  1274.099976  1279.000000  ...  1263.469971  1263.469971  2507100\n",
              "133  2020-04-17  1284.849976  1294.430054  ...  1283.250000  1283.250000  1947900\n",
              "\n",
              "[134 rows x 7 columns]"
            ]
          },
          "metadata": {
            "tags": []
          },
          "execution_count": 27
        }
      ]
    },
    {
      "cell_type": "code",
      "metadata": {
        "id": "ZPQLOJegbFR6",
        "colab_type": "code",
        "colab": {}
      },
      "source": [
        "validation_data = df_valid.drop(['Date', 'High', 'Low', 'Close', 'Adj Close', 'Volume'], axis=1)\n",
        "testing_data = df_test.drop(['Date', 'High', 'Low', 'Close', 'Adj Close', 'Volume'], axis=1)"
      ],
      "execution_count": 0,
      "outputs": []
    },
    {
      "cell_type": "code",
      "metadata": {
        "id": "mc736mYGFjez",
        "colab_type": "code",
        "outputId": "7592a52a-6846-43c8-935f-995726a9d472",
        "colab": {
          "base_uri": "https://localhost:8080/",
          "height": 134
        }
      },
      "source": [
        "# Scaling the Data\n",
        "scalar = MinMaxScaler()\n",
        "training_data = scalar.fit_transform(training_data)\n",
        "training_data\n",
        "# This will return all values in range 0 to 1"
      ],
      "execution_count": 29,
      "outputs": [
        {
          "output_type": "execute_result",
          "data": {
            "text/plain": [
              "array([[3.30294890e-04],\n",
              "       [7.42148227e-04],\n",
              "       [4.71386886e-03],\n",
              "       ...,\n",
              "       [7.92197108e-01],\n",
              "       [8.18777193e-01],\n",
              "       [8.19874096e-01]])"
            ]
          },
          "metadata": {
            "tags": []
          },
          "execution_count": 29
        }
      ]
    },
    {
      "cell_type": "code",
      "metadata": {
        "id": "NVmhzD58bWM6",
        "colab_type": "code",
        "colab": {}
      },
      "source": [
        "validation_data = scalar.transform(validation_data)\n",
        "testing_data = scalar.transform(testing_data)"
      ],
      "execution_count": 0,
      "outputs": []
    },
    {
      "cell_type": "code",
      "metadata": {
        "id": "HbJdeujUGfhL",
        "colab_type": "code",
        "colab": {}
      },
      "source": [
        "X_train = [] # Sequences of training data\n",
        "y_train = [] # Vectors of Output\n",
        "\n",
        "# We are taking 60 time step per sequence here, but you can take according to the use case\n",
        "for i in range(60, training_data.shape[0]):\n",
        "  X_train.append(training_data[i-60:i]) # Indexes included (0-59), (1-60), (2-61)...\n",
        "  y_train.append(training_data[i]) # Indexes included 60,61,62..."
      ],
      "execution_count": 0,
      "outputs": []
    },
    {
      "cell_type": "code",
      "metadata": {
        "id": "xJSrjcFdI4OX",
        "colab_type": "code",
        "colab": {}
      },
      "source": [
        "X_train, y_train = np.array(X_train), np.array(y_train)"
      ],
      "execution_count": 0,
      "outputs": []
    },
    {
      "cell_type": "code",
      "metadata": {
        "id": "2smZ7AqbI8JF",
        "colab_type": "code",
        "outputId": "bae2115f-f740-440a-f745-03774c4aa31a",
        "colab": {
          "base_uri": "https://localhost:8080/",
          "height": 34
        }
      },
      "source": [
        "X_train.shape, y_train.shape"
      ],
      "execution_count": 33,
      "outputs": [
        {
          "output_type": "execute_result",
          "data": {
            "text/plain": [
              "((3557, 60, 1), (3557, 1))"
            ]
          },
          "metadata": {
            "tags": []
          },
          "execution_count": 33
        }
      ]
    },
    {
      "cell_type": "code",
      "metadata": {
        "id": "5E4uaEmGjtPp",
        "colab_type": "code",
        "colab": {}
      },
      "source": [
        "n_steps = 60"
      ],
      "execution_count": 0,
      "outputs": []
    },
    {
      "cell_type": "code",
      "metadata": {
        "id": "bZy8EGj_b0bE",
        "colab_type": "code",
        "colab": {}
      },
      "source": [
        "X_valid = [] # Sequences of training data\n",
        "y_valid = [] # Vectors of Output\n",
        "\n",
        "# We are taking 60 time step per sequence here, but you can take according to the use case\n",
        "for i in range(60, validation_data.shape[0]):\n",
        "  X_valid.append(validation_data[i-60:i]) # Indexes included (0-59), (1-60), (2-61)...\n",
        "  y_valid.append(validation_data[i]) # Indexes included 60,61,62..."
      ],
      "execution_count": 0,
      "outputs": []
    },
    {
      "cell_type": "code",
      "metadata": {
        "id": "X1mQbhu4gjQG",
        "colab_type": "code",
        "colab": {}
      },
      "source": [
        "X_valid, y_valid = np.array(X_valid), np.array(y_valid)"
      ],
      "execution_count": 0,
      "outputs": []
    },
    {
      "cell_type": "code",
      "metadata": {
        "id": "3Ck25OSnbz8P",
        "colab_type": "code",
        "colab": {}
      },
      "source": [
        "X_test = [] # Sequences of training data\n",
        "y_test = [] # Vectors of Output\n",
        "\n",
        "# We are taking 60 time step per sequence here, but you can take according to the use case\n",
        "for i in range(60, testing_data.shape[0]):\n",
        "  X_test.append(testing_data[i-60:i]) # Indexes included (0-59), (1-60), (2-61)...\n",
        "  y_test.append(testing_data[i]) # Indexes included 60,61,62..."
      ],
      "execution_count": 0,
      "outputs": []
    },
    {
      "cell_type": "code",
      "metadata": {
        "id": "r-0nx9RXgrXL",
        "colab_type": "code",
        "colab": {}
      },
      "source": [
        "X_test, y_test = np.array(X_test), np.array(y_test)"
      ],
      "execution_count": 0,
      "outputs": []
    },
    {
      "cell_type": "markdown",
      "metadata": {
        "id": "9oCab_ay6lpN",
        "colab_type": "text"
      },
      "source": [
        "# seq2vec RNN for univariate time series to predict 1 time step ahead\n",
        "- We will take consider only 'Open' column for now and thus giving a univariate time series. \n",
        "- Using this series we will create sequences of time series with 60 days of time step.\n",
        "- Now using these sequences of time series we will try to predict the next value in the sequnce which is 1 time step ahead\n",
        "\n",
        "So, basically we will be building a seq2vec RNN for univariate time series "
      ]
    },
    {
      "cell_type": "markdown",
      "metadata": {
        "id": "8MNTt60KL5v5",
        "colab_type": "text"
      },
      "source": [
        "## Baseline Model\n",
        "- Its just a Linear model that we will train to compare performace of our RNN with"
      ]
    },
    {
      "cell_type": "code",
      "metadata": {
        "id": "mAZ3CHuSL4jd",
        "colab_type": "code",
        "colab": {}
      },
      "source": [
        "model = Sequential()\n",
        "model.add(Flatten(input_shape=[60, 1]))\n",
        "model.add(Dense(1))"
      ],
      "execution_count": 0,
      "outputs": []
    },
    {
      "cell_type": "code",
      "metadata": {
        "id": "g5gyGhAqL3XN",
        "colab_type": "code",
        "colab": {}
      },
      "source": [
        "model.compile(optimizer=Adam(), loss=mse)"
      ],
      "execution_count": 0,
      "outputs": []
    },
    {
      "cell_type": "code",
      "metadata": {
        "id": "z7tgo4OGeMOZ",
        "colab_type": "code",
        "outputId": "caab1938-9df2-4909-e438-974745882557",
        "colab": {
          "base_uri": "https://localhost:8080/",
          "height": 689
        }
      },
      "source": [
        "history = model.fit(X_train, y_train, epochs=20, validation_data=(X_valid, y_valid))"
      ],
      "execution_count": 0,
      "outputs": [
        {
          "output_type": "stream",
          "text": [
            "Epoch 1/20\n",
            "112/112 [==============================] - 0s 2ms/step - loss: 0.1387 - val_loss: 0.0034\n",
            "Epoch 2/20\n",
            "112/112 [==============================] - 0s 1ms/step - loss: 0.0011 - val_loss: 0.0033\n",
            "Epoch 3/20\n",
            "112/112 [==============================] - 0s 1ms/step - loss: 9.8873e-04 - val_loss: 0.0030\n",
            "Epoch 4/20\n",
            "112/112 [==============================] - 0s 1ms/step - loss: 8.5780e-04 - val_loss: 0.0027\n",
            "Epoch 5/20\n",
            "112/112 [==============================] - 0s 1ms/step - loss: 7.6060e-04 - val_loss: 0.0027\n",
            "Epoch 6/20\n",
            "112/112 [==============================] - 0s 1ms/step - loss: 7.0770e-04 - val_loss: 0.0025\n",
            "Epoch 7/20\n",
            "112/112 [==============================] - 0s 1ms/step - loss: 6.5923e-04 - val_loss: 0.0023\n",
            "Epoch 8/20\n",
            "112/112 [==============================] - 0s 1ms/step - loss: 6.3775e-04 - val_loss: 0.0023\n",
            "Epoch 9/20\n",
            "112/112 [==============================] - 0s 1ms/step - loss: 6.1294e-04 - val_loss: 0.0023\n",
            "Epoch 10/20\n",
            "112/112 [==============================] - 0s 1ms/step - loss: 5.9855e-04 - val_loss: 0.0022\n",
            "Epoch 11/20\n",
            "112/112 [==============================] - 0s 1ms/step - loss: 5.9135e-04 - val_loss: 0.0022\n",
            "Epoch 12/20\n",
            "112/112 [==============================] - 0s 1ms/step - loss: 5.7475e-04 - val_loss: 0.0021\n",
            "Epoch 13/20\n",
            "112/112 [==============================] - 0s 1ms/step - loss: 5.6197e-04 - val_loss: 0.0021\n",
            "Epoch 14/20\n",
            "112/112 [==============================] - 0s 1ms/step - loss: 5.4551e-04 - val_loss: 0.0020\n",
            "Epoch 15/20\n",
            "112/112 [==============================] - 0s 1ms/step - loss: 5.3759e-04 - val_loss: 0.0020\n",
            "Epoch 16/20\n",
            "112/112 [==============================] - 0s 1ms/step - loss: 5.2496e-04 - val_loss: 0.0019\n",
            "Epoch 17/20\n",
            "112/112 [==============================] - 0s 1ms/step - loss: 5.0793e-04 - val_loss: 0.0019\n",
            "Epoch 18/20\n",
            "112/112 [==============================] - 0s 1ms/step - loss: 4.9852e-04 - val_loss: 0.0022\n",
            "Epoch 19/20\n",
            "112/112 [==============================] - 0s 1ms/step - loss: 5.0614e-04 - val_loss: 0.0018\n",
            "Epoch 20/20\n",
            "112/112 [==============================] - 0s 1ms/step - loss: 4.7765e-04 - val_loss: 0.0017\n"
          ],
          "name": "stdout"
        }
      ]
    },
    {
      "cell_type": "code",
      "metadata": {
        "id": "AqMQs5OlhHx0",
        "colab_type": "code",
        "outputId": "bae66b5f-f245-4c00-96c6-7d504979d168",
        "colab": {
          "base_uri": "https://localhost:8080/",
          "height": 50
        }
      },
      "source": [
        "model.evaluate(X_valid, y_valid)"
      ],
      "execution_count": 0,
      "outputs": [
        {
          "output_type": "stream",
          "text": [
            "6/6 [==============================] - 0s 1ms/step - loss: 0.0017\n"
          ],
          "name": "stdout"
        },
        {
          "output_type": "execute_result",
          "data": {
            "text/plain": [
              "0.001729713287204504"
            ]
          },
          "metadata": {
            "tags": []
          },
          "execution_count": 38
        }
      ]
    },
    {
      "cell_type": "code",
      "metadata": {
        "id": "IbXTk257iDBk",
        "colab_type": "code",
        "outputId": "cc06f237-824d-429a-aa6d-ebaf63a5def0",
        "colab": {
          "base_uri": "https://localhost:8080/",
          "height": 689
        }
      },
      "source": [
        "history.history"
      ],
      "execution_count": 0,
      "outputs": [
        {
          "output_type": "execute_result",
          "data": {
            "text/plain": [
              "{'loss': [0.1386675089597702,\n",
              "  0.0011340954806655645,\n",
              "  0.0009887301130220294,\n",
              "  0.0008577993721701205,\n",
              "  0.000760597933549434,\n",
              "  0.000707702711224556,\n",
              "  0.0006592322024516761,\n",
              "  0.0006377469981089234,\n",
              "  0.0006129353423602879,\n",
              "  0.000598548911511898,\n",
              "  0.0005913466447964311,\n",
              "  0.0005747518735006452,\n",
              "  0.000561971333809197,\n",
              "  0.0005455074715428054,\n",
              "  0.0005375876789912581,\n",
              "  0.0005249558598734438,\n",
              "  0.000507925811689347,\n",
              "  0.0004985244595445693,\n",
              "  0.0005061384872533381,\n",
              "  0.00047764513874426484],\n",
              " 'val_loss': [0.00341014307923615,\n",
              "  0.0032693964894860983,\n",
              "  0.0029509563464671373,\n",
              "  0.0027139487210661173,\n",
              "  0.002741831121966243,\n",
              "  0.00248107872903347,\n",
              "  0.0023239387664943933,\n",
              "  0.0023037984501570463,\n",
              "  0.002302114386111498,\n",
              "  0.002192899351939559,\n",
              "  0.0021536743734031916,\n",
              "  0.0021139956079423428,\n",
              "  0.0020696630235761404,\n",
              "  0.0020058585796505213,\n",
              "  0.0019867876544594765,\n",
              "  0.0019062282517552376,\n",
              "  0.0019156326306983829,\n",
              "  0.002181095303967595,\n",
              "  0.001777402125298977,\n",
              "  0.001729713287204504]}"
            ]
          },
          "metadata": {
            "tags": []
          },
          "execution_count": 39
        }
      ]
    },
    {
      "cell_type": "code",
      "metadata": {
        "id": "iJnHyzmHhIBH",
        "colab_type": "code",
        "outputId": "9de1d21c-c2ce-4a9b-832c-f59a1eb580bc",
        "colab": {
          "base_uri": "https://localhost:8080/",
          "height": 295
        }
      },
      "source": [
        "# Plot Training Loss vs Validation Loss\n",
        "epochs = range(1,21)\n",
        "plt.plot(epochs, history.history['loss'])\n",
        "plt.plot(epochs, history.history['val_loss'])\n",
        "plt.title(\"Train VS Validation Loss\")\n",
        "plt.xlabel(\"Epochs\")\n",
        "plt.ylabel(\"Loss\")\n",
        "plt.legend(['Train','Valid'])\n",
        "plt.show()"
      ],
      "execution_count": 0,
      "outputs": [
        {
          "output_type": "display_data",
          "data": {
            "image/png": "[encoded data removed]",
            "text/plain": [
              "<Figure size 432x288 with 1 Axes>"
            ]
          },
          "metadata": {
            "tags": [],
            "needs_background": "light"
          }
        }
      ]
    },
    {
      "cell_type": "code",
      "metadata": {
        "id": "bf1SFzIPi5Dh",
        "colab_type": "code",
        "colab": {}
      },
      "source": [
        "def plot_series(series, y=None, y_pred=None, x_label=\"$t$\", y_label=\"$x(t)$\"):\n",
        "    plt.plot(series, \".-\")\n",
        "    if y is not None:\n",
        "        plt.plot(n_steps, y, \"bx\", markersize=10)\n",
        "    if y_pred is not None:\n",
        "        plt.plot(n_steps, y_pred, \"ro\")\n",
        "    plt.grid(True)\n",
        "    if x_label:\n",
        "        plt.xlabel(x_label, fontsize=16)\n",
        "    if y_label:\n",
        "        plt.ylabel(y_label, fontsize=16, rotation=0)\n",
        "    plt.hlines(0, 0, 100, linewidth=1)\n",
        "    plt.axis([0, n_steps + 1, -1, 1])"
      ],
      "execution_count": 0,
      "outputs": []
    },
    {
      "cell_type": "code",
      "metadata": {
        "id": "5S0w_yNEi7w-",
        "colab_type": "code",
        "outputId": "bd7df056-fc6c-4d9a-c34a-24748ec23a04",
        "colab": {
          "base_uri": "https://localhost:8080/",
          "height": 283
        }
      },
      "source": [
        "def plot_learning_curves(loss, val_loss):\n",
        "    plt.plot(np.arange(len(loss)) + 0.5, loss, \"b.-\", label=\"Training loss\")\n",
        "    plt.plot(np.arange(len(val_loss)) + 1, val_loss, \"r.-\", label=\"Validation loss\")\n",
        "    # plt.gca().xaxis.set_major_locator(mpl.ticker.MaxNLocator(integer=True))\n",
        "    plt.axis([1, 20, 0, 0.05])\n",
        "    plt.legend(fontsize=14)\n",
        "    plt.xlabel(\"Epochs\")\n",
        "    plt.ylabel(\"Loss\")\n",
        "    plt.grid(True)\n",
        "\n",
        "plot_learning_curves(history.history[\"loss\"], history.history[\"val_loss\"])\n",
        "plt.show()"
      ],
      "execution_count": 0,
      "outputs": [
        {
          "output_type": "display_data",
          "data": {
            "image/png": "[encoded data removed]",
            "text/plain": [
              "<Figure size 432x288 with 1 Axes>"
            ]
          },
          "metadata": {
            "tags": [],
            "needs_background": "light"
          }
        }
      ]
    },
    {
      "cell_type": "code",
      "metadata": {
        "id": "Jm3itq3jjZgp",
        "colab_type": "code",
        "colab": {}
      },
      "source": [
        "y_pred = model.predict(X_valid)"
      ],
      "execution_count": 0,
      "outputs": []
    },
    {
      "cell_type": "code",
      "metadata": {
        "id": "L1rlWO7-Rdmk",
        "colab_type": "code",
        "outputId": "38b5cdfb-9d59-469f-e708-1f500624eb2e",
        "colab": {
          "base_uri": "https://localhost:8080/",
          "height": 34
        }
      },
      "source": [
        "scalar.scale_"
      ],
      "execution_count": 0,
      "outputs": [
        {
          "output_type": "execute_result",
          "data": {
            "text/plain": [
              "array([0.00081861])"
            ]
          },
          "metadata": {
            "tags": []
          },
          "execution_count": 44
        }
      ]
    },
    {
      "cell_type": "code",
      "metadata": {
        "id": "jB13KOyfRlBA",
        "colab_type": "code",
        "outputId": "b9649816-fa52-438f-bd6e-a304a50daba2",
        "colab": {
          "base_uri": "https://localhost:8080/",
          "height": 34
        }
      },
      "source": [
        "scale = 1/scalar.scale_\n",
        "scale"
      ],
      "execution_count": 0,
      "outputs": [
        {
          "output_type": "execute_result",
          "data": {
            "text/plain": [
              "array([1221.590199])"
            ]
          },
          "metadata": {
            "tags": []
          },
          "execution_count": 45
        }
      ]
    },
    {
      "cell_type": "code",
      "metadata": {
        "id": "NmXRImQVRk9Z",
        "colab_type": "code",
        "colab": {}
      },
      "source": [
        "y_pred_rev_s = y_pred*scale\n",
        "y_valid_rev_s = y_valid*scale"
      ],
      "execution_count": 0,
      "outputs": []
    },
    {
      "cell_type": "code",
      "metadata": {
        "id": "INY6cRCRSFu_",
        "colab_type": "code",
        "outputId": "34151440-261b-43ad-a21e-8c9ae81f7964",
        "colab": {
          "base_uri": "https://localhost:8080/",
          "height": 350
        }
      },
      "source": [
        "y_pred_rev_s = y_pred*scale\n",
        "\n",
        "plt.figure(figsize=(15,5))\n",
        "plt.plot(y_valid_rev_s, color='red', label='Real Google Stock Price (Open)')\n",
        "plt.plot(y_pred_rev_s, color='blue', label='Predicted Google Stock Price (Open)')\n",
        "plt.title('Google Stock Price Prediction (Open')\n",
        "plt.xlabel('Time')\n",
        "plt.ylabel('Google Stock Price (Open)')\n",
        "plt.legend()\n",
        "plt.show()"
      ],
      "execution_count": 0,
      "outputs": [
        {
          "output_type": "display_data",
          "data": {
            "image/png": "[encoded data removed]",
            "text/plain": [
              "<Figure size 1080x360 with 1 Axes>"
            ]
          },
          "metadata": {
            "tags": [],
            "needs_background": "light"
          }
        }
      ]
    },
    {
      "cell_type": "code",
      "metadata": {
        "id": "-aVOjiDkSF-X",
        "colab_type": "code",
        "colab": {}
      },
      "source": [
        ""
      ],
      "execution_count": 0,
      "outputs": []
    },
    {
      "cell_type": "markdown",
      "metadata": {
        "id": "ED4KnZVWLPLi",
        "colab_type": "text"
      },
      "source": [
        "## Simple RNN"
      ]
    },
    {
      "cell_type": "code",
      "metadata": {
        "id": "OxrCzQFyKbZ9",
        "colab_type": "code",
        "colab": {}
      },
      "source": [
        "model = Sequential()\n",
        "model.add(SimpleRNN(1, input_shape=[None,1]))"
      ],
      "execution_count": 0,
      "outputs": []
    },
    {
      "cell_type": "code",
      "metadata": {
        "id": "rQK8QDvykR31",
        "colab_type": "code",
        "outputId": "728635c2-0851-4b57-df2f-413328f49398",
        "colab": {
          "base_uri": "https://localhost:8080/",
          "height": 185
        }
      },
      "source": [
        "model.summary()"
      ],
      "execution_count": 0,
      "outputs": [
        {
          "output_type": "stream",
          "text": [
            "Model: \"sequential_1\"\n",
            "_________________________________________________________________\n",
            "Layer (type)                 Output Shape              Param #   \n",
            "=================================================================\n",
            "simple_rnn (SimpleRNN)       (None, 1)                 3         \n",
            "=================================================================\n",
            "Total params: 3\n",
            "Trainable params: 3\n",
            "Non-trainable params: 0\n",
            "_________________________________________________________________\n"
          ],
          "name": "stdout"
        }
      ]
    },
    {
      "cell_type": "code",
      "metadata": {
        "id": "qwyXfbc2kUjf",
        "colab_type": "code",
        "colab": {}
      },
      "source": [
        "model.compile(optimizer=Adam(learning_rate=0.005), loss=mse)"
      ],
      "execution_count": 0,
      "outputs": []
    },
    {
      "cell_type": "code",
      "metadata": {
        "id": "iuffc6YLkrXU",
        "colab_type": "code",
        "outputId": "ac92accb-e762-43d9-84e5-f31860e4e260",
        "colab": {
          "base_uri": "https://localhost:8080/",
          "height": 689
        }
      },
      "source": [
        "history = model.fit(X_train, y_train, epochs=20, validation_data=(X_valid, y_valid))"
      ],
      "execution_count": 0,
      "outputs": [
        {
          "output_type": "stream",
          "text": [
            "Epoch 1/20\n",
            "112/112 [==============================] - 1s 8ms/step - loss: 0.0300 - val_loss: 0.1078\n",
            "Epoch 2/20\n",
            "112/112 [==============================] - 1s 7ms/step - loss: 0.0113 - val_loss: 0.0684\n",
            "Epoch 3/20\n",
            "112/112 [==============================] - 1s 7ms/step - loss: 0.0066 - val_loss: 0.0467\n",
            "Epoch 4/20\n",
            "112/112 [==============================] - 1s 7ms/step - loss: 0.0033 - val_loss: 0.0303\n",
            "Epoch 5/20\n",
            "112/112 [==============================] - 1s 7ms/step - loss: 0.0016 - val_loss: 0.0215\n",
            "Epoch 6/20\n",
            "112/112 [==============================] - 1s 7ms/step - loss: 9.3827e-04 - val_loss: 0.0167\n",
            "Epoch 7/20\n",
            "112/112 [==============================] - 1s 7ms/step - loss: 7.3607e-04 - val_loss: 0.0146\n",
            "Epoch 8/20\n",
            "112/112 [==============================] - 1s 8ms/step - loss: 6.5758e-04 - val_loss: 0.0134\n",
            "Epoch 9/20\n",
            "112/112 [==============================] - 1s 7ms/step - loss: 6.4730e-04 - val_loss: 0.0129\n",
            "Epoch 10/20\n",
            "112/112 [==============================] - 1s 8ms/step - loss: 6.4454e-04 - val_loss: 0.0127\n",
            "Epoch 11/20\n",
            "112/112 [==============================] - 1s 7ms/step - loss: 6.4676e-04 - val_loss: 0.0126\n",
            "Epoch 12/20\n",
            "112/112 [==============================] - 1s 7ms/step - loss: 6.4024e-04 - val_loss: 0.0126\n",
            "Epoch 13/20\n",
            "112/112 [==============================] - 1s 7ms/step - loss: 6.3907e-04 - val_loss: 0.0125\n",
            "Epoch 14/20\n",
            "112/112 [==============================] - 1s 7ms/step - loss: 6.3597e-04 - val_loss: 0.0128\n",
            "Epoch 15/20\n",
            "112/112 [==============================] - 1s 7ms/step - loss: 6.3326e-04 - val_loss: 0.0125\n",
            "Epoch 16/20\n",
            "112/112 [==============================] - 1s 7ms/step - loss: 6.3040e-04 - val_loss: 0.0125\n",
            "Epoch 17/20\n",
            "112/112 [==============================] - 1s 7ms/step - loss: 6.2737e-04 - val_loss: 0.0125\n",
            "Epoch 18/20\n",
            "112/112 [==============================] - 1s 7ms/step - loss: 6.5132e-04 - val_loss: 0.0124\n",
            "Epoch 19/20\n",
            "112/112 [==============================] - 1s 7ms/step - loss: 6.2492e-04 - val_loss: 0.0123\n",
            "Epoch 20/20\n",
            "112/112 [==============================] - 1s 7ms/step - loss: 6.2828e-04 - val_loss: 0.0124\n"
          ],
          "name": "stdout"
        }
      ]
    },
    {
      "cell_type": "code",
      "metadata": {
        "id": "jzlEgxNgk1Gw",
        "colab_type": "code",
        "outputId": "a204bad3-be55-42ba-9dfe-b0feabc3dce3",
        "colab": {
          "base_uri": "https://localhost:8080/",
          "height": 50
        }
      },
      "source": [
        "model.evaluate(X_valid, y_valid)"
      ],
      "execution_count": 0,
      "outputs": [
        {
          "output_type": "stream",
          "text": [
            "6/6 [==============================] - 0s 2ms/step - loss: 0.0124\n"
          ],
          "name": "stdout"
        },
        {
          "output_type": "execute_result",
          "data": {
            "text/plain": [
              "0.012427066452801228"
            ]
          },
          "metadata": {
            "tags": []
          },
          "execution_count": 52
        }
      ]
    },
    {
      "cell_type": "code",
      "metadata": {
        "id": "h5LthNt_F__x",
        "colab_type": "code",
        "outputId": "3bfb6c85-ee41-425c-e7e5-f8323d13a097",
        "colab": {
          "base_uri": "https://localhost:8080/",
          "height": 283
        }
      },
      "source": [
        "plot_learning_curves(history.history[\"loss\"], history.history[\"val_loss\"])\n",
        "plt.show()"
      ],
      "execution_count": 0,
      "outputs": [
        {
          "output_type": "display_data",
          "data": {
            "image/png": "[encoded data removed]",
            "text/plain": [
              "<Figure size 432x288 with 1 Axes>"
            ]
          },
          "metadata": {
            "tags": [],
            "needs_background": "light"
          }
        }
      ]
    },
    {
      "cell_type": "code",
      "metadata": {
        "id": "tqcHYR9aG_7U",
        "colab_type": "code",
        "colab": {}
      },
      "source": [
        "y_pred = model.predict(X_valid)"
      ],
      "execution_count": 0,
      "outputs": []
    },
    {
      "cell_type": "code",
      "metadata": {
        "id": "YElxFZJIU7jt",
        "colab_type": "code",
        "outputId": "dd0c5aef-76ad-415a-aec6-2e15c298536b",
        "colab": {
          "base_uri": "https://localhost:8080/",
          "height": 350
        }
      },
      "source": [
        "y_pred_rev_s = y_pred*scale\n",
        "\n",
        "plt.figure(figsize=(15,5))\n",
        "plt.plot(y_valid_rev_s, color='red', label='Real Google Stock Price (Open)')\n",
        "plt.plot(y_pred_rev_s, color='blue', label='Predicted Google Stock Price (Open)')\n",
        "plt.title('Google Stock Price Prediction (Open')\n",
        "plt.xlabel('Time')\n",
        "plt.ylabel('Google Stock Price (Open)')\n",
        "plt.legend()\n",
        "plt.show()"
      ],
      "execution_count": 0,
      "outputs": [
        {
          "output_type": "display_data",
          "data": {
            "image/png": "[encoded data removed]",
            "text/plain": [
              "<Figure size 1080x360 with 1 Axes>"
            ]
          },
          "metadata": {
            "tags": [],
            "needs_background": "light"
          }
        }
      ]
    },
    {
      "cell_type": "markdown",
      "metadata": {
        "id": "SFhjPDQjHMhw",
        "colab_type": "text"
      },
      "source": [
        "## Deep RNN"
      ]
    },
    {
      "cell_type": "code",
      "metadata": {
        "id": "CGu3pTCWHGzq",
        "colab_type": "code",
        "colab": {}
      },
      "source": [
        "model = Sequential()\n",
        "model.add(SimpleRNN(20, return_sequences=True, input_shape=[60,1]))\n",
        "model.add(SimpleRNN(20, return_sequences=True))\n",
        "model.add(SimpleRNN(1))"
      ],
      "execution_count": 0,
      "outputs": []
    },
    {
      "cell_type": "code",
      "metadata": {
        "id": "uxO4LSWeHuE8",
        "colab_type": "code",
        "colab": {}
      },
      "source": [
        "model.compile(optimizer=Adam(learning_rate=0.005), loss=mse)"
      ],
      "execution_count": 0,
      "outputs": []
    },
    {
      "cell_type": "code",
      "metadata": {
        "id": "I4ayhASpH7W5",
        "colab_type": "code",
        "outputId": "6e21ed8d-f730-4fa5-b0fc-58aa38ffc2a1",
        "colab": {
          "base_uri": "https://localhost:8080/",
          "height": 689
        }
      },
      "source": [
        "history = model.fit(X_train, y_train, epochs=20, validation_data=(X_valid, y_valid))"
      ],
      "execution_count": 0,
      "outputs": [
        {
          "output_type": "stream",
          "text": [
            "Epoch 1/20\n",
            "112/112 [==============================] - 3s 28ms/step - loss: 0.0067 - val_loss: 0.0092\n",
            "Epoch 2/20\n",
            "112/112 [==============================] - 3s 24ms/step - loss: 3.8643e-04 - val_loss: 0.0087\n",
            "Epoch 3/20\n",
            "112/112 [==============================] - 3s 25ms/step - loss: 4.3416e-04 - val_loss: 0.0088\n",
            "Epoch 4/20\n",
            "112/112 [==============================] - 3s 24ms/step - loss: 2.9570e-04 - val_loss: 0.0055\n",
            "Epoch 5/20\n",
            "112/112 [==============================] - 3s 24ms/step - loss: 2.5010e-04 - val_loss: 0.0055\n",
            "Epoch 6/20\n",
            "112/112 [==============================] - 3s 27ms/step - loss: 2.7157e-04 - val_loss: 0.0051\n",
            "Epoch 7/20\n",
            "112/112 [==============================] - 3s 26ms/step - loss: 2.0850e-04 - val_loss: 0.0052\n",
            "Epoch 8/20\n",
            "112/112 [==============================] - 3s 24ms/step - loss: 1.5508e-04 - val_loss: 0.0038\n",
            "Epoch 9/20\n",
            "112/112 [==============================] - 3s 25ms/step - loss: 1.5375e-04 - val_loss: 0.0036\n",
            "Epoch 10/20\n",
            "112/112 [==============================] - 3s 25ms/step - loss: 1.4885e-04 - val_loss: 0.0029\n",
            "Epoch 11/20\n",
            "112/112 [==============================] - 3s 24ms/step - loss: 1.2972e-04 - val_loss: 0.0037\n",
            "Epoch 12/20\n",
            "112/112 [==============================] - 3s 25ms/step - loss: 1.7420e-04 - val_loss: 0.0026\n",
            "Epoch 13/20\n",
            "112/112 [==============================] - 3s 25ms/step - loss: 1.3025e-04 - val_loss: 0.0026\n",
            "Epoch 14/20\n",
            "112/112 [==============================] - 3s 25ms/step - loss: 1.1796e-04 - val_loss: 0.0027\n",
            "Epoch 15/20\n",
            "112/112 [==============================] - 3s 25ms/step - loss: 1.3401e-04 - val_loss: 0.0030\n",
            "Epoch 16/20\n",
            "112/112 [==============================] - 3s 25ms/step - loss: 1.0921e-04 - val_loss: 0.0041\n",
            "Epoch 17/20\n",
            "112/112 [==============================] - 3s 24ms/step - loss: 1.6345e-04 - val_loss: 0.0022\n",
            "Epoch 18/20\n",
            "112/112 [==============================] - 3s 24ms/step - loss: 1.6615e-04 - val_loss: 0.0027\n",
            "Epoch 19/20\n",
            "112/112 [==============================] - 3s 25ms/step - loss: 1.6210e-04 - val_loss: 0.0028\n",
            "Epoch 20/20\n",
            "112/112 [==============================] - 3s 24ms/step - loss: 1.0189e-04 - val_loss: 0.0049\n"
          ],
          "name": "stdout"
        }
      ]
    },
    {
      "cell_type": "code",
      "metadata": {
        "id": "LSPdQqrpIEI6",
        "colab_type": "code",
        "outputId": "30b0ebea-0e81-4344-b504-7c36028e4a5e",
        "colab": {
          "base_uri": "https://localhost:8080/",
          "height": 50
        }
      },
      "source": [
        "model.evaluate(X_valid, y_valid)"
      ],
      "execution_count": 0,
      "outputs": [
        {
          "output_type": "stream",
          "text": [
            "6/6 [==============================] - 0s 5ms/step - loss: 0.0049\n"
          ],
          "name": "stdout"
        },
        {
          "output_type": "execute_result",
          "data": {
            "text/plain": [
              "0.004873501602560282"
            ]
          },
          "metadata": {
            "tags": []
          },
          "execution_count": 59
        }
      ]
    },
    {
      "cell_type": "code",
      "metadata": {
        "id": "10193smQJYia",
        "colab_type": "code",
        "outputId": "304277d8-322b-4f17-d808-4d1eaa383ba9",
        "colab": {
          "base_uri": "https://localhost:8080/",
          "height": 283
        }
      },
      "source": [
        "plot_learning_curves(history.history[\"loss\"], history.history[\"val_loss\"])\n",
        "plt.show()"
      ],
      "execution_count": 0,
      "outputs": [
        {
          "output_type": "display_data",
          "data": {
            "image/png": "[encoded data removed]",
            "text/plain": [
              "<Figure size 432x288 with 1 Axes>"
            ]
          },
          "metadata": {
            "tags": [],
            "needs_background": "light"
          }
        }
      ]
    },
    {
      "cell_type": "code",
      "metadata": {
        "id": "oKTLXgQ8Jb4d",
        "colab_type": "code",
        "colab": {}
      },
      "source": [
        "y_pred = model.predict(X_valid)"
      ],
      "execution_count": 0,
      "outputs": []
    },
    {
      "cell_type": "code",
      "metadata": {
        "id": "ykoZdFUFVaSG",
        "colab_type": "code",
        "outputId": "5cd2d114-4ab9-4991-be44-b4faab3da27f",
        "colab": {
          "base_uri": "https://localhost:8080/",
          "height": 350
        }
      },
      "source": [
        "y_pred_rev_s = y_pred*scale\n",
        "\n",
        "plt.figure(figsize=(15,5))\n",
        "plt.plot(y_valid_rev_s, color='red', label='Real Google Stock Price (Open)')\n",
        "plt.plot(y_pred_rev_s, color='blue', label='Predicted Google Stock Price (Open)')\n",
        "plt.title('Google Stock Price Prediction (Open')\n",
        "plt.xlabel('Time')\n",
        "plt.ylabel('Google Stock Price (Open)')\n",
        "plt.legend()\n",
        "plt.show()"
      ],
      "execution_count": 0,
      "outputs": [
        {
          "output_type": "display_data",
          "data": {
            "image/png": "[encoded data removed]",
            "text/plain": [
              "<Figure size 1080x360 with 1 Axes>"
            ]
          },
          "metadata": {
            "tags": [],
            "needs_background": "light"
          }
        }
      ]
    },
    {
      "cell_type": "markdown",
      "metadata": {
        "id": "QABGBJwdKBY-",
        "colab_type": "text"
      },
      "source": [
        "## Deep RNN + Dense\n",
        "- Since we are predicting only one value, we can replace the last layer with dense layer.\n",
        "- It will help in training time improvement\n",
        "- We can apply any activation function we want\n",
        "- Also it won't matter much cause most the data is passed by subseqent RNN layers"
      ]
    },
    {
      "cell_type": "code",
      "metadata": {
        "id": "VKgzfJ-7Ji01",
        "colab_type": "code",
        "colab": {}
      },
      "source": [
        "model = Sequential()\n",
        "model.add(SimpleRNN(20, return_sequences=True, input_shape=[60,1]))\n",
        "model.add(SimpleRNN(20))\n",
        "model.add(Dense(1))"
      ],
      "execution_count": 0,
      "outputs": []
    },
    {
      "cell_type": "code",
      "metadata": {
        "id": "Cl6YFm6WK0-k",
        "colab_type": "code",
        "colab": {}
      },
      "source": [
        "model.compile(optimizer=Adam(learning_rate=0.005), loss=mse)"
      ],
      "execution_count": 0,
      "outputs": []
    },
    {
      "cell_type": "code",
      "metadata": {
        "id": "YnFRHQeTK5Kr",
        "colab_type": "code",
        "outputId": "c4353c5d-c540-4fd4-b828-e89ad453cc25",
        "colab": {
          "base_uri": "https://localhost:8080/",
          "height": 689
        }
      },
      "source": [
        "history = model.fit(X_train, y_train, epochs=20, validation_data=(X_valid, y_valid))"
      ],
      "execution_count": 0,
      "outputs": [
        {
          "output_type": "stream",
          "text": [
            "Epoch 1/20\n",
            "112/112 [==============================] - 2s 19ms/step - loss: 0.0143 - val_loss: 0.0019\n",
            "Epoch 2/20\n",
            "112/112 [==============================] - 2s 16ms/step - loss: 1.2695e-04 - val_loss: 5.9910e-04\n",
            "Epoch 3/20\n",
            "112/112 [==============================] - 2s 16ms/step - loss: 1.2939e-04 - val_loss: 8.0540e-04\n",
            "Epoch 4/20\n",
            "112/112 [==============================] - 2s 17ms/step - loss: 1.1070e-04 - val_loss: 3.5457e-04\n",
            "Epoch 5/20\n",
            "112/112 [==============================] - 2s 16ms/step - loss: 1.5352e-04 - val_loss: 0.0011\n",
            "Epoch 6/20\n",
            "112/112 [==============================] - 2s 16ms/step - loss: 1.4186e-04 - val_loss: 3.5882e-04\n",
            "Epoch 7/20\n",
            "112/112 [==============================] - 2s 17ms/step - loss: 1.8304e-04 - val_loss: 0.0017\n",
            "Epoch 8/20\n",
            "112/112 [==============================] - 2s 18ms/step - loss: 1.9689e-04 - val_loss: 4.0385e-04\n",
            "Epoch 9/20\n",
            "112/112 [==============================] - 2s 17ms/step - loss: 1.6622e-04 - val_loss: 4.4753e-04\n",
            "Epoch 10/20\n",
            "112/112 [==============================] - 2s 17ms/step - loss: 1.3020e-04 - val_loss: 3.3906e-04\n",
            "Epoch 11/20\n",
            "112/112 [==============================] - 2s 18ms/step - loss: 1.7802e-04 - val_loss: 2.9172e-04\n",
            "Epoch 12/20\n",
            "112/112 [==============================] - 2s 16ms/step - loss: 2.2193e-04 - val_loss: 2.8468e-04\n",
            "Epoch 13/20\n",
            "112/112 [==============================] - 2s 18ms/step - loss: 1.0835e-04 - val_loss: 4.5710e-04\n",
            "Epoch 14/20\n",
            "112/112 [==============================] - 2s 17ms/step - loss: 1.3230e-04 - val_loss: 2.7241e-04\n",
            "Epoch 15/20\n",
            "112/112 [==============================] - 2s 17ms/step - loss: 1.7296e-04 - val_loss: 9.1598e-04\n",
            "Epoch 16/20\n",
            "112/112 [==============================] - 2s 17ms/step - loss: 1.7773e-04 - val_loss: 0.0010\n",
            "Epoch 17/20\n",
            "112/112 [==============================] - 2s 17ms/step - loss: 1.4995e-04 - val_loss: 2.8347e-04\n",
            "Epoch 18/20\n",
            "112/112 [==============================] - 2s 16ms/step - loss: 1.1422e-04 - val_loss: 2.6636e-04\n",
            "Epoch 19/20\n",
            "112/112 [==============================] - 2s 17ms/step - loss: 1.8446e-04 - val_loss: 0.0018\n",
            "Epoch 20/20\n",
            "112/112 [==============================] - 2s 17ms/step - loss: 1.2326e-04 - val_loss: 3.2956e-04\n"
          ],
          "name": "stdout"
        }
      ]
    },
    {
      "cell_type": "code",
      "metadata": {
        "id": "bh5cI44SK8c6",
        "colab_type": "code",
        "outputId": "691230aa-a2e5-4658-917c-294bcf8fb2e4",
        "colab": {
          "base_uri": "https://localhost:8080/",
          "height": 50
        }
      },
      "source": [
        "model.evaluate(X_valid, y_valid)"
      ],
      "execution_count": 0,
      "outputs": [
        {
          "output_type": "stream",
          "text": [
            "6/6 [==============================] - 0s 4ms/step - loss: 3.2956e-04\n"
          ],
          "name": "stdout"
        },
        {
          "output_type": "execute_result",
          "data": {
            "text/plain": [
              "0.0003295635979156941"
            ]
          },
          "metadata": {
            "tags": []
          },
          "execution_count": 66
        }
      ]
    },
    {
      "cell_type": "code",
      "metadata": {
        "id": "kcRmqillK9KF",
        "colab_type": "code",
        "outputId": "8d587f6d-389f-4c00-9a12-aa20df022163",
        "colab": {
          "base_uri": "https://localhost:8080/",
          "height": 295
        }
      },
      "source": [
        "# Plot Training Loss vs Validation Loss\n",
        "epochs = range(1,21)\n",
        "plt.plot(epochs, history.history['loss'])\n",
        "plt.plot(epochs, history.history['val_loss'])\n",
        "plt.title(\"Train VS Validation Loss\")\n",
        "plt.xlabel(\"Epochs\")\n",
        "plt.ylabel(\"Loss\")\n",
        "plt.legend(['Train','Valid'])\n",
        "plt.show()"
      ],
      "execution_count": 0,
      "outputs": [
        {
          "output_type": "display_data",
          "data": {
            "image/png": "[encoded data removed]",
            "text/plain": [
              "<Figure size 432x288 with 1 Axes>"
            ]
          },
          "metadata": {
            "tags": [],
            "needs_background": "light"
          }
        }
      ]
    },
    {
      "cell_type": "code",
      "metadata": {
        "id": "-IoJDQvdK9bA",
        "colab_type": "code",
        "colab": {}
      },
      "source": [
        "y_pred = model.predict(X_valid)"
      ],
      "execution_count": 0,
      "outputs": []
    },
    {
      "cell_type": "code",
      "metadata": {
        "id": "fYUD4UBDLRhU",
        "colab_type": "code",
        "outputId": "65758f71-128a-48e0-c670-a107d29668a6",
        "colab": {
          "base_uri": "https://localhost:8080/",
          "height": 350
        }
      },
      "source": [
        "y_pred_rev_s = y_pred*scale\n",
        "\n",
        "plt.figure(figsize=(15,5))\n",
        "plt.plot(y_valid_rev_s, color='red', label='Real Google Stock Price (Open)')\n",
        "plt.plot(y_pred_rev_s, color='blue', label='Predicted Google Stock Price (Open)')\n",
        "plt.title('Google Stock Price Prediction (Open')\n",
        "plt.xlabel('Time')\n",
        "plt.ylabel('Google Stock Price (Open)')\n",
        "plt.legend()\n",
        "plt.show()"
      ],
      "execution_count": 0,
      "outputs": [
        {
          "output_type": "display_data",
          "data": {
            "image/png": "[encoded data removed]",
            "text/plain": [
              "<Figure size 1080x360 with 1 Axes>"
            ]
          },
          "metadata": {
            "tags": [],
            "needs_background": "light"
          }
        }
      ]
    },
    {
      "cell_type": "markdown",
      "metadata": {
        "id": "CnNFeaM9mrCU",
        "colab_type": "text"
      },
      "source": [
        "# Forecasting several time step ahead\n",
        "- There are two Approaches\n",
        "  - 1. Taking a sequence(here 60 time steps (0-59)) and predicting the next value(here 61st value(60th value). Then added incrementing the sequence using this predicted value(here using 1-59 time steps plus the 60th predicted value) and so on till the desired number of forecasting required.\n",
        "  - 2. We can predict all values at once"
      ]
    },
    {
      "cell_type": "markdown",
      "metadata": {
        "id": "Lg6naX1QoLsP",
        "colab_type": "text"
      },
      "source": [
        "1st Approach\n",
        "- Steps\n",
        "  - (0-59) Input Sequence\n",
        "  - Predict 60th Value\n",
        "  - (1-59) Input Sequece + 60th Predict value from the previous step as Input\n",
        "  - Predict 61st Value\n",
        "  - (2-59) Input Sequence + 60th + 61st Predict value as Input\n",
        "  - Predict 62nd Value\n",
        "  - And so on till the desired number time step predictions in Future"
      ]
    },
    {
      "cell_type": "code",
      "metadata": {
        "id": "1VjtUuvgmpSf",
        "colab_type": "code",
        "colab": {}
      },
      "source": [
        "# X_new, Y_new = series[:, :n_steps], series[:, n_steps:]\n",
        "# X = X_new\n",
        "# for step_ahead in range(10):\n",
        "#     y_pred_one = model.predict(X[:, step_ahead:])[:, np.newaxis, :]\n",
        "#     X = np.concatenate([X, y_pred_one], axis=1)\n",
        "\n",
        "# Y_pred = X[:, n_steps:]"
      ],
      "execution_count": 0,
      "outputs": []
    },
    {
      "cell_type": "markdown",
      "metadata": {
        "colab_type": "text",
        "id": "7SdR6V3bPjQE"
      },
      "source": [
        "# Data Preparation "
      ]
    },
    {
      "cell_type": "code",
      "metadata": {
        "colab_type": "code",
        "id": "1FRwpKjbPjQF",
        "colab": {}
      },
      "source": [
        "# Selecting only 'Open' feature and creating a univaiate time series\n",
        "training_data = data_train.drop(['Date', 'High', 'Low', 'Close', 'Adj Close', 'Volume'], axis=1)"
      ],
      "execution_count": 0,
      "outputs": []
    },
    {
      "cell_type": "code",
      "metadata": {
        "colab_type": "code",
        "outputId": "1e11f0cb-7d8a-4284-f18a-6979913c0b3b",
        "id": "HCnZUt7DPjQL",
        "colab": {
          "base_uri": "https://localhost:8080/",
          "height": 402
        }
      },
      "source": [
        "training_data"
      ],
      "execution_count": 0,
      "outputs": [
        {
          "output_type": "execute_result",
          "data": {
            "text/html": [
              "<div>\n",
              "<style scoped>\n",
              "    .dataframe tbody tr th:only-of-type {\n",
              "        vertical-align: middle;\n",
              "    }\n",
              "\n",
              "    .dataframe tbody tr th {\n",
              "        vertical-align: top;\n",
              "    }\n",
              "\n",
              "    .dataframe thead th {\n",
              "        text-align: right;\n",
              "    }\n",
              "</style>\n",
              "<table border=\"1\" class=\"dataframe\">\n",
              "  <thead>\n",
              "    <tr style=\"text-align: right;\">\n",
              "      <th></th>\n",
              "      <th>Open</th>\n",
              "    </tr>\n",
              "  </thead>\n",
              "  <tbody>\n",
              "    <tr>\n",
              "      <th>0</th>\n",
              "      <td>49.813286</td>\n",
              "    </tr>\n",
              "    <tr>\n",
              "      <th>1</th>\n",
              "      <td>50.316402</td>\n",
              "    </tr>\n",
              "    <tr>\n",
              "      <th>2</th>\n",
              "      <td>55.168217</td>\n",
              "    </tr>\n",
              "    <tr>\n",
              "      <th>3</th>\n",
              "      <td>55.412300</td>\n",
              "    </tr>\n",
              "    <tr>\n",
              "      <th>4</th>\n",
              "      <td>52.284027</td>\n",
              "    </tr>\n",
              "    <tr>\n",
              "      <th>...</th>\n",
              "      <td>...</td>\n",
              "    </tr>\n",
              "    <tr>\n",
              "      <th>3612</th>\n",
              "      <td>973.900024</td>\n",
              "    </tr>\n",
              "    <tr>\n",
              "      <th>3613</th>\n",
              "      <td>989.010010</td>\n",
              "    </tr>\n",
              "    <tr>\n",
              "      <th>3614</th>\n",
              "      <td>1017.150024</td>\n",
              "    </tr>\n",
              "    <tr>\n",
              "      <th>3615</th>\n",
              "      <td>1049.619995</td>\n",
              "    </tr>\n",
              "    <tr>\n",
              "      <th>3616</th>\n",
              "      <td>1050.959961</td>\n",
              "    </tr>\n",
              "  </tbody>\n",
              "</table>\n",
              "<p>3617 rows × 1 columns</p>\n",
              "</div>"
            ],
            "text/plain": [
              "             Open\n",
              "0       49.813286\n",
              "1       50.316402\n",
              "2       55.168217\n",
              "3       55.412300\n",
              "4       52.284027\n",
              "...           ...\n",
              "3612   973.900024\n",
              "3613   989.010010\n",
              "3614  1017.150024\n",
              "3615  1049.619995\n",
              "3616  1050.959961\n",
              "\n",
              "[3617 rows x 1 columns]"
            ]
          },
          "metadata": {
            "tags": []
          },
          "execution_count": 18
        }
      ]
    },
    {
      "cell_type": "code",
      "metadata": {
        "colab_type": "code",
        "id": "2ZB8W0swPjQR",
        "colab": {}
      },
      "source": [
        "validation_data = data_valid.drop(['Date', 'High', 'Low', 'Close', 'Adj Close', 'Volume'], axis=1)\n",
        "testing_data = data_test.drop(['Date', 'High', 'Low', 'Close', 'Adj Close', 'Volume'], axis=1)"
      ],
      "execution_count": 0,
      "outputs": []
    },
    {
      "cell_type": "code",
      "metadata": {
        "colab_type": "code",
        "outputId": "2f39e791-87d6-4010-9d59-cebaf465e528",
        "id": "FiA3J0dxPjQV",
        "colab": {
          "base_uri": "https://localhost:8080/",
          "height": 134
        }
      },
      "source": [
        "# Scaling the Data\n",
        "scalar = MinMaxScaler()\n",
        "training_data = scalar.fit_transform(training_data)\n",
        "training_data\n",
        "# This will return all values in range 0 to 1"
      ],
      "execution_count": 0,
      "outputs": [
        {
          "output_type": "execute_result",
          "data": {
            "text/plain": [
              "array([[3.30294890e-04],\n",
              "       [7.42148227e-04],\n",
              "       [4.71386886e-03],\n",
              "       ...,\n",
              "       [7.92197108e-01],\n",
              "       [8.18777193e-01],\n",
              "       [8.19874096e-01]])"
            ]
          },
          "metadata": {
            "tags": []
          },
          "execution_count": 20
        }
      ]
    },
    {
      "cell_type": "code",
      "metadata": {
        "colab_type": "code",
        "id": "1ftXTM3WPjQZ",
        "colab": {}
      },
      "source": [
        "validation_data = scalar.transform(validation_data)\n",
        "testing_data = scalar.transform(testing_data)"
      ],
      "execution_count": 0,
      "outputs": []
    },
    {
      "cell_type": "code",
      "metadata": {
        "colab_type": "code",
        "id": "kht6GgQZPjQk",
        "colab": {}
      },
      "source": [
        "X_train = [] # Sequences of training data\n",
        "y_train = [] # Vectors of Output\n",
        "\n",
        "# We are taking 60 time step per sequence here, but you can take according to the use case\n",
        "for i in range(60, training_data.shape[0]):\n",
        "  X_train.append(training_data[i-60:i]) # Indexes included (0-59), (1-60), (2-61)...\n",
        "  y_train.append(training_data[i:i+10]) # Indexes included (60-69), (61-70), (62-71)... Here we are trying to predict 10 time steps ahead"
      ],
      "execution_count": 0,
      "outputs": []
    },
    {
      "cell_type": "code",
      "metadata": {
        "colab_type": "code",
        "id": "1Z4y6fhZPjQp",
        "colab": {}
      },
      "source": [
        "X_train, y_train = np.array(X_train), np.array(y_train)"
      ],
      "execution_count": 0,
      "outputs": []
    },
    {
      "cell_type": "code",
      "metadata": {
        "id": "epW0fivgRUGb",
        "colab_type": "code",
        "outputId": "34f7309f-ace5-4c23-8bf3-d4e4439e74c6",
        "colab": {
          "base_uri": "https://localhost:8080/",
          "height": 840
        }
      },
      "source": [
        "X_train"
      ],
      "execution_count": 0,
      "outputs": [
        {
          "output_type": "execute_result",
          "data": {
            "text/plain": [
              "array([[[3.30294890e-04],\n",
              "        [7.42148227e-04],\n",
              "        [4.71386886e-03],\n",
              "        ...,\n",
              "        [3.05463616e-02],\n",
              "        [2.91476913e-02],\n",
              "        [2.85197221e-02]],\n",
              "\n",
              "       [[7.42148227e-04],\n",
              "        [4.71386886e-03],\n",
              "        [4.91367646e-03],\n",
              "        ...,\n",
              "        [2.91476913e-02],\n",
              "        [2.85197221e-02],\n",
              "        [3.50848828e-02]],\n",
              "\n",
              "       [[4.71386886e-03],\n",
              "        [4.91367646e-03],\n",
              "        [2.35285614e-03],\n",
              "        ...,\n",
              "        [2.85197221e-02],\n",
              "        [3.50848828e-02],\n",
              "        [3.31357243e-02]],\n",
              "\n",
              "       ...,\n",
              "\n",
              "       [[9.41789002e-01],\n",
              "        [9.34478814e-01],\n",
              "        [9.45972062e-01],\n",
              "        ...,\n",
              "        [7.90682659e-01],\n",
              "        [7.56792436e-01],\n",
              "        [7.69161548e-01]],\n",
              "\n",
              "       [[9.34478814e-01],\n",
              "        [9.45972062e-01],\n",
              "        [9.38056114e-01],\n",
              "        ...,\n",
              "        [7.56792436e-01],\n",
              "        [7.69161548e-01],\n",
              "        [7.92197108e-01]],\n",
              "\n",
              "       [[9.45972062e-01],\n",
              "        [9.38056114e-01],\n",
              "        [9.15274369e-01],\n",
              "        ...,\n",
              "        [7.69161548e-01],\n",
              "        [7.92197108e-01],\n",
              "        [8.18777193e-01]]])"
            ]
          },
          "metadata": {
            "tags": []
          },
          "execution_count": 30
        }
      ]
    },
    {
      "cell_type": "code",
      "metadata": {
        "colab_type": "code",
        "outputId": "2a2c743d-41e8-45ee-cd73-7cb3cbeadf21",
        "id": "TDGSp9RMPjQ7",
        "colab": {
          "base_uri": "https://localhost:8080/",
          "height": 34
        }
      },
      "source": [
        "X_train.shape, y_train.shape"
      ],
      "execution_count": 0,
      "outputs": [
        {
          "output_type": "execute_result",
          "data": {
            "text/plain": [
              "((3557, 60, 1), (3557,))"
            ]
          },
          "metadata": {
            "tags": []
          },
          "execution_count": 29
        }
      ]
    },
    {
      "cell_type": "code",
      "metadata": {
        "colab_type": "code",
        "id": "d31wlN5qPjQ-",
        "colab": {}
      },
      "source": [
        "n_steps = 60"
      ],
      "execution_count": 0,
      "outputs": []
    },
    {
      "cell_type": "code",
      "metadata": {
        "colab_type": "code",
        "id": "bpgPTg68PjRC",
        "colab": {}
      },
      "source": [
        "X_valid = [] # Sequences of training data\n",
        "y_valid = [] # Vectors of Output\n",
        "\n",
        "# We are taking 60 time step per sequence here, but you can take according to the use case\n",
        "for i in range(60, validation_data.shape[0]):\n",
        "  X_valid.append(validation_data[i-60:i]) # Indexes included (0-59), (1-60), (2-61)...\n",
        "  y_valid.append(validation_data[i]) # Indexes included 60,61,62..."
      ],
      "execution_count": 0,
      "outputs": []
    },
    {
      "cell_type": "code",
      "metadata": {
        "colab_type": "code",
        "id": "vry1II7kPjRM",
        "colab": {}
      },
      "source": [
        "X_valid, y_valid = np.array(X_valid), np.array(y_valid)"
      ],
      "execution_count": 0,
      "outputs": []
    },
    {
      "cell_type": "code",
      "metadata": {
        "colab_type": "code",
        "id": "4SFA6XHXPjRT",
        "colab": {}
      },
      "source": [
        "X_test = [] # Sequences of training data\n",
        "y_test = [] # Vectors of Output\n",
        "\n",
        "# We are taking 60 time step per sequence here, but you can take according to the use case\n",
        "for i in range(60, testing_data.shape[0]):\n",
        "  X_test.append(testing_data[i-60:i]) # Indexes included (0-59), (1-60), (2-61)...\n",
        "  y_test.append(testing_data[i]) # Indexes included 60,61,62..."
      ],
      "execution_count": 0,
      "outputs": []
    },
    {
      "cell_type": "code",
      "metadata": {
        "colab_type": "code",
        "id": "-eGi4r9ePjRZ",
        "colab": {}
      },
      "source": [
        "X_test, y_test = np.array(X_test), np.array(y_test)"
      ],
      "execution_count": 0,
      "outputs": []
    },
    {
      "cell_type": "markdown",
      "metadata": {
        "colab_type": "text",
        "id": "wuHeZLiAN4Yg"
      },
      "source": [
        "2nd Approach: \n",
        "# seq2vec RNN for univariate time series to predict 10 time step ahead"
      ]
    },
    {
      "cell_type": "code",
      "metadata": {
        "colab_type": "code",
        "id": "Gpe2UbTJPSBD",
        "colab": {}
      },
      "source": [
        ""
      ],
      "execution_count": 0,
      "outputs": []
    },
    {
      "cell_type": "code",
      "metadata": {
        "id": "FUPspFR8VpQP",
        "colab_type": "code",
        "colab": {}
      },
      "source": [
        ""
      ],
      "execution_count": 0,
      "outputs": []
    },
    {
      "cell_type": "code",
      "metadata": {
        "id": "GRsHUL5Vcwxz",
        "colab_type": "code",
        "colab": {}
      },
      "source": [
        ""
      ],
      "execution_count": 0,
      "outputs": []
    },
    {
      "cell_type": "code",
      "metadata": {
        "id": "RHs94D0Rc7Vl",
        "colab_type": "code",
        "colab": {}
      },
      "source": [
        ""
      ],
      "execution_count": 0,
      "outputs": []
    }
  ]
}