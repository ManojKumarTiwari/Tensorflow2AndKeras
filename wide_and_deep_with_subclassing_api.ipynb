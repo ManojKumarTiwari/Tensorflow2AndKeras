{
  "nbformat": 4,
  "nbformat_minor": 0,
  "metadata": {
    "colab": {
      "name": "wide_and_deep_with_subclassing_api.ipynb",
      "provenance": [],
      "authorship_tag": "ABX9TyOu2FIkqyjKVoEuXWF+E4PL",
      "include_colab_link": true
    },
    "kernelspec": {
      "name": "python3",
      "display_name": "Python 3"
    }
  },
  "cells": [
    {
      "cell_type": "markdown",
      "metadata": {
        "id": "view-in-github",
        "colab_type": "text"
      },
      "source": [
        "<a href=\"https://colab.research.google.com/github/ManojKumarTiwari/Tensorflow2AndKeras/blob/master/wide_and_deep_with_subclassing_api.ipynb\" target=\"_parent\"><img src=\"https://colab.research.google.com/assets/colab-badge.svg\" alt=\"Open In Colab\"/></a>"
      ]
    },
    {
      "cell_type": "markdown",
      "metadata": {
        "id": "GYOOZAtn-EX-",
        "colab_type": "text"
      },
      "source": [
        "# content"
      ]
    },
    {
      "cell_type": "code",
      "metadata": {
        "id": "RSn8qwgl96sp",
        "colab_type": "code",
        "colab": {
          "base_uri": "https://localhost:8080/",
          "height": 419
        },
        "outputId": "a64ead36-3589-4db0-bfbc-892aab718e54"
      },
      "source": [
        "from IPython.display import Image\n",
        "Image('/content/mls2_1016.png', width=600)"
      ],
      "execution_count": 6,
      "outputs": [
        {
          "output_type": "execute_result",
          "data": {
            "image/png": "[encoded data removed]",
            "text/plain": [
              "<IPython.core.display.Image object>"
            ]
          },
          "metadata": {
            "tags": [],
            "image/png": {
              "width": 600
            }
          },
          "execution_count": 6
        }
      ]
    },
    {
      "cell_type": "markdown",
      "metadata": {
        "id": "xvB1cfIk-2XT",
        "colab_type": "text"
      },
      "source": [
        "# import"
      ]
    },
    {
      "cell_type": "code",
      "metadata": {
        "id": "6UHja7Pn-TwA",
        "colab_type": "code",
        "colab": {
          "base_uri": "https://localhost:8080/",
          "height": 67
        },
        "outputId": "6830e595-fe82-4a24-89ef-543abcdcbeb3"
      },
      "source": [
        "import tensorflow as tf\n",
        "from tensorflow import keras\n",
        "print(tf.__version__)\n",
        "print(keras.__version__)\n",
        "\n",
        "# dataset\n",
        "from sklearn.datasets import fetch_california_housing\n",
        "\n",
        "# model\n",
        "from keras import Model\n",
        "# layer\n",
        "from keras.layers import Input, Dense, Concatenate\n",
        "# activation\n",
        "from keras.activations import relu\n",
        "# optimization\n",
        "from keras.optimizers import adam\n",
        "# loss\n",
        "from keras.losses import mean_squared_error\n",
        "\n",
        "from sklearn.model_selection import train_test_split\n",
        "from sklearn.preprocessing import StandardScaler\n",
        "\n",
        "import numpy as np\n",
        "import pandas as pd\n",
        "import matplotlib.pyplot as plt"
      ],
      "execution_count": 7,
      "outputs": [
        {
          "output_type": "stream",
          "text": [
            "2.2.0\n",
            "2.3.0-tf\n"
          ],
          "name": "stdout"
        },
        {
          "output_type": "stream",
          "text": [
            "Using TensorFlow backend.\n"
          ],
          "name": "stderr"
        }
      ]
    },
    {
      "cell_type": "markdown",
      "metadata": {
        "id": "qmjQsdK7CEZA",
        "colab_type": "text"
      },
      "source": [
        "# load the data"
      ]
    },
    {
      "cell_type": "code",
      "metadata": {
        "id": "RdCmLKJX_FrB",
        "colab_type": "code",
        "colab": {
          "base_uri": "https://localhost:8080/",
          "height": 34
        },
        "outputId": "ed3a1db8-b6f3-4157-884f-7f6c566ea134"
      },
      "source": [
        "dataset = fetch_california_housing()"
      ],
      "execution_count": 8,
      "outputs": [
        {
          "output_type": "stream",
          "text": [
            "Downloading Cal. housing from https://ndownloader.figshare.com/files/5976036 to /root/scikit_learn_data\n"
          ],
          "name": "stderr"
        }
      ]
    },
    {
      "cell_type": "code",
      "metadata": {
        "id": "y_VxNsGFCDP_",
        "colab_type": "code",
        "colab": {
          "base_uri": "https://localhost:8080/",
          "height": 34
        },
        "outputId": "6bf4b9e3-dfff-424d-b2a3-4f3957e9bc36"
      },
      "source": [
        "dataset.keys()"
      ],
      "execution_count": 9,
      "outputs": [
        {
          "output_type": "execute_result",
          "data": {
            "text/plain": [
              "dict_keys(['data', 'target', 'feature_names', 'DESCR'])"
            ]
          },
          "metadata": {
            "tags": []
          },
          "execution_count": 9
        }
      ]
    },
    {
      "cell_type": "code",
      "metadata": {
        "id": "bQMjo91yCJZc",
        "colab_type": "code",
        "colab": {}
      },
      "source": [
        "X = dataset.data\n",
        "y = dataset.target"
      ],
      "execution_count": 0,
      "outputs": []
    },
    {
      "cell_type": "markdown",
      "metadata": {
        "id": "PORqsltxCWLD",
        "colab_type": "text"
      },
      "source": [
        "# split the data"
      ]
    },
    {
      "cell_type": "code",
      "metadata": {
        "id": "VFG5zzqACOXf",
        "colab_type": "code",
        "colab": {}
      },
      "source": [
        "X_train, X_test, y_train, y_test = train_test_split(X, y, test_size=0.3, random_state=42)\n",
        "X_train, X_valid, y_train, y_valid = train_test_split(X, y, test_size=0.3, random_state=42)"
      ],
      "execution_count": 0,
      "outputs": []
    },
    {
      "cell_type": "markdown",
      "metadata": {
        "id": "l09HHjXPCmxk",
        "colab_type": "text"
      },
      "source": [
        "# standardize"
      ]
    },
    {
      "cell_type": "code",
      "metadata": {
        "id": "jD9QXTJnCkqb",
        "colab_type": "code",
        "colab": {}
      },
      "source": [
        "sc = StandardScaler()\n",
        "X_train = sc.fit_transform(X_train)\n",
        "X_valid = sc.transform(X_valid)\n",
        "X_test = sc.transform(X_test)"
      ],
      "execution_count": 0,
      "outputs": []
    },
    {
      "cell_type": "markdown",
      "metadata": {
        "id": "pwsJ-3xDDAxf",
        "colab_type": "text"
      },
      "source": [
        "# data preparation"
      ]
    },
    {
      "cell_type": "code",
      "metadata": {
        "id": "9QMCt_fCCqVq",
        "colab_type": "code",
        "colab": {}
      },
      "source": [
        "X_train_A, X_train_B = X_train[:, :5], X_train[:, 2:]\n",
        "X_valid_A, X_valid_B = X_valid[:, :5], X_valid[:, 2:]\n",
        "X_test_A, X_test_B = X_test[:, :5], X_test[:, 2:]\n",
        "X_new_A, X_new_B = X_test[:3, :5], X_test[:3, 2:]"
      ],
      "execution_count": 0,
      "outputs": []
    },
    {
      "cell_type": "markdown",
      "metadata": {
        "id": "_W-R6XVfDoqQ",
        "colab_type": "text"
      },
      "source": [
        "# build the ann model using subclassing api"
      ]
    },
    {
      "cell_type": "code",
      "metadata": {
        "id": "CvGhgoQeCqhq",
        "colab_type": "code",
        "colab": {}
      },
      "source": [
        "class WideAndDeepModel(Model):\n",
        "  def __init__(self, units=30, activation=relu, **kwargs):\n",
        "    super().__init__(**kwargs)\n",
        "    self.hidden1 = Dense(units=units, activation=activation)\n",
        "    self.hidden2 = Dense(units=units, activation=activation)\n",
        "    self.main_output = Dense(1)\n",
        "    self.aux_output = Dense(1)\n",
        "\n",
        "  def call(self, input):\n",
        "    input_A, input_B = input\n",
        "    hidden1 = self.hidden1(input_B)\n",
        "    hidden2 = self.hidden2(hidden1)\n",
        "    aux_output = self.aux_output(hidden2)\n",
        "    concat = Concatenate()([input_A, hidden2])\n",
        "    main_output = self.main_output(concat)\n",
        "    return main_output, aux_output"
      ],
      "execution_count": 0,
      "outputs": []
    },
    {
      "cell_type": "code",
      "metadata": {
        "id": "M1_ZbYs7GRYG",
        "colab_type": "code",
        "colab": {}
      },
      "source": [
        "model = WideAndDeepModel()"
      ],
      "execution_count": 0,
      "outputs": []
    },
    {
      "cell_type": "markdown",
      "metadata": {
        "id": "-bRhJ08vGH2t",
        "colab_type": "text"
      },
      "source": [
        "# compile"
      ]
    },
    {
      "cell_type": "code",
      "metadata": {
        "id": "VOetgrONCqmg",
        "colab_type": "code",
        "colab": {}
      },
      "source": [
        "model.compile(optimizer='adam', loss=[mean_squared_error, mean_squared_error], loss_weights=[0.9, 0.1])"
      ],
      "execution_count": 0,
      "outputs": []
    },
    {
      "cell_type": "markdown",
      "metadata": {
        "id": "K6_PnajvHAo9",
        "colab_type": "text"
      },
      "source": [
        "# train"
      ]
    },
    {
      "cell_type": "code",
      "metadata": {
        "id": "bPOTkeCACqqh",
        "colab_type": "code",
        "colab": {
          "base_uri": "https://localhost:8080/",
          "height": 390
        },
        "outputId": "546bd144-42fc-468c-e1ca-612a00f9c672"
      },
      "source": [
        "history = model.fit([X_train_A, X_train_B],\n",
        "                    [y_train, y_train],\n",
        "                    batch_size=100,\n",
        "                    epochs=10,\n",
        "                    validation_data=([X_valid_A, X_valid_B], [y_valid, y_valid])\n",
        "                    )"
      ],
      "execution_count": 25,
      "outputs": [
        {
          "output_type": "stream",
          "text": [
            "Train on 14448 samples, validate on 6192 samples\n",
            "Epoch 1/10\n",
            "14448/14448 [==============================] - 1s 41us/step - loss: 2.3932 - output_1_loss: 2.3486 - output_2_loss: 2.7562 - val_loss: 1.2316 - val_output_1_loss: 1.2114 - val_output_2_loss: 1.4132\n",
            "Epoch 2/10\n",
            "14448/14448 [==============================] - 0s 18us/step - loss: 0.9843 - output_1_loss: 0.9723 - output_2_loss: 1.0859 - val_loss: 0.7586 - val_output_1_loss: 0.7517 - val_output_2_loss: 0.8206\n",
            "Epoch 3/10\n",
            "14448/14448 [==============================] - 0s 18us/step - loss: 0.6840 - output_1_loss: 0.6769 - output_2_loss: 0.7476 - val_loss: 0.5844 - val_output_1_loss: 0.5781 - val_output_2_loss: 0.6405\n",
            "Epoch 4/10\n",
            "14448/14448 [==============================] - 0s 18us/step - loss: 0.5661 - output_1_loss: 0.5593 - output_2_loss: 0.6282 - val_loss: 0.5148 - val_output_1_loss: 0.5076 - val_output_2_loss: 0.5797\n",
            "Epoch 5/10\n",
            "14448/14448 [==============================] - 0s 18us/step - loss: 0.5131 - output_1_loss: 0.5047 - output_2_loss: 0.5865 - val_loss: 0.4781 - val_output_1_loss: 0.4701 - val_output_2_loss: 0.5505\n",
            "Epoch 6/10\n",
            "14448/14448 [==============================] - 0s 18us/step - loss: 0.4790 - output_1_loss: 0.4687 - output_2_loss: 0.5606 - val_loss: 0.4517 - val_output_1_loss: 0.4429 - val_output_2_loss: 0.5318\n",
            "Epoch 7/10\n",
            "14448/14448 [==============================] - 0s 19us/step - loss: 0.4516 - output_1_loss: 0.4417 - output_2_loss: 0.5421 - val_loss: 0.4313 - val_output_1_loss: 0.4223 - val_output_2_loss: 0.5128\n",
            "Epoch 8/10\n",
            "14448/14448 [==============================] - 0s 18us/step - loss: 0.4310 - output_1_loss: 0.4205 - output_2_loss: 0.5259 - val_loss: 0.4188 - val_output_1_loss: 0.4094 - val_output_2_loss: 0.5039\n",
            "Epoch 9/10\n",
            "14448/14448 [==============================] - 0s 18us/step - loss: 0.4204 - output_1_loss: 0.4096 - output_2_loss: 0.5171 - val_loss: 0.4125 - val_output_1_loss: 0.4021 - val_output_2_loss: 0.5056\n",
            "Epoch 10/10\n",
            "14448/14448 [==============================] - 0s 18us/step - loss: 0.4044 - output_1_loss: 0.3931 - output_2_loss: 0.5006 - val_loss: 0.3965 - val_output_1_loss: 0.3871 - val_output_2_loss: 0.4812\n"
          ],
          "name": "stdout"
        }
      ]
    },
    {
      "cell_type": "markdown",
      "metadata": {
        "id": "ToUDJnp_IF2O",
        "colab_type": "text"
      },
      "source": [
        "# evaluate"
      ]
    },
    {
      "cell_type": "code",
      "metadata": {
        "id": "p9fAYVZ1CqkR",
        "colab_type": "code",
        "colab": {
          "base_uri": "https://localhost:8080/",
          "height": 50
        },
        "outputId": "09d44dcc-1ee4-4f7b-85ae-157767887de0"
      },
      "source": [
        "model.evaluate([X_test_A, X_test_B], [y_test, y_test])"
      ],
      "execution_count": 26,
      "outputs": [
        {
          "output_type": "stream",
          "text": [
            "6192/6192 [==============================] - 0s 23us/step\n"
          ],
          "name": "stdout"
        },
        {
          "output_type": "execute_result",
          "data": {
            "text/plain": [
              "[0.3965100251735027, 0.3864307105541229, 0.4803713858127594]"
            ]
          },
          "metadata": {
            "tags": []
          },
          "execution_count": 26
        }
      ]
    },
    {
      "cell_type": "code",
      "metadata": {
        "id": "fehUT6gGCqfj",
        "colab_type": "code",
        "colab": {}
      },
      "source": [
        ""
      ],
      "execution_count": 0,
      "outputs": []
    },
    {
      "cell_type": "code",
      "metadata": {
        "id": "-LhoCe6tCqdL",
        "colab_type": "code",
        "colab": {}
      },
      "source": [
        ""
      ],
      "execution_count": 0,
      "outputs": []
    },
    {
      "cell_type": "code",
      "metadata": {
        "id": "xLX7HT4vCqba",
        "colab_type": "code",
        "colab": {}
      },
      "source": [
        ""
      ],
      "execution_count": 0,
      "outputs": []
    },
    {
      "cell_type": "code",
      "metadata": {
        "id": "3_hfOcBxCqZT",
        "colab_type": "code",
        "colab": {}
      },
      "source": [
        ""
      ],
      "execution_count": 0,
      "outputs": []
    }
  ]
}